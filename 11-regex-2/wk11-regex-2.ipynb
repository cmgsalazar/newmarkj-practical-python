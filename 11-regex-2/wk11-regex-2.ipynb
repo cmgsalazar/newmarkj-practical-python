{
 "cells": [
  {
   "cell_type": "markdown",
   "id": "eb73954a",
   "metadata": {},
   "source": [
    "# Regular Expressions (regex) - Part 2\n",
    "\n",
    "### We'll now connect ```regex``` to ```Python```.\n",
    "\n",
    "**Pages we need:**\n",
    "\n",
    "- Live testing: https://regex101.com/\n",
    "- Sandeep's <a href=\"https://docs.google.com/spreadsheets/d/1A39lM4SiGZbzZPxrjEXkR05aksAewudccWmojoIU0Gk/edit?usp=sharing\">REGEX Tip sheet</a>\n",
    "- Download <a href=\"https://drive.google.com/file/d/1thZ7xDTb0IXiauaSvxMskDL_BAFjM_fi/view?usp=sharing\">this notebook demo text</a>\n",
    "- Download these <a href=\"https://drive.google.com/file/d/1nZ6GMwQKuQEQ2zKftkod4oHh-RqxfwXB/view?usp=sharing\">confesssion judgment excerpts</a>"
   ]
  },
  {
   "cell_type": "markdown",
   "id": "6addc390-79db-4403-87bf-27ac898deafe",
   "metadata": {},
   "source": [
    "## `Regex` Packages\n",
    "\n",
    "* `re` is the oldest and most widely used library. It's showing its age!\n",
    "* `regex` is a newer, fresher library with major advantages over `re` as you get more advanced."
   ]
  },
  {
   "cell_type": "code",
   "execution_count": 1,
   "id": "02008c0a-cf89-4b56-8a1b-750a0c64e871",
   "metadata": {},
   "outputs": [],
   "source": [
    "# import libraries\n",
    "import regex as re\n",
    "import pandas as pd\n",
    "import glob"
   ]
  },
  {
   "cell_type": "code",
   "execution_count": 2,
   "id": "11fb26ca",
   "metadata": {},
   "outputs": [],
   "source": [
    "## Run this cell\n",
    "some_text = \"The dog barked at the other dog, cat and kitten.\""
   ]
  },
  {
   "cell_type": "markdown",
   "id": "13e0e96d-0249-490e-a6fe-1fcbefd9cb72",
   "metadata": {},
   "source": [
    "### Simple Python literal search"
   ]
  },
  {
   "cell_type": "code",
   "execution_count": 3,
   "id": "bdbd397c",
   "metadata": {},
   "outputs": [
    {
     "data": {
      "text/plain": [
       "True"
      ]
     },
     "execution_count": 3,
     "metadata": {},
     "output_type": "execute_result"
    }
   ],
   "source": [
    "# is dog in my text\n",
    "\"dog\" in some_text"
   ]
  },
  {
   "cell_type": "markdown",
   "id": "0c12a764-a054-48b3-a4f4-58b83fc8bf44",
   "metadata": {},
   "source": [
    "### 1. `regex` pattern compilation\n",
    "\n",
    "To use a regex pattern effectively, we first need to compile it. \n",
    "\n",
    "This basically means we are taking a regex pattern, turning it into something that Python can easily understand — a `regex Python object`. \n",
    "\n",
    "`regex.compile(some_pattern)` or `re.compile(some_pattern)`"
   ]
  },
  {
   "cell_type": "code",
   "execution_count": 4,
   "id": "a2655ef0",
   "metadata": {},
   "outputs": [
    {
     "data": {
      "text/plain": [
       "_regex.Pattern"
      ]
     },
     "execution_count": 4,
     "metadata": {},
     "output_type": "execute_result"
    }
   ],
   "source": [
    "# set a pattern to find all the words 'dog' \n",
    "dog_pat = re.compile(r\"d\\wg\")\n",
    "type(dog_pat)"
   ]
  },
  {
   "cell_type": "markdown",
   "id": "ca1f6434-f99f-4a6c-a3c5-e9f749b0a0b7",
   "metadata": {},
   "source": [
    "### 2. `search`\n",
    "\n",
    "* Like `find()` in BeautifulSoup, `search()` returns ONLY the first instance of text found by a pattern.\n",
    "* It also tells you where a patter was found.\n",
    "* Knowing that an instance of a pattern match exists can be used to our advantage (more on this later).\n",
    "\n",
    "`a_result = pattern_variable.search(some_string)`"
   ]
  },
  {
   "cell_type": "code",
   "execution_count": 5,
   "id": "c4141d52-839c-4515-b361-dc904bb05bed",
   "metadata": {},
   "outputs": [
    {
     "data": {
      "text/plain": [
       "<regex.Match object; span=(4, 7), match='dog'>"
      ]
     },
     "execution_count": 5,
     "metadata": {},
     "output_type": "execute_result"
    }
   ],
   "source": [
    "# search for pattern\n",
    "dog_pat.search(some_text)"
   ]
  },
  {
   "cell_type": "code",
   "execution_count": 6,
   "id": "f75aa49d",
   "metadata": {},
   "outputs": [],
   "source": [
    "## run this\n",
    "other_text = \"The military vet who loves her dog was able to overcome her PTSD with the help of a service dog.\""
   ]
  },
  {
   "cell_type": "code",
   "execution_count": 7,
   "id": "309ba64c",
   "metadata": {},
   "outputs": [
    {
     "data": {
      "text/plain": [
       "_regex.Match"
      ]
     },
     "execution_count": 7,
     "metadata": {},
     "output_type": "execute_result"
    }
   ],
   "source": [
    "# what type of object\n",
    "type(dog_pat.search(other_text))"
   ]
  },
  {
   "cell_type": "code",
   "execution_count": 8,
   "id": "e8de56a5",
   "metadata": {},
   "outputs": [
    {
     "data": {
      "text/plain": [
       "<regex.Match object; span=(31, 34), match='dog'>"
      ]
     },
     "execution_count": 8,
     "metadata": {},
     "output_type": "execute_result"
    }
   ],
   "source": [
    "# search for pattern\n",
    "dog_pat.search(other_text)"
   ]
  },
  {
   "cell_type": "markdown",
   "id": "8e642979-8e43-42ab-b343-b2520047b641",
   "metadata": {},
   "source": [
    "### 3. Returning the match objects\n",
    "\n",
    "We usually want to do more than simply know that a pattern exists or return its first instance. Ideally, we want to capture it and place it in a spreadsheet. \n",
    "\n",
    "The `group()` method returns the matched pattern as text."
   ]
  },
  {
   "cell_type": "code",
   "execution_count": 9,
   "id": "1bc964ac-7c4e-4506-8077-5d4b91dcdd57",
   "metadata": {},
   "outputs": [
    {
     "data": {
      "text/plain": [
       "<regex.Match object; span=(31, 34), match='dog'>"
      ]
     },
     "execution_count": 9,
     "metadata": {},
     "output_type": "execute_result"
    }
   ],
   "source": [
    "# run dog patter and save in vet_dog\n",
    "vet_dog = dog_pat.search(other_text)\n",
    "vet_dog"
   ]
  },
  {
   "cell_type": "code",
   "execution_count": 10,
   "id": "eafec85a-4dd6-440e-b74b-d5bbd4e671d2",
   "metadata": {},
   "outputs": [
    {
     "data": {
      "text/plain": [
       "'dog'"
      ]
     },
     "execution_count": 10,
     "metadata": {},
     "output_type": "execute_result"
    }
   ],
   "source": [
    "# pull out the matched pattern itself\n",
    "vet_dog.group()"
   ]
  },
  {
   "cell_type": "code",
   "execution_count": 11,
   "id": "e713c3ae-941d-4796-adff-f36bace4dbc0",
   "metadata": {},
   "outputs": [
    {
     "data": {
      "text/plain": [
       "str"
      ]
     },
     "execution_count": 11,
     "metadata": {},
     "output_type": "execute_result"
    }
   ],
   "source": [
    "# type\n",
    "type(vet_dog.group())"
   ]
  },
  {
   "cell_type": "markdown",
   "id": "fa15d39d-ceb6-4a71-9be1-862a1897b97b",
   "metadata": {},
   "source": [
    "## Read our demo text"
   ]
  },
  {
   "cell_type": "code",
   "execution_count": 12,
   "id": "8f7f47a8-1964-4930-aff5-a1aeaf42a93e",
   "metadata": {},
   "outputs": [],
   "source": [
    "# read the file\n",
    "with open(\"regex-notebook-demo.txt\", \"r\") as text_obj:\n",
    "    demo_text = text_obj.read()"
   ]
  },
  {
   "cell_type": "code",
   "execution_count": 13,
   "id": "f1a4a0af-7444-4775-9ee4-8d16bfc7669f",
   "metadata": {},
   "outputs": [
    {
     "name": "stdout",
     "output_type": "stream",
     "text": [
      "12534 127 ab aba abba sandeepj@bloomberg.net abbba, abbbbba, (518) 469-4581 abcde.The dog is a not a hog. ABA ABBA ABBBA.\n",
      "\n",
      "Florence smith\n",
      "John Smith\n",
      "Carol Brown Tel. 212-452-5728\n",
      "\n",
      "\n",
      "Ab_CD123  123456 and 12456\ttor 12531245134562. 123867584789. $40.44 or $3 or $52,583.08 or $610,235.11\n",
      "Tel. (917) 492-8601\n",
      "\n",
      "The cat sat down and called 514-957-3453 while the other caaaaaat purred. This cat is in California while this caaaat is in Iraq, but none are in ct. My dog prefers cat food to dog food but hates fish food.My food tastes yummy!\n",
      "Peter Trapp Jon Smythe Luca Smith John Smythe\n",
      "Maggie Veach Tel. 718 601 7567\n",
      "\n",
      "AB_cd \t<+>-.,!@# $%^&*();\\/|_^@1# (917) 488-5410\n",
      "\n",
      "*!dsar2d1\n",
      "\n",
      "I told him to search Jon Smith\n",
      "Katie Pine\n",
      "John Smth\n",
      "\n",
      "TELEPHONE NUMBERS\n",
      "Tel. 718-392-4793\n",
      "Tel. (646) 469-3211\n",
      "Tel. 917.425.2796\n",
      "\n",
      "NUMBERS\n",
      "1\n",
      "12\n",
      "123\n",
      "123,456\n",
      "123,456,789\n",
      "123,456,789.01\n",
      "\n",
      "EMAILS\n",
      "sandeep.junnarkar@journalism.cuny.edu\n",
      "sandeepj@gmail.com\n",
      "sjunnarkar@bloomberg.net\n",
      "sandeep.junnarkar@news.co.uk\n",
      "\n",
      "\n",
      "POLICE\n",
      "Det. Frank Castille\n",
      "Police Officer Dan D. Dennings\n",
      "Lt. Patrician Grace\n",
      "Detective Susan Treeble\n",
      "Officer Cantwell Brady-Stevens\n",
      "\n",
      "Novel Djokvichthe thesaurus where sandeep.junnarkar@journalism.cuny.edu he'd be able to sjnews@gmail.com find words like them.\n",
      "\n",
      "abcdefgczhijklmnopqrstuvwxyz\tABCDEFGCZHIJKLMNOPQRSTUVWXYZ\n",
      "\n",
      "A h0g is a hog.\n",
      "\n",
      "Dog and dog and DOG. His number is 415.458.9163. John Brown jon Smith\n",
      "Peter Finch\n",
      "\n",
      "&^%@ 129\n",
      "\n",
      "$12,560\n",
      "\n",
      "abba\n",
      "\n",
      "cat 3452 black\n",
      "dog 234 white\n",
      "fish 3562 silver\n",
      "rat 94 white\n",
      "bird 1957 purple\n",
      "horse 3 black\n",
      "chameleon  5724 green\n",
      "snake 6730 red\n"
     ]
    }
   ],
   "source": [
    "print(demo_text)"
   ]
  },
  {
   "cell_type": "markdown",
   "id": "7d2b4639-9b94-4466-b288-2c6cd54d36e0",
   "metadata": {},
   "source": [
    "### 4. `findall` finds every item that matches a pattern\n",
    "\n",
    "`pattern.findall(text)`"
   ]
  },
  {
   "cell_type": "code",
   "execution_count": 14,
   "id": "713b5702-67fb-490b-8b82-bf35ab0cba13",
   "metadata": {},
   "outputs": [
    {
     "data": {
      "text/plain": [
       "['12534',\n",
       " '127',\n",
       " 'ab',\n",
       " 'aba',\n",
       " 'abba',\n",
       " 'sandeepj',\n",
       " 'bloomberg',\n",
       " 'net',\n",
       " 'abbba',\n",
       " 'abbbbba',\n",
       " '518',\n",
       " '469',\n",
       " '4581',\n",
       " 'abcde',\n",
       " 'The',\n",
       " 'dog',\n",
       " 'is',\n",
       " 'a',\n",
       " 'not',\n",
       " 'a',\n",
       " 'hog',\n",
       " 'ABA',\n",
       " 'ABBA',\n",
       " 'ABBBA',\n",
       " 'Florence',\n",
       " 'smith',\n",
       " 'John',\n",
       " 'Smith',\n",
       " 'Carol',\n",
       " 'Brown',\n",
       " 'Tel',\n",
       " '212',\n",
       " '452',\n",
       " '5728',\n",
       " 'Ab_CD123',\n",
       " '123456',\n",
       " 'and',\n",
       " '12456',\n",
       " 'tor',\n",
       " '12531245134562',\n",
       " '123867584789',\n",
       " '40',\n",
       " '44',\n",
       " 'or',\n",
       " '3',\n",
       " 'or',\n",
       " '52',\n",
       " '583',\n",
       " '08',\n",
       " 'or',\n",
       " '610',\n",
       " '235',\n",
       " '11',\n",
       " 'Tel',\n",
       " '917',\n",
       " '492',\n",
       " '8601',\n",
       " 'The',\n",
       " 'cat',\n",
       " 'sat',\n",
       " 'down',\n",
       " 'and',\n",
       " 'called',\n",
       " '514',\n",
       " '957',\n",
       " '3453',\n",
       " 'while',\n",
       " 'the',\n",
       " 'other',\n",
       " 'caaaaaat',\n",
       " 'purred',\n",
       " 'This',\n",
       " 'cat',\n",
       " 'is',\n",
       " 'in',\n",
       " 'California',\n",
       " 'while',\n",
       " 'this',\n",
       " 'caaaat',\n",
       " 'is',\n",
       " 'in',\n",
       " 'Iraq',\n",
       " 'but',\n",
       " 'none',\n",
       " 'are',\n",
       " 'in',\n",
       " 'ct',\n",
       " 'My',\n",
       " 'dog',\n",
       " 'prefers',\n",
       " 'cat',\n",
       " 'food',\n",
       " 'to',\n",
       " 'dog',\n",
       " 'food',\n",
       " 'but',\n",
       " 'hates',\n",
       " 'fish',\n",
       " 'food',\n",
       " 'My',\n",
       " 'food',\n",
       " 'tastes',\n",
       " 'yummy',\n",
       " 'Peter',\n",
       " 'Trapp',\n",
       " 'Jon',\n",
       " 'Smythe',\n",
       " 'Luca',\n",
       " 'Smith',\n",
       " 'John',\n",
       " 'Smythe',\n",
       " 'Maggie',\n",
       " 'Veach',\n",
       " 'Tel',\n",
       " '718',\n",
       " '601',\n",
       " '7567',\n",
       " 'AB_cd',\n",
       " '_',\n",
       " '1',\n",
       " '917',\n",
       " '488',\n",
       " '5410',\n",
       " 'dsar2d1',\n",
       " 'I',\n",
       " 'told',\n",
       " 'him',\n",
       " 'to',\n",
       " 'search',\n",
       " 'Jon',\n",
       " 'Smith',\n",
       " 'Katie',\n",
       " 'Pine',\n",
       " 'John',\n",
       " 'Smth',\n",
       " 'TELEPHONE',\n",
       " 'NUMBERS',\n",
       " 'Tel',\n",
       " '718',\n",
       " '392',\n",
       " '4793',\n",
       " 'Tel',\n",
       " '646',\n",
       " '469',\n",
       " '3211',\n",
       " 'Tel',\n",
       " '917',\n",
       " '425',\n",
       " '2796',\n",
       " 'NUMBERS',\n",
       " '1',\n",
       " '12',\n",
       " '123',\n",
       " '123',\n",
       " '456',\n",
       " '123',\n",
       " '456',\n",
       " '789',\n",
       " '123',\n",
       " '456',\n",
       " '789',\n",
       " '01',\n",
       " 'EMAILS',\n",
       " 'sandeep',\n",
       " 'junnarkar',\n",
       " 'journalism',\n",
       " 'cuny',\n",
       " 'edu',\n",
       " 'sandeepj',\n",
       " 'gmail',\n",
       " 'com',\n",
       " 'sjunnarkar',\n",
       " 'bloomberg',\n",
       " 'net',\n",
       " 'sandeep',\n",
       " 'junnarkar',\n",
       " 'news',\n",
       " 'co',\n",
       " 'uk',\n",
       " 'POLICE',\n",
       " 'Det',\n",
       " 'Frank',\n",
       " 'Castille',\n",
       " 'Police',\n",
       " 'Officer',\n",
       " 'Dan',\n",
       " 'D',\n",
       " 'Dennings',\n",
       " 'Lt',\n",
       " 'Patrician',\n",
       " 'Grace',\n",
       " 'Detective',\n",
       " 'Susan',\n",
       " 'Treeble',\n",
       " 'Officer',\n",
       " 'Cantwell',\n",
       " 'Brady',\n",
       " 'Stevens',\n",
       " 'Novel',\n",
       " 'Djokvichthe',\n",
       " 'thesaurus',\n",
       " 'where',\n",
       " 'sandeep',\n",
       " 'junnarkar',\n",
       " 'journalism',\n",
       " 'cuny',\n",
       " 'edu',\n",
       " 'he',\n",
       " 'd',\n",
       " 'be',\n",
       " 'able',\n",
       " 'to',\n",
       " 'sjnews',\n",
       " 'gmail',\n",
       " 'com',\n",
       " 'find',\n",
       " 'words',\n",
       " 'like',\n",
       " 'them',\n",
       " 'abcdefgczhijklmnopqrstuvwxyz',\n",
       " 'ABCDEFGCZHIJKLMNOPQRSTUVWXYZ',\n",
       " 'A',\n",
       " 'h0g',\n",
       " 'is',\n",
       " 'a',\n",
       " 'hog',\n",
       " 'Dog',\n",
       " 'and',\n",
       " 'dog',\n",
       " 'and',\n",
       " 'DOG',\n",
       " 'His',\n",
       " 'number',\n",
       " 'is',\n",
       " '415',\n",
       " '458',\n",
       " '9163',\n",
       " 'John',\n",
       " 'Brown',\n",
       " 'jon',\n",
       " 'Smith',\n",
       " 'Peter',\n",
       " 'Finch',\n",
       " '129',\n",
       " '12',\n",
       " '560',\n",
       " 'abba',\n",
       " 'cat',\n",
       " '3452',\n",
       " 'black',\n",
       " 'dog',\n",
       " '234',\n",
       " 'white',\n",
       " 'fish',\n",
       " '3562',\n",
       " 'silver',\n",
       " 'rat',\n",
       " '94',\n",
       " 'white',\n",
       " 'bird',\n",
       " '1957',\n",
       " 'purple',\n",
       " 'horse',\n",
       " '3',\n",
       " 'black',\n",
       " 'chameleon',\n",
       " '5724',\n",
       " 'green',\n",
       " 'snake',\n",
       " '6730',\n",
       " 'red']"
      ]
     },
     "execution_count": 14,
     "metadata": {},
     "output_type": "execute_result"
    }
   ],
   "source": [
    "# use findall to find all matching text instances of grouped letters, numbers, and underscores\n",
    "pat1 = re.compile(r\"\\w+\")\n",
    "pat1.findall(demo_text)"
   ]
  },
  {
   "cell_type": "code",
   "execution_count": 15,
   "id": "25c6c558-8011-4717-a015-b2a669ecf5f9",
   "metadata": {},
   "outputs": [
    {
     "data": {
      "text/plain": [
       "list"
      ]
     },
     "execution_count": 15,
     "metadata": {},
     "output_type": "execute_result"
    }
   ],
   "source": [
    "type(pat1.findall(demo_text))"
   ]
  },
  {
   "cell_type": "code",
   "execution_count": 16,
   "id": "fdf40603-8f68-48d0-8270-f960520256e5",
   "metadata": {},
   "outputs": [],
   "source": [
    "# \"a\" followed by 1 or 2 \"b\"\"\n",
    "pat2 = re.compile(r\"ab{1,2}\")"
   ]
  },
  {
   "cell_type": "code",
   "execution_count": 17,
   "id": "5caa5360-f511-4942-9fbc-ca67439bdcd1",
   "metadata": {},
   "outputs": [
    {
     "data": {
      "text/plain": [
       "['ab', 'ab', 'abb', 'abb', 'abb', 'ab', 'ab', 'ab', 'abb']"
      ]
     },
     "execution_count": 17,
     "metadata": {},
     "output_type": "execute_result"
    }
   ],
   "source": [
    "pat2.findall(demo_text)"
   ]
  },
  {
   "cell_type": "code",
   "execution_count": 18,
   "id": "1132a27e-4ec5-4b6b-8cdc-1113495be207",
   "metadata": {},
   "outputs": [
    {
     "data": {
      "text/plain": [
       "regex.Regex('ab{1,2}', flags=regex.V0)"
      ]
     },
     "execution_count": 18,
     "metadata": {},
     "output_type": "execute_result"
    }
   ],
   "source": [
    "pat2"
   ]
  },
  {
   "cell_type": "markdown",
   "id": "913bac83-6c9f-429c-b36d-e9b9953df514",
   "metadata": {},
   "source": [
    "### 5. Flags\n",
    "\n",
    "Regex flags are optional modifiers that alter the behavior of regular explressuins, like making it case-insensitive. \n",
    "\n",
    "`re.IGNORECASE` or `re.I` for ignore case\n",
    "\n",
    "`re.complies(some_pattern, re.I)`"
   ]
  },
  {
   "cell_type": "code",
   "execution_count": 19,
   "id": "7ea4aae2-d447-460e-a767-5b098d5b5da3",
   "metadata": {},
   "outputs": [],
   "source": [
    "pat2 = re.compile(r\"ab{1,2}\", re.I)"
   ]
  },
  {
   "cell_type": "code",
   "execution_count": 20,
   "id": "a557e398-a039-47ae-b1fa-277cce042302",
   "metadata": {},
   "outputs": [
    {
     "data": {
      "text/plain": [
       "['ab',\n",
       " 'ab',\n",
       " 'abb',\n",
       " 'abb',\n",
       " 'abb',\n",
       " 'ab',\n",
       " 'AB',\n",
       " 'ABB',\n",
       " 'ABB',\n",
       " 'Ab',\n",
       " 'AB',\n",
       " 'ab',\n",
       " 'ab',\n",
       " 'AB',\n",
       " 'abb']"
      ]
     },
     "execution_count": 20,
     "metadata": {},
     "output_type": "execute_result"
    }
   ],
   "source": [
    "pat2.findall(demo_text)"
   ]
  },
  {
   "cell_type": "code",
   "execution_count": 21,
   "id": "b38a3c97-c675-4846-86ff-a343ab5669c0",
   "metadata": {},
   "outputs": [],
   "source": [
    "# find dog, ignore case\n",
    "pat3 = re.compile(r\"dog\", re.I)"
   ]
  },
  {
   "cell_type": "code",
   "execution_count": 22,
   "id": "232244fa-94e3-4af7-b469-03dec2bd927d",
   "metadata": {},
   "outputs": [
    {
     "data": {
      "text/plain": [
       "['dog', 'dog', 'dog', 'Dog', 'dog', 'DOG', 'dog']"
      ]
     },
     "execution_count": 22,
     "metadata": {},
     "output_type": "execute_result"
    }
   ],
   "source": [
    "pat3.findall(demo_text)"
   ]
  },
  {
   "cell_type": "code",
   "execution_count": 23,
   "id": "fbde8e57-c0a4-4e4c-a623-9402f3d43a18",
   "metadata": {},
   "outputs": [],
   "source": [
    "# without ignore case\n",
    "pat4 = re.compile(r\"dog\")"
   ]
  },
  {
   "cell_type": "code",
   "execution_count": 24,
   "id": "9554a98c-9fc2-4103-8643-42bde221c8c8",
   "metadata": {},
   "outputs": [
    {
     "data": {
      "text/plain": [
       "['dog', 'dog', 'dog', 'dog', 'dog']"
      ]
     },
     "execution_count": 24,
     "metadata": {},
     "output_type": "execute_result"
    }
   ],
   "source": [
    "pat4.findall(demo_text)"
   ]
  },
  {
   "cell_type": "markdown",
   "id": "6e9c6cc9-1b86-4e97-a733-a5b4dd3b57bb",
   "metadata": {},
   "source": [
    "## Put Regex to work"
   ]
  },
  {
   "cell_type": "code",
   "execution_count": 25,
   "id": "6334f302",
   "metadata": {},
   "outputs": [],
   "source": [
    "## text string for demo\n",
    "string = '''line 1 with more to follow.\n",
    "\n",
    "this is line 2\n",
    "\n",
    "LINE 3 has more...\n",
    "\n",
    "Text before line 4\n",
    "'''"
   ]
  },
  {
   "cell_type": "code",
   "execution_count": 26,
   "id": "ebf162da",
   "metadata": {},
   "outputs": [
    {
     "name": "stdout",
     "output_type": "stream",
     "text": [
      "line 1 with more to follow.\n",
      "\n",
      "this is line 2\n",
      "\n",
      "LINE 3 has more...\n",
      "\n",
      "Text before line 4\n",
      "\n"
     ]
    }
   ],
   "source": [
    "print(string)"
   ]
  },
  {
   "cell_type": "markdown",
   "id": "cdfe22a8-eaea-4ad4-bbfd-429e26bd2ce0",
   "metadata": {},
   "source": [
    "### `string` analysis\n",
    "\n",
    "* The string starts with line `\n",
    "* While there appear to be four lines with the line #, and three blank lines, this is actually considered on string block by `regex`\n",
    "* To treat the block as having multiple lines, we need to use `re.MULTILINE` or `re.M`."
   ]
  },
  {
   "cell_type": "code",
   "execution_count": 27,
   "id": "e31db0c7",
   "metadata": {},
   "outputs": [],
   "source": [
    "# pattern to find all \"line number\"\n",
    "pat = re.compile(r\"line\\s\\d\")"
   ]
  },
  {
   "cell_type": "code",
   "execution_count": 28,
   "id": "3a5d8b14-7d82-4985-9607-df6b5c827419",
   "metadata": {},
   "outputs": [
    {
     "data": {
      "text/plain": [
       "['line 1', 'line 2', 'line 4']"
      ]
     },
     "execution_count": 28,
     "metadata": {},
     "output_type": "execute_result"
    }
   ],
   "source": [
    "pat.findall(string)"
   ]
  },
  {
   "cell_type": "code",
   "execution_count": 29,
   "id": "29af57df-1c3c-4827-9d1b-a3cbe1f0b7bb",
   "metadata": {},
   "outputs": [],
   "source": [
    "# pattern to find all line with number\n",
    "pat2 = re.compile(r\"^line\\s\\d\")"
   ]
  },
  {
   "cell_type": "code",
   "execution_count": 30,
   "id": "d9ee18a4-7561-4a7c-839f-6a4e1a858293",
   "metadata": {},
   "outputs": [
    {
     "data": {
      "text/plain": [
       "['line 1']"
      ]
     },
     "execution_count": 30,
     "metadata": {},
     "output_type": "execute_result"
    }
   ],
   "source": [
    "pat2.findall(string)"
   ]
  },
  {
   "cell_type": "code",
   "execution_count": 31,
   "id": "6041cfc6-8b55-4cd8-877f-d646a876d52d",
   "metadata": {},
   "outputs": [],
   "source": [
    "# pattern to find all with number at start of the line with re.M\n",
    "pat3 = re.compile(r\"line\\s\\d\", flags=re.I | re.M)"
   ]
  },
  {
   "cell_type": "code",
   "execution_count": 32,
   "id": "f8cf9380-bd5b-4f1b-b2df-bbc9c5a34ca5",
   "metadata": {},
   "outputs": [
    {
     "data": {
      "text/plain": [
       "['line 1', 'line 2', 'LINE 3', 'line 4']"
      ]
     },
     "execution_count": 32,
     "metadata": {},
     "output_type": "execute_result"
    }
   ],
   "source": [
    "pat3.findall(string)"
   ]
  },
  {
   "cell_type": "code",
   "execution_count": 33,
   "id": "b4e09fb7-a46d-42d4-b928-9e8b421e1aa8",
   "metadata": {},
   "outputs": [],
   "source": [
    "# pattern to find all line with number at the end of the line\n",
    "pat4 = re.compile(r\"line\\s\\d$\", flags=re.I | re.M)"
   ]
  },
  {
   "cell_type": "code",
   "execution_count": 34,
   "id": "ac3b6282-ac73-4192-a506-1d37c81c7690",
   "metadata": {},
   "outputs": [
    {
     "data": {
      "text/plain": [
       "['line 2', 'line 4']"
      ]
     },
     "execution_count": 34,
     "metadata": {},
     "output_type": "execute_result"
    }
   ],
   "source": [
    "pat4.findall(string)"
   ]
  },
  {
   "cell_type": "markdown",
   "id": "4c375f7c-5a86-4801-8c32-e6a4dcd01dcb",
   "metadata": {},
   "source": [
    "#### `re.DOTALL` or `re.S` for period includes new lines"
   ]
  },
  {
   "cell_type": "code",
   "execution_count": 35,
   "id": "10e7e6f4-d49b-4746-9fce-a229c98f6999",
   "metadata": {},
   "outputs": [],
   "source": [
    "# without a dotall pattern\n",
    "pat5 = re.compile(r\".*\")"
   ]
  },
  {
   "cell_type": "code",
   "execution_count": 36,
   "id": "64b28d53-dc78-4e65-af9d-b6aea2999004",
   "metadata": {},
   "outputs": [
    {
     "data": {
      "text/plain": [
       "<regex.Match object; span=(0, 27), match='line 1 with more to follow.'>"
      ]
     },
     "execution_count": 36,
     "metadata": {},
     "output_type": "execute_result"
    }
   ],
   "source": [
    "pat5.search(string)"
   ]
  },
  {
   "cell_type": "code",
   "execution_count": 37,
   "id": "e3a97b9f-b93a-4916-b90e-d3eb85fcb262",
   "metadata": {},
   "outputs": [],
   "source": [
    "pat6 = re.compile(r\".*\", re.DOTALL)"
   ]
  },
  {
   "cell_type": "code",
   "execution_count": 38,
   "id": "b8c8b4b6-fea6-48c4-8c22-df96f6ef4da5",
   "metadata": {},
   "outputs": [
    {
     "data": {
      "text/plain": [
       "<regex.Match object; span=(0, 84), match='line 1 with more to follow.\\n\\nthis is line 2\\n\\nLINE 3 has more...\\n\\nText before line 4\\n'>"
      ]
     },
     "execution_count": 38,
     "metadata": {},
     "output_type": "execute_result"
    }
   ],
   "source": [
    "pat6.search(string)"
   ]
  },
  {
   "cell_type": "markdown",
   "id": "a742db2c-3b5a-4094-9260-6c213042bf98",
   "metadata": {},
   "source": [
    "## Capture groups vs no capture groups"
   ]
  },
  {
   "cell_type": "code",
   "execution_count": 39,
   "id": "25f4c0ea-6546-4112-baed-87d450cf87b6",
   "metadata": {},
   "outputs": [],
   "source": [
    "# no capture groups\n",
    "animal_pat = re.compile(r\"^[a-z]+\\s+\\d{1,4}\\s+\\w+\", re.M)"
   ]
  },
  {
   "cell_type": "code",
   "execution_count": 40,
   "id": "24c065da-32d0-4de5-bb3b-5bca5b930e03",
   "metadata": {},
   "outputs": [
    {
     "data": {
      "text/plain": [
       "['cat 3452 black',\n",
       " 'dog 234 white',\n",
       " 'fish 3562 silver',\n",
       " 'rat 94 white',\n",
       " 'bird 1957 purple',\n",
       " 'horse 3 black',\n",
       " 'chameleon  5724 green',\n",
       " 'snake 6730 red']"
      ]
     },
     "execution_count": 40,
     "metadata": {},
     "output_type": "execute_result"
    }
   ],
   "source": [
    "# find targets\n",
    "animals_data = animal_pat.findall(demo_text)\n",
    "animals_data"
   ]
  },
  {
   "cell_type": "code",
   "execution_count": 41,
   "id": "f78818b9-a2ec-4c53-b3a1-132902eed414",
   "metadata": {},
   "outputs": [
    {
     "data": {
      "text/html": [
       "<div>\n",
       "<style scoped>\n",
       "    .dataframe tbody tr th:only-of-type {\n",
       "        vertical-align: middle;\n",
       "    }\n",
       "\n",
       "    .dataframe tbody tr th {\n",
       "        vertical-align: top;\n",
       "    }\n",
       "\n",
       "    .dataframe thead th {\n",
       "        text-align: right;\n",
       "    }\n",
       "</style>\n",
       "<table border=\"1\" class=\"dataframe\">\n",
       "  <thead>\n",
       "    <tr style=\"text-align: right;\">\n",
       "      <th></th>\n",
       "      <th>0</th>\n",
       "    </tr>\n",
       "  </thead>\n",
       "  <tbody>\n",
       "    <tr>\n",
       "      <th>0</th>\n",
       "      <td>cat 3452 black</td>\n",
       "    </tr>\n",
       "    <tr>\n",
       "      <th>1</th>\n",
       "      <td>dog 234 white</td>\n",
       "    </tr>\n",
       "    <tr>\n",
       "      <th>2</th>\n",
       "      <td>fish 3562 silver</td>\n",
       "    </tr>\n",
       "    <tr>\n",
       "      <th>3</th>\n",
       "      <td>rat 94 white</td>\n",
       "    </tr>\n",
       "    <tr>\n",
       "      <th>4</th>\n",
       "      <td>bird 1957 purple</td>\n",
       "    </tr>\n",
       "    <tr>\n",
       "      <th>5</th>\n",
       "      <td>horse 3 black</td>\n",
       "    </tr>\n",
       "    <tr>\n",
       "      <th>6</th>\n",
       "      <td>chameleon  5724 green</td>\n",
       "    </tr>\n",
       "    <tr>\n",
       "      <th>7</th>\n",
       "      <td>snake 6730 red</td>\n",
       "    </tr>\n",
       "  </tbody>\n",
       "</table>\n",
       "</div>"
      ],
      "text/plain": [
       "                       0\n",
       "0         cat 3452 black\n",
       "1          dog 234 white\n",
       "2       fish 3562 silver\n",
       "3           rat 94 white\n",
       "4       bird 1957 purple\n",
       "5          horse 3 black\n",
       "6  chameleon  5724 green\n",
       "7         snake 6730 red"
      ]
     },
     "execution_count": 41,
     "metadata": {},
     "output_type": "execute_result"
    }
   ],
   "source": [
    "# turn into df\n",
    "df = pd.DataFrame(animals_data)\n",
    "df"
   ]
  },
  {
   "cell_type": "code",
   "execution_count": 42,
   "id": "6e5dc5f6-0fad-41e7-918a-a7b96748910b",
   "metadata": {},
   "outputs": [],
   "source": [
    "# set pattern, using capture groups\n",
    "animal_pat2 = re.compile(r\"^([a-z]+)\\s+(\\d{1,4})\\s+(\\w+)\", re.M)"
   ]
  },
  {
   "cell_type": "code",
   "execution_count": 43,
   "id": "141684ab-7663-485d-98dc-5558d58fd79d",
   "metadata": {},
   "outputs": [
    {
     "data": {
      "text/plain": [
       "[('cat', '3452', 'black'),\n",
       " ('dog', '234', 'white'),\n",
       " ('fish', '3562', 'silver'),\n",
       " ('rat', '94', 'white'),\n",
       " ('bird', '1957', 'purple'),\n",
       " ('horse', '3', 'black'),\n",
       " ('chameleon', '5724', 'green'),\n",
       " ('snake', '6730', 'red')]"
      ]
     },
     "execution_count": 43,
     "metadata": {},
     "output_type": "execute_result"
    }
   ],
   "source": [
    "# find targets\n",
    "data = animal_pat2.findall(demo_text)\n",
    "data"
   ]
  },
  {
   "cell_type": "code",
   "execution_count": 44,
   "id": "ca498f44-6a11-4c0f-b36f-779aba4fb9cb",
   "metadata": {},
   "outputs": [
    {
     "data": {
      "text/html": [
       "<div>\n",
       "<style scoped>\n",
       "    .dataframe tbody tr th:only-of-type {\n",
       "        vertical-align: middle;\n",
       "    }\n",
       "\n",
       "    .dataframe tbody tr th {\n",
       "        vertical-align: top;\n",
       "    }\n",
       "\n",
       "    .dataframe thead th {\n",
       "        text-align: right;\n",
       "    }\n",
       "</style>\n",
       "<table border=\"1\" class=\"dataframe\">\n",
       "  <thead>\n",
       "    <tr style=\"text-align: right;\">\n",
       "      <th></th>\n",
       "      <th>anima</th>\n",
       "      <th>quantity</th>\n",
       "      <th>color</th>\n",
       "    </tr>\n",
       "  </thead>\n",
       "  <tbody>\n",
       "    <tr>\n",
       "      <th>0</th>\n",
       "      <td>cat</td>\n",
       "      <td>3452</td>\n",
       "      <td>black</td>\n",
       "    </tr>\n",
       "    <tr>\n",
       "      <th>1</th>\n",
       "      <td>dog</td>\n",
       "      <td>234</td>\n",
       "      <td>white</td>\n",
       "    </tr>\n",
       "    <tr>\n",
       "      <th>2</th>\n",
       "      <td>fish</td>\n",
       "      <td>3562</td>\n",
       "      <td>silver</td>\n",
       "    </tr>\n",
       "    <tr>\n",
       "      <th>3</th>\n",
       "      <td>rat</td>\n",
       "      <td>94</td>\n",
       "      <td>white</td>\n",
       "    </tr>\n",
       "    <tr>\n",
       "      <th>4</th>\n",
       "      <td>bird</td>\n",
       "      <td>1957</td>\n",
       "      <td>purple</td>\n",
       "    </tr>\n",
       "    <tr>\n",
       "      <th>5</th>\n",
       "      <td>horse</td>\n",
       "      <td>3</td>\n",
       "      <td>black</td>\n",
       "    </tr>\n",
       "    <tr>\n",
       "      <th>6</th>\n",
       "      <td>chameleon</td>\n",
       "      <td>5724</td>\n",
       "      <td>green</td>\n",
       "    </tr>\n",
       "    <tr>\n",
       "      <th>7</th>\n",
       "      <td>snake</td>\n",
       "      <td>6730</td>\n",
       "      <td>red</td>\n",
       "    </tr>\n",
       "  </tbody>\n",
       "</table>\n",
       "</div>"
      ],
      "text/plain": [
       "       anima quantity   color\n",
       "0        cat     3452   black\n",
       "1        dog      234   white\n",
       "2       fish     3562  silver\n",
       "3        rat       94   white\n",
       "4       bird     1957  purple\n",
       "5      horse        3   black\n",
       "6  chameleon     5724   green\n",
       "7      snake     6730     red"
      ]
     },
     "execution_count": 44,
     "metadata": {},
     "output_type": "execute_result"
    }
   ],
   "source": [
    "# turn into df\n",
    "df = pd.DataFrame(data)\n",
    "df.columns = [\"anima\", \"quantity\", \"color\"]\n",
    "df"
   ]
  },
  {
   "cell_type": "code",
   "execution_count": 45,
   "id": "04a53ffb-e4ae-4445-b649-e89db04cef02",
   "metadata": {},
   "outputs": [
    {
     "data": {
      "text/plain": [
       "list"
      ]
     },
     "execution_count": 45,
     "metadata": {},
     "output_type": "execute_result"
    }
   ],
   "source": [
    "type(data)"
   ]
  },
  {
   "cell_type": "code",
   "execution_count": 46,
   "id": "6faf06cd-d57d-4572-8de6-45dd99e72911",
   "metadata": {},
   "outputs": [
    {
     "data": {
      "text/plain": [
       "tuple"
      ]
     },
     "execution_count": 46,
     "metadata": {},
     "output_type": "execute_result"
    }
   ],
   "source": [
    "type(data[0])"
   ]
  },
  {
   "cell_type": "code",
   "execution_count": 47,
   "id": "edcf8e14-8781-47fc-ada9-df8b15711a06",
   "metadata": {},
   "outputs": [],
   "source": [
    "# what if we don't want the number / anchor using `?:`\n",
    "animal_pat3 = re.compile(r\"^([a-z]+)\\s+(?:\\d{1,4})\\s+(\\w+)\", re.M)\n",
    "\n",
    "# adds a marker using `?P<some_name>`\n",
    "animal_pat4 = re.compile(r\"^(?P<Animal>[a-z]+)\\s+(?:\\d{1,4})\\s+(\\w+)\", re.M)"
   ]
  },
  {
   "cell_type": "code",
   "execution_count": 48,
   "id": "80327c4c-e602-42b3-9ef4-bd8c4a68fca6",
   "metadata": {},
   "outputs": [
    {
     "data": {
      "text/plain": [
       "[('cat', 'black'),\n",
       " ('dog', 'white'),\n",
       " ('fish', 'silver'),\n",
       " ('rat', 'white'),\n",
       " ('bird', 'purple'),\n",
       " ('horse', 'black'),\n",
       " ('chameleon', 'green'),\n",
       " ('snake', 'red')]"
      ]
     },
     "execution_count": 48,
     "metadata": {},
     "output_type": "execute_result"
    }
   ],
   "source": [
    "more_data = animal_pat3.findall(demo_text)\n",
    "more_data"
   ]
  },
  {
   "cell_type": "code",
   "execution_count": 49,
   "id": "0a144b43-9c50-4d35-9e99-bccea0bb2a00",
   "metadata": {},
   "outputs": [
    {
     "data": {
      "text/plain": [
       "[('cat', 'black'),\n",
       " ('dog', 'white'),\n",
       " ('fish', 'silver'),\n",
       " ('rat', 'white'),\n",
       " ('bird', 'purple'),\n",
       " ('horse', 'black'),\n",
       " ('chameleon', 'green'),\n",
       " ('snake', 'red')]"
      ]
     },
     "execution_count": 49,
     "metadata": {},
     "output_type": "execute_result"
    }
   ],
   "source": [
    "new_data = animal_pat4.findall(demo_text)\n",
    "new_data"
   ]
  },
  {
   "cell_type": "markdown",
   "id": "5235f8b6",
   "metadata": {},
   "source": [
    "# Class Challenge"
   ]
  },
  {
   "cell_type": "markdown",
   "id": "41d655ce",
   "metadata": {},
   "source": [
    "## Confession Judgments\n",
    "\n",
    "Read <a href=\"https://drive.google.com/file/d/1nZ6GMwQKuQEQ2zKftkod4oHh-RqxfwXB/view?usp=sharing\">confesssion judgment excerpts</a> and place into a dataframe with column labels:\n",
    "\n",
    "- case number\n",
    "- date received\n",
    "- total repayment amount"
   ]
  },
  {
   "cell_type": "code",
   "execution_count": 50,
   "id": "f35f04a9-353a-4df0-8afb-be005f90ff1a",
   "metadata": {},
   "outputs": [],
   "source": [
    "# regex for case number\n",
    "pat_case_number = re.compile(r\"INDEX NO.\\s+(\\d+\\/\\d{4})\", re.I)"
   ]
  },
  {
   "cell_type": "code",
   "execution_count": 51,
   "id": "3e5a2e6e",
   "metadata": {},
   "outputs": [],
   "source": [
    "# defining regex for date received\n",
    "pat_date_received = re.compile(r\"NYSCEF:\\s{0,3}(\\d{2}\\/\\d{2}\\/\\d{4})\", re.I)\n",
    "\n",
    "# {0,} also works like *"
   ]
  },
  {
   "cell_type": "code",
   "execution_count": 52,
   "id": "c133aec1-e57f-4f91-94c4-b296bd37b37b",
   "metadata": {},
   "outputs": [],
   "source": [
    "# regex for repayment amount\n",
    "pat_repay_total = re.compile(r\"\\(\\$(\\d{1,3}(?:,?\\d{3})*\\.\\d{2})\\)\\W? within\", re.I)"
   ]
  },
  {
   "cell_type": "code",
   "execution_count": 53,
   "id": "d8fcd358",
   "metadata": {},
   "outputs": [],
   "source": [
    "# read file\n",
    "with open(\"confession-judgments.txt\", \"r\") as file:\n",
    "    confessions_text = file.read()"
   ]
  },
  {
   "cell_type": "code",
   "execution_count": 54,
   "id": "2037942b-7698-4a73-87be-7024da71e56b",
   "metadata": {},
   "outputs": [
    {
     "data": {
      "text/plain": [
       "['811678/2020', '813094/2020', '801263/2020']"
      ]
     },
     "execution_count": 54,
     "metadata": {},
     "output_type": "execute_result"
    }
   ],
   "source": [
    "pat_case_number.findall(confessions_text)"
   ]
  },
  {
   "cell_type": "code",
   "execution_count": 55,
   "id": "21b07e8d-5cdb-451b-a5a1-7891c57d401f",
   "metadata": {},
   "outputs": [
    {
     "data": {
      "text/plain": [
       "['08/03/2020', '10/15/2020', '01/28/2020']"
      ]
     },
     "execution_count": 55,
     "metadata": {},
     "output_type": "execute_result"
    }
   ],
   "source": [
    "pat_date_received.findall(confessions_text)"
   ]
  },
  {
   "cell_type": "code",
   "execution_count": 56,
   "id": "c6e4e9d9-3560-4ace-a76b-410044649f47",
   "metadata": {},
   "outputs": [
    {
     "data": {
      "text/plain": [
       "['2100.00', '214.59', '862.00']"
      ]
     },
     "execution_count": 56,
     "metadata": {},
     "output_type": "execute_result"
    }
   ],
   "source": [
    "pat_repay_total.findall(confessions_text)"
   ]
  },
  {
   "cell_type": "markdown",
   "id": "7bbdec46-4ad9-48b5-b255-e531c167e92e",
   "metadata": {},
   "source": [
    "### Breaking up the file into cases"
   ]
  },
  {
   "cell_type": "code",
   "execution_count": 57,
   "id": "7ef7d660-e6fc-45dd-97a8-f762ebfb6a28",
   "metadata": {
    "scrolled": true
   },
   "outputs": [
    {
     "data": {
      "text/plain": [
       "['',\n",
       " '/811678_2020_Marie_A_Cannon_Commi_v_Marie_A_Cannon_Commi_CONFESSION_OF_JUDGM_1_page_1.jpg \\n\\n\\n              FILED: ERIE COUNTY CLERK 08/03/2020 02:27 PM INDEX NO. 811678/2020\\n\\nNYSCEF DOC. NO. 1 RECEIVED NYSCEF: 08/03/2020\\n\\nSTATE OF NEW YORK\\nSUPREME COURT: COUNTY OF ERIE\\n\\nAL Dirschberger PhD, as Acting Commissioner of\\nErie County Department of Social Services\\n\\nPLAINTIFF Affidavit of Confession of Judgment\\nOliveras, Ana\\nVS Index No.\\n\\nDEFENDANT\\nSID 6301\\n\\nSTATE OF NEW YORK |\\nCOUNTY OF ERIE ] SS:\\nCITY OF BUFFALO]\\n\\nThe Deponent being duly sworn, deposes and says:\\n1. I am the defendant in the above entitled action.\\n\\n2. [reside at 78 Elgas Street (upper), Burraco 14207, County of Ene, State of New York. I authorize entry of\\njudgment in Erie County, State of New York if my residence is not in New York State.\\n\\n3. confess judgment in this court, in favor of the plaintiff and against the defendant in the sum of Two\\nThousand One Hundred Doilars and 00/100 ($2100.00), and hereby authorize the plaintiff or her assigns to\\nenter judgment for that sum against me plus court costs and interest.\\n\\n4. This confession of judgment is for a debt to become justly due to the plaintiff arising out of the following\\nfacts:\\n\\nI applied to the Erie County Department of Social Services (ECDSS) for assistance to pay either rent\\narrears, property taxes or mortgage arrears. In accordance with Section 131-w of New York State\\nSocial Services Law (SSL) I was required to sign a repayment agreement on September 12, 2017, to\\nrepay assistance in the amount of Two Thousand One Hundred Dollars and 00/100 ($2100.00), within\\ntwelve months. I will repay the assistance in full, in equal installments One Hundred Seventy Five and\\n67/100 Dollars ($175.00) per month by September 31, 2018. The first installment is due on October 1,\\n2017. The ECDSS is permitted by Section 131-w of the SSL to enforce the repayment agreement by\\nany legal method available to a creditor.\\n\\n5. As of the date I signed this, I have no income or resources that I have not reported to ECDSS.\\n\\nAra R buceens\\n\\nAna Oliveras\\n\\nSworn to before me this\\nJZ. _ day of Super be , 2017\\n\\nK\\nSomaly Pagan\\nCOMMISIONER OF DEEDS\\nIn and for the City of Buffalo, Ene County NY\\nMy Commission Expires December 31, 2018\\n\\n1 of 1\\n\\n\\n\\n',\n",
       " '/813094_2020_Marie_A_Cannon_Commi_v_Marie_A_Cannon_Commi_CONFESSION_OF_JUDGM_1_page_1.jpg \\n\\n\\n              FILED: ERIE COUNTY CLERK 09/16/2020 03:11 PM INDEX NO. 813094/2020\\n\\nNYSCEF DOC. NO. 1 RECEIVED NYSCEF: 10/15/2020\\n\\nSTATE OF NEW YORK\\nSUPREME COURT: COUNTY OF ERIE\\n\\nAl Dirschberger PhD, as Commissioner of\\nErie County Department of Social Services\\n\\nPLAINTIFF Affidavit of Confession of Judgment\\nVv Index No.\\nScott Herberger\\nDEFENDANT\\n# 2647\\n\\nSTATE OF NEW YORK |\\nCOUNTY OF ERIB ] SS:\\nCITY OF BUFFALO\\n\\nThe Depondent being duly sworn, deposes and says:\\n1. Iam the defendant in the above entitled action.\\n\\n2. Ireside at 16 Brady Ave, Upper, Lancaster, County of Erie, State of New York. I authorize entry of\\njudgment in Erie County, State of New York if my residence is not in New York State.\\n\\n3. I confess judgment in this court, in favor of the plaintiff and against the defendant in the sum of Two\\nHundred Fourteen and 59/100 Dollars ($214.59) and hereby authorize the plaintiff or her assigns to enter\\njudgment for that sum against me plus court costs and interest.\\n\\n4, This confession of judgment is for a debt to become justly due to the plaintiff arising out of the following\\nfacts:\\n\\n| applied to the Erie County Department of Social Services (ECDSS) for assistance to pay any gas\\ncorporation, electric corporation or municipality to prevent utility shut-off or to restore utility service.\\nIn accordance with Section 131-s of New York State Social Services Law (SSL) I was required to sign\\na repayment agreement on November 6, 2017, to repay assistance in the amount of Two Hundred\\nFourteen and 59/100 Dollars ($214.59) within twenty-four months. I will repay the assistance in full,\\nin equal installments of Elght and 94/100 Dollars ($8.94) per month by December 31, 2019. The first\\ninstallment is due on January 1, 2018. The ECDSS is permitted by Section 131-s of the SSL to enforce\\nthe repayment agreement by any legal method available to a creditor.\\n\\n5. As of the date I signed this, | have no income or resources that I have not reported to ECDSS.\\n\\nScott Herbefger\\n\\nSworn to before mg this ,\\nday of Tplembe , 2017\\n\\nDawn M. Piatkowski\\n\\nCOMMISSIONER OF DEEDS\\n\\nIn and for the City of Buffalo, County of Erie, NY\\nMy Commission Expires December 31, 2018\\n\\n1 of 1\\n\\n\\n\\n',\n",
       " '/812560_2020_Erie_County_Department_v_Erie_County_Department_CONFESSION_OF_JUDGM_1_page_1.jpg \\n\\n\\n              FILED: ERIE COUNTY CLERK 01/28/2020 12:02 PM INDEX NO. 801263/2020\\n\\nNYSCEF DOC. NO. 1 ‘ RECEIVED NYSCEF: 01/28/2020\\n\\nSTATE OF NEW YORK\\nSUPREME COURT: COUNTY OF ERIE\\n\\nAL DIRSCHBERGER PH D, Commissioner of\\nErie County Department of Social Services\\n\\nPLAINTIFF Affidavit of Confession of Judgment\\nVv Index No\\nMarnita Peterson\\nDEFENDANT\\nSID 8452\\n\\nSTATE OF NEW YORK ]\\nCOUNTY OF ERIE ] SS:\\nCITY OF BUFFALO ]\\n\\nThe Deponent being duly sworn, deposes and says:\\n1. Iam the defendant in the above entitled action.\\n\\n2. I[reside at 147-A Langfield, Buffalo, County of Erie, State of New York. I authorize entry of judgment in\\nErie County, State of New York if my residence is not in New York State.\\n\\n3. I confess judgment in this court, in favor of the plaintiff and against the defendant in the sum of Eight\\nHundred Sixty-Two and 00/100 Dollars ($862.00) and hereby authorize the plaintiff or his assigns to enter\\njudgment for that sum against me plus court costs and interest.\\n\\n4. This confession of judgment is for a debt to become justly due to the plaintiff arising out of the following\\nfacts:\\n\\nI applied to the Erie County Department of Social Services (ECDSS) for assistance to pay either rent\\narrears, property taxes or mortgage arrears. In accordance with Section 131-w of New York State\\nSocial Services Law (SSL) I was required to sign a repayment agreement on February 15, 2017, to\\nrepay assistance in the amount of Eight Hundred Sixty-Two and 00/100 Dollars ($862.00) within\\ntwelve months. I will repay the assistance in full, in equal installments of Seventy-One and 83/100\\nDollars ($71.83) per month by March 31, 2018. The first installment is due on April 1, 2017. The\\nECDSS is permitted by Section 131-w of the SSL to enforce the repayment agreement by any legal\\nmethod available to a creditor.\\n\\n5. As of the date I signed this, I have no income or resources that I have not reported to ECDSS.\\nae a\\na. Chet ee.\\n\\nMarnita Peterson\\n\\nSworn to before me this\\n\\n_1§ day of Libre , 2017\\n\\nDawn M Piatkowski\\n\\nCOMMISSIONER OF DEEDS\\n\\nIn and for the City of Buffalo, Erie County NY\\nMy Commission Expires December 31, 2018\\n\\n1 of 1']"
      ]
     },
     "execution_count": 57,
     "metadata": {},
     "output_type": "execute_result"
    }
   ],
   "source": [
    "# break up text\n",
    "split_pat = re.compile(r\"FILE_Info: conversion_img\")\n",
    "cases = re.split(split_pat, confessions_text, re.S)\n",
    "cases"
   ]
  },
  {
   "cell_type": "code",
   "execution_count": 58,
   "id": "7f92433c-ddee-4fb4-ac7e-e95f1b05960f",
   "metadata": {},
   "outputs": [
    {
     "data": {
      "text/plain": [
       "4"
      ]
     },
     "execution_count": 58,
     "metadata": {},
     "output_type": "execute_result"
    }
   ],
   "source": [
    "len(cases)"
   ]
  },
  {
   "cell_type": "code",
   "execution_count": 59,
   "id": "06dc3cae-404f-4496-8c36-07e0bafdfaa0",
   "metadata": {},
   "outputs": [
    {
     "name": "stdout",
     "output_type": "stream",
     "text": [
      "Nothing to extract for case #1.\n",
      "Case #2 extracted.\n",
      "Case #3 extracted.\n",
      "Case #4 extracted.\n"
     ]
    },
    {
     "data": {
      "text/html": [
       "<div>\n",
       "<style scoped>\n",
       "    .dataframe tbody tr th:only-of-type {\n",
       "        vertical-align: middle;\n",
       "    }\n",
       "\n",
       "    .dataframe tbody tr th {\n",
       "        vertical-align: top;\n",
       "    }\n",
       "\n",
       "    .dataframe thead th {\n",
       "        text-align: right;\n",
       "    }\n",
       "</style>\n",
       "<table border=\"1\" class=\"dataframe\">\n",
       "  <thead>\n",
       "    <tr style=\"text-align: right;\">\n",
       "      <th></th>\n",
       "      <th>case_number</th>\n",
       "      <th>date_received</th>\n",
       "      <th>repayment_amount</th>\n",
       "    </tr>\n",
       "  </thead>\n",
       "  <tbody>\n",
       "    <tr>\n",
       "      <th>0</th>\n",
       "      <td>811678/2020</td>\n",
       "      <td>08/03/2020</td>\n",
       "      <td>2100.00</td>\n",
       "    </tr>\n",
       "    <tr>\n",
       "      <th>1</th>\n",
       "      <td>813094/2020</td>\n",
       "      <td>10/15/2020</td>\n",
       "      <td>214.59</td>\n",
       "    </tr>\n",
       "    <tr>\n",
       "      <th>2</th>\n",
       "      <td>801263/2020</td>\n",
       "      <td>01/28/2020</td>\n",
       "      <td>862.00</td>\n",
       "    </tr>\n",
       "  </tbody>\n",
       "</table>\n",
       "</div>"
      ],
      "text/plain": [
       "   case_number date_received repayment_amount\n",
       "0  811678/2020    08/03/2020          2100.00\n",
       "1  813094/2020    10/15/2020           214.59\n",
       "2  801263/2020    01/28/2020           862.00"
      ]
     },
     "execution_count": 59,
     "metadata": {},
     "output_type": "execute_result"
    }
   ],
   "source": [
    "## MY EXERCISE\n",
    "\n",
    "# initializing\n",
    "check_case = re.compile(r\"FILED:\\s+ERIE\\s+COUNTY\\s+CLERK\")\n",
    "errors_list = [] # holds our errors\n",
    "counter = 0\n",
    "\n",
    "# lists to hold our variables\n",
    "case_number = []\n",
    "date_received = []\n",
    "repay_total = []\n",
    "\n",
    "for item in cases:\n",
    "    counter += 1\n",
    "    if check_case.findall(item):\n",
    "        try:\n",
    "            case = pat_case_number.findall(item)[0]\n",
    "            case_number.append(case)\n",
    "            date = pat_date_received.findall(item)[0]\n",
    "            date_received.append(date)\n",
    "            repayment = pat_repay_total.findall(item)[0]\n",
    "            repay_total.append(repayment)\n",
    "\n",
    "            temp_list = list(zip(case_number, date_received, repay_total))\n",
    "        \n",
    "        except Exception as e:\n",
    "            print(f\"There is an error for item #{counter}: {e}\")\n",
    "            errors_list.append(item, e)\n",
    "        print(f\"Case #{counter} extracted.\")\n",
    "        \n",
    "    else:\n",
    "        print(f\"Nothing to extract for case #{counter}.\")\n",
    "    \n",
    "main_df = pd.DataFrame(temp_list, columns=[\n",
    "    \"case_number\", \"date_received\", \"repayment_amount\"\n",
    "    ])\n",
    "main_df"
   ]
  },
  {
   "cell_type": "code",
   "execution_count": 60,
   "id": "032cf7b5-e8eb-41da-9956-e331564d07ef",
   "metadata": {},
   "outputs": [
    {
     "data": {
      "text/plain": [
       "[{'case': '811678/2020',\n",
       "  'date_received': '08/03/2020',\n",
       "  'total_due': '2100.00'},\n",
       " {'case': '813094/2020', 'date_received': '10/15/2020', 'total_due': '214.59'},\n",
       " {'case': '801263/2020', 'date_received': '01/28/2020', 'total_due': '862.00'}]"
      ]
     },
     "execution_count": 60,
     "metadata": {},
     "output_type": "execute_result"
    }
   ],
   "source": [
    "## SANDEEP'S SOLUTION\n",
    "\n",
    "judgments_list = []\n",
    "\n",
    "for case in cases:\n",
    "    if pat_case_number.search(case) != None:\n",
    "        case_no = pat_case_number.findall(case)[0]\n",
    "        date_received = pat_date_received.findall(case)[0]\n",
    "        total_due = pat_repay_total.findall(case)[0]\n",
    "\n",
    "        judgments_list.append({\n",
    "            \"case\": case_no,\n",
    "            \"date_received\": date_received,\n",
    "            \"total_due\": total_due\n",
    "        })\n",
    "\n",
    "judgments_list"
   ]
  },
  {
   "cell_type": "code",
   "execution_count": 61,
   "id": "4e22ebdc-c354-4756-9927-9e35f3851123",
   "metadata": {},
   "outputs": [
    {
     "name": "stdout",
     "output_type": "stream",
     "text": [
      "Nothing to extract for case #1.\n",
      "Case #2 extracted.\n",
      "Case #3 extracted.\n",
      "Case #4 extracted.\n"
     ]
    },
    {
     "data": {
      "text/html": [
       "<div>\n",
       "<style scoped>\n",
       "    .dataframe tbody tr th:only-of-type {\n",
       "        vertical-align: middle;\n",
       "    }\n",
       "\n",
       "    .dataframe tbody tr th {\n",
       "        vertical-align: top;\n",
       "    }\n",
       "\n",
       "    .dataframe thead th {\n",
       "        text-align: right;\n",
       "    }\n",
       "</style>\n",
       "<table border=\"1\" class=\"dataframe\">\n",
       "  <thead>\n",
       "    <tr style=\"text-align: right;\">\n",
       "      <th></th>\n",
       "      <th>case_number</th>\n",
       "      <th>date_received</th>\n",
       "      <th>repayment_amount</th>\n",
       "    </tr>\n",
       "  </thead>\n",
       "  <tbody>\n",
       "    <tr>\n",
       "      <th>0</th>\n",
       "      <td>811678/2020</td>\n",
       "      <td>08/03/2020</td>\n",
       "      <td>2100.00</td>\n",
       "    </tr>\n",
       "    <tr>\n",
       "      <th>1</th>\n",
       "      <td>813094/2020</td>\n",
       "      <td>10/15/2020</td>\n",
       "      <td>214.59</td>\n",
       "    </tr>\n",
       "    <tr>\n",
       "      <th>2</th>\n",
       "      <td>801263/2020</td>\n",
       "      <td>01/28/2020</td>\n",
       "      <td>862.00</td>\n",
       "    </tr>\n",
       "  </tbody>\n",
       "</table>\n",
       "</div>"
      ],
      "text/plain": [
       "   case_number date_received repayment_amount\n",
       "0  811678/2020    08/03/2020          2100.00\n",
       "1  813094/2020    10/15/2020           214.59\n",
       "2  801263/2020    01/28/2020           862.00"
      ]
     },
     "execution_count": 61,
     "metadata": {},
     "output_type": "execute_result"
    }
   ],
   "source": [
    "## MY REFINED EXERCISE SOLUTION\n",
    "\n",
    "# initializing\n",
    "check_case = re.compile(r\"FILED:\\s+ERIE\\s+COUNTY\\s+CLERK\")\n",
    "errors_list = [] # holds our errors\n",
    "counter = 0\n",
    "\n",
    "all_data = []\n",
    "\n",
    "for item in cases:\n",
    "    counter += 1\n",
    "    if pat_case_number.search(item) != None:\n",
    "        try:\n",
    "            case_num = pat_case_number.findall(item)[0]\n",
    "            date = pat_date_received.findall(item)[0]\n",
    "            repayment = pat_repay_total.findall(item)[0]\n",
    "\n",
    "            all_data.append({\n",
    "                \"case_number\": case_num,\n",
    "                \"date_received\": date,\n",
    "                \"repayment_amount\": repayment\n",
    "            })\n",
    "        \n",
    "        except Exception as e:\n",
    "            print(f\"There is an error for item #{counter}: {e}\")\n",
    "            errors_list.append(item, e)\n",
    "        print(f\"Case #{counter} extracted.\")\n",
    "        \n",
    "    else:\n",
    "        print(f\"Nothing to extract for case #{counter}.\")\n",
    "    \n",
    "main_df = pd.DataFrame(all_data)\n",
    "main_df"
   ]
  },
  {
   "cell_type": "code",
   "execution_count": null,
   "id": "fceb3476-3afc-43a8-88b5-e9e57c38291e",
   "metadata": {},
   "outputs": [],
   "source": []
  }
 ],
 "metadata": {
  "kernelspec": {
   "display_name": "Python 3 (ipykernel)",
   "language": "python",
   "name": "python3"
  },
  "language_info": {
   "codemirror_mode": {
    "name": "ipython",
    "version": 3
   },
   "file_extension": ".py",
   "mimetype": "text/x-python",
   "name": "python",
   "nbconvert_exporter": "python",
   "pygments_lexer": "ipython3",
   "version": "3.11.8"
  }
 },
 "nbformat": 4,
 "nbformat_minor": 5
}
