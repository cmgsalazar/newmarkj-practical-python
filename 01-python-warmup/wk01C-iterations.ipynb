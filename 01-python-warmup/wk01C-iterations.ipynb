{
 "cells": [
  {
   "cell_type": "markdown",
   "metadata": {
    "id": "XI6zto6STb4w"
   },
   "source": [
    "# Week 1 - ```for``` loops"
   ]
  },
  {
   "cell_type": "markdown",
   "metadata": {
    "id": "0MMmi7k9vvZu"
   },
   "source": [
    "# 1. ```for loops```... a data journalist's favorite Python expression</center>\n",
    "\n",
    "We use it to **iterate** over:\n",
    "* data stored in a list and run some calculation on each value;\n",
    "* a list of URLs and visit each site to scrape data;\n",
    "* data stored in dictionary keys and values and return what you are looking for."
   ]
  },
  {
   "cell_type": "code",
   "execution_count": 1,
   "metadata": {
    "colab": {
     "base_uri": "https://localhost:8080/"
    },
    "executionInfo": {
     "elapsed": 295,
     "status": "ok",
     "timestamp": 1653411177509,
     "user": {
      "displayName": "Sandeep Junnarkar",
      "userId": "15658885848901522782"
     },
     "user_tz": 240
    },
    "id": "VCtbKIAH9QUR",
    "outputId": "a66d34e1-9dcc-45e9-ad54-43740a962524"
   },
   "outputs": [],
   "source": [
    "## run this list\n",
    "fav_animals = [\"cats\", \"dogs\", \"birds\", \"snakes\", \"horses\"]\n"
   ]
  },
  {
   "cell_type": "code",
   "execution_count": 2,
   "metadata": {
    "colab": {
     "base_uri": "https://localhost:8080/",
     "height": 36
    },
    "executionInfo": {
     "elapsed": 342,
     "status": "ok",
     "timestamp": 1653411202107,
     "user": {
      "displayName": "Sandeep Junnarkar",
      "userId": "15658885848901522782"
     },
     "user_tz": 240
    },
    "id": "htMEQ3gf9vGv",
    "outputId": "1beb9d53-d421-475d-f0c5-4d624e3d700a"
   },
   "outputs": [
    {
     "data": {
      "text/plain": [
       "['cats', 'dogs', 'birds', 'snakes', 'horses']"
      ]
     },
     "execution_count": 2,
     "metadata": {},
     "output_type": "execute_result"
    }
   ],
   "source": [
    "## call the temporary variable\n",
    "\n",
    "fav_animals"
   ]
  },
  {
   "cell_type": "code",
   "execution_count": 3,
   "metadata": {
    "executionInfo": {
     "elapsed": 272,
     "status": "ok",
     "timestamp": 1653411254202,
     "user": {
      "displayName": "Sandeep Junnarkar",
      "userId": "15658885848901522782"
     },
     "user_tz": 240
    },
    "id": "OmwpXcyY_UXn"
   },
   "outputs": [],
   "source": [
    "## name dog lucy\n",
    "\n",
    "my_dog = \"lucy\""
   ]
  },
  {
   "cell_type": "code",
   "execution_count": 4,
   "metadata": {
    "colab": {
     "base_uri": "https://localhost:8080/",
     "height": 36
    },
    "executionInfo": {
     "elapsed": 4,
     "status": "ok",
     "timestamp": 1653411264819,
     "user": {
      "displayName": "Sandeep Junnarkar",
      "userId": "15658885848901522782"
     },
     "user_tz": 240
    },
    "id": "lFTaI6NS_ZRx",
    "outputId": "54c5f47a-9b00-4836-ab74-e0e2bd2e3801"
   },
   "outputs": [
    {
     "data": {
      "text/plain": [
       "'Lucy'"
      ]
     },
     "execution_count": 4,
     "metadata": {},
     "output_type": "execute_result"
    }
   ],
   "source": [
    "## upper case the previous variable \n",
    "## you can target an individual item\n",
    "\n",
    "my_dog.title()"
   ]
  },
  {
   "cell_type": "code",
   "execution_count": 5,
   "metadata": {},
   "outputs": [
    {
     "name": "stdout",
     "output_type": "stream",
     "text": [
      "CATS\n",
      "DOGS\n",
      "BIRDS\n",
      "SNAKES\n",
      "HORSES\n"
     ]
    }
   ],
   "source": [
    "## use a for loop to upper case each animal and print it\n",
    "\n",
    "for fav_animal in fav_animals:\n",
    "    print(fav_animal.upper())"
   ]
  },
  {
   "cell_type": "code",
   "execution_count": 6,
   "metadata": {},
   "outputs": [
    {
     "data": {
      "text/plain": [
       "['cats', 'dogs', 'birds', 'snakes', 'horses']"
      ]
     },
     "execution_count": 6,
     "metadata": {},
     "output_type": "execute_result"
    }
   ],
   "source": [
    "## did our list change? Call the fav_animals list\n",
    "fav_animals"
   ]
  },
  {
   "cell_type": "code",
   "execution_count": 7,
   "metadata": {},
   "outputs": [],
   "source": [
    "## We save our iterated data by adding to an empty list\n",
    "\n",
    "upper_animals = [] ## initializing"
   ]
  },
  {
   "cell_type": "code",
   "execution_count": 8,
   "metadata": {},
   "outputs": [
    {
     "name": "stdout",
     "output_type": "stream",
     "text": [
      "CATS\n",
      "DOGS\n",
      "BIRDS\n",
      "SNAKES\n",
      "HORSES\n"
     ]
    }
   ],
   "source": [
    "for animal in fav_animals:\n",
    "    upper_cased = animal.upper()\n",
    "    print(upper_cased)\n",
    "    upper_animals.append(upper_cased)"
   ]
  },
  {
   "cell_type": "code",
   "execution_count": 9,
   "metadata": {},
   "outputs": [
    {
     "data": {
      "text/plain": [
       "['CATS', 'DOGS', 'BIRDS', 'SNAKES', 'HORSES']"
      ]
     },
     "execution_count": 9,
     "metadata": {},
     "output_type": "execute_result"
    }
   ],
   "source": [
    "## this is the shorter version\n",
    "\n",
    "upper_animals = []\n",
    "\n",
    "for animal in fav_animals:\n",
    "    upper_animals.append(animal.upper())\n",
    "\n",
    "upper_animals"
   ]
  },
  {
   "cell_type": "markdown",
   "metadata": {},
   "source": [
    "```for loops``` <a href=\"https://docs.google.com/presentation/d/1ZsrzpQHTXK35pd3io8rwQUX10rBHf1T9iYz_SaqbhQo/edit?usp=sharing\">slides</a>"
   ]
  },
  {
   "cell_type": "markdown",
   "metadata": {
    "id": "mtzDhlNhTb5a"
   },
   "source": [
    "Let's take **For Loops** for test drive:"
   ]
  },
  {
   "cell_type": "code",
   "execution_count": 10,
   "metadata": {
    "colab": {
     "base_uri": "https://localhost:8080/"
    },
    "executionInfo": {
     "elapsed": 174,
     "status": "ok",
     "timestamp": 1646146479912,
     "user": {
      "displayName": "Sandeep Junnarkar",
      "photoUrl": "https://lh3.googleusercontent.com/a/default-user=s64",
      "userId": "15658885848901522782"
     },
     "user_tz": 300
    },
    "id": "nUxiCM4ATb5b",
    "outputId": "901b77dc-f6b0-4ce7-9242-a622fbc92355"
   },
   "outputs": [],
   "source": [
    "## RUN THIS CELL - Use this list of CEO salaries from 1985 \n",
    "ceo_salaries_1985 = [150_000, 201_000, 110_000, 75_000, 92_000, 55_000]\n"
   ]
  },
  {
   "cell_type": "code",
   "execution_count": 11,
   "metadata": {
    "colab": {
     "base_uri": "https://localhost:8080/"
    },
    "executionInfo": {
     "elapsed": 169,
     "status": "ok",
     "timestamp": 1646146600490,
     "user": {
      "displayName": "Sandeep Junnarkar",
      "photoUrl": "https://lh3.googleusercontent.com/a/default-user=s64",
      "userId": "15658885848901522782"
     },
     "user_tz": 300
    },
    "id": "slKIj6I5Tb5d",
    "outputId": "d02bde0a-f950-4e6d-a5ed-2eb21c075e49"
   },
   "outputs": [
    {
     "name": "stdout",
     "output_type": "stream",
     "text": [
      "A CEO earned 150,000 in 1985.\n",
      "A CEO earned 201,000 in 1985.\n",
      "A CEO earned 110,000 in 1985.\n",
      "A CEO earned 75,000 in 1985.\n",
      "A CEO earned 92,000 in 1985.\n",
      "A CEO earned 55,000 in 1985.\n"
     ]
    }
   ],
   "source": [
    "## Print each salary with in the following format:\n",
    "## \"A CEO earned [some value] in 1985.\"\n",
    "\n",
    "for ceo_salary in ceo_salaries_1985:\n",
    "    print(f\"A CEO earned {ceo_salary:,} in 1985.\")\n"
   ]
  },
  {
   "cell_type": "code",
   "execution_count": 26,
   "metadata": {
    "colab": {
     "base_uri": "https://localhost:8080/"
    },
    "executionInfo": {
     "elapsed": 167,
     "status": "ok",
     "timestamp": 1646146979546,
     "user": {
      "displayName": "Sandeep Junnarkar",
      "photoUrl": "https://lh3.googleusercontent.com/a/default-user=s64",
      "userId": "15658885848901522782"
     },
     "user_tz": 300
    },
    "id": "of8edS6oTb5f",
    "outputId": "09a6cfa2-d791-4880-f46b-4a448f944ad5"
   },
   "outputs": [],
   "source": [
    "## Now update each salary to 2019 dollars.\n",
    "## Print the following info:\n",
    "## \"A CEO's salary of [1985 salary] in 1985 is worth [updated salary] in 2019 dollars.\"\n",
    "## The CPI for 1985 is 107.6\n",
    "## The 2019 CPI is 255.657\n",
    "## The 2023 CPI is 306.746\n",
    "## The formula is: updated_salary = (oldSalary/oldCPI) * currentCPI\n",
    "## add formatting\n",
    "\n",
    "cpi_1985 = 107.6\n",
    "cpi_2019 = 255.657\n",
    "cpi_2023 = 306.746\n"
   ]
  },
  {
   "cell_type": "code",
   "execution_count": 28,
   "metadata": {
    "id": "2OrmbbT4An4u"
   },
   "outputs": [
    {
     "name": "stdout",
     "output_type": "stream",
     "text": [
      "A CEO's salary of $150,000 in 1985 is worth $427,620 in 2023 dollars.\n",
      "A CEO's salary of $201,000 in 1985 is worth $573,011 in 2023 dollars.\n",
      "A CEO's salary of $110,000 in 1985 is worth $313,588 in 2023 dollars.\n",
      "A CEO's salary of $75,000 in 1985 is worth $213,810 in 2023 dollars.\n",
      "A CEO's salary of $92,000 in 1985 is worth $262,274 in 2023 dollars.\n",
      "A CEO's salary of $55,000 in 1985 is worth $156,794 in 2023 dollars.\n"
     ]
    }
   ],
   "source": [
    "## store the updated values\n",
    "\n",
    "ceo_salaries_2023 = []\n",
    "ceo_salaries_2019 = []\n",
    "\n",
    "for ceo_salary in ceo_salaries_1985:\n",
    "    updated_salary_2023 = (ceo_salary / cpi_1985) * cpi_2023\n",
    "    updated_salary_2019 = (ceo_salary / cpi_1985) * cpi_2019\n",
    "    ceo_salaries_2023.append(updated_salary_2023)\n",
    "    ceo_salaries_2019.append(updated_salary_2019)\n",
    "    print(f\"A CEO's salary of ${ceo_salary:,} in 1985 is worth ${updated_salary_2023:,.0f} in 2023 dollars.\")"
   ]
  },
  {
   "cell_type": "code",
   "execution_count": 22,
   "metadata": {
    "colab": {
     "base_uri": "https://localhost:8080/"
    },
    "executionInfo": {
     "elapsed": 197,
     "status": "ok",
     "timestamp": 1646148692703,
     "user": {
      "displayName": "Sandeep Junnarkar",
      "photoUrl": "https://lh3.googleusercontent.com/a/default-user=s64",
      "userId": "15658885848901522782"
     },
     "user_tz": 300
    },
    "id": "O6Zs7AKSA7II",
    "outputId": "19735637-be92-428e-9960-199c30e3ea52"
   },
   "outputs": [
    {
     "data": {
      "text/plain": [
       "[427619.88847583643,\n",
       " 573010.6505576208,\n",
       " 313587.91821561335,\n",
       " 213809.94423791821,\n",
       " 262273.531598513,\n",
       " 156793.95910780667]"
      ]
     },
     "execution_count": 22,
     "metadata": {},
     "output_type": "execute_result"
    }
   ],
   "source": [
    "## call updated ceo salaries\n",
    "\n",
    "ceo_salaries_2023"
   ]
  },
  {
   "cell_type": "code",
   "execution_count": 23,
   "metadata": {},
   "outputs": [
    {
     "data": {
      "text/plain": [
       "[356399.16356877325,\n",
       " 477574.8791821562,\n",
       " 261359.3866171004,\n",
       " 178199.58178438662,\n",
       " 218591.4869888476,\n",
       " 130679.6933085502]"
      ]
     },
     "execution_count": 23,
     "metadata": {},
     "output_type": "execute_result"
    }
   ],
   "source": [
    "ceo_salaries_2019"
   ]
  },
  {
   "cell_type": "code",
   "execution_count": null,
   "metadata": {},
   "outputs": [],
   "source": []
  }
 ],
 "metadata": {
  "celltoolbar": "Slideshow",
  "colab": {
   "collapsed_sections": [
    "T8x4Mm-sTb43",
    "T6xApuSYTb5U"
   ],
   "name": "week-2-loops-list-comprehension-DEMO.ipynb",
   "provenance": [
    {
     "file_id": "1Nk6T3S4k1zH52s3eHzo4i1Yxx-iD6UjE",
     "timestamp": 1646140841906
    },
    {
     "file_id": "1cw5emV9TDdgVqq2HhYPppUKFYLobtPVC",
     "timestamp": 1642538656229
    },
    {
     "file_id": "1DhXxhMrJcwYydB2VNDAPReeAni-DDDHS",
     "timestamp": 1624385199338
    }
   ]
  },
  "kernelspec": {
   "display_name": "Python 3 (ipykernel)",
   "language": "python",
   "name": "python3"
  },
  "language_info": {
   "codemirror_mode": {
    "name": "ipython",
    "version": 3
   },
   "file_extension": ".py",
   "mimetype": "text/x-python",
   "name": "python",
   "nbconvert_exporter": "python",
   "pygments_lexer": "ipython3",
   "version": "3.11.8"
  }
 },
 "nbformat": 4,
 "nbformat_minor": 4
}
