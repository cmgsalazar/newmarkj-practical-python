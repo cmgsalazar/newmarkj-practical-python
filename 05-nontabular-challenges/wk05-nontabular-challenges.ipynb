{
 "cells": [
  {
   "cell_type": "markdown",
   "metadata": {
    "id": "s1gmCxq4kQCP"
   },
   "source": [
    "# Challenges Scraping Non-Tabular Data\n",
    "\n",
    "On <a href=\"https://sandeepmj.github.io/scrape-example-page\">this demo page</a> I've reproduced several variations of issues we are likely to encounter when scraping.\n",
    "\n",
    "- Review scrape of an well-organized page.\n",
    "- Dynamically getting column names.\n",
    "- Scraping a challenging page.\n",
    "- Excluding multi-classes.\n",
    "\n",
    "\n",
    "Let's start by scraping <a href=\"https://sandeepmj.github.io/scrape-example-page/#organized\">the organized CEO data</a>."
   ]
  },
  {
   "cell_type": "code",
   "execution_count": 1,
   "metadata": {},
   "outputs": [],
   "source": [
    "# importing libraries\n",
    "import pandas as pd\n",
    "import requests\n",
    "from bs4 import BeautifulSoup"
   ]
  },
  {
   "cell_type": "code",
   "execution_count": 2,
   "metadata": {},
   "outputs": [],
   "source": [
    "# target URL\n",
    "url = \"https://sandeepmj.github.io/scrape-example-page/\""
   ]
  },
  {
   "cell_type": "code",
   "execution_count": 3,
   "metadata": {},
   "outputs": [
    {
     "data": {
      "text/plain": [
       "<Response [200]>"
      ]
     },
     "execution_count": 3,
     "metadata": {},
     "output_type": "execute_result"
    }
   ],
   "source": [
    "# response\n",
    "response = requests.get(url)\n",
    "response"
   ]
  },
  {
   "cell_type": "code",
   "execution_count": 4,
   "metadata": {},
   "outputs": [],
   "source": [
    "soup = BeautifulSoup(response.text, \"html.parser\")"
   ]
  },
  {
   "cell_type": "code",
   "execution_count": 5,
   "metadata": {},
   "outputs": [
    {
     "data": {
      "text/plain": [
       "<section id=\"organized\">\n",
       "<h2>Organized - Top 5 Compensated CEOs in 2018</h2>\n",
       "<div class=\"ceo\">\n",
       "<p class=\"rank\">Rank: 1</p>\n",
       "<p class=\"name\">Name: Hock E. Tan</p>\n",
       "<p class=\"annual_compensation\">Annual Compensation: $103.2 million</p>\n",
       "<p class=\"company\">Company: Broadcom</p>\n",
       "</div>\n",
       "<div class=\"ceo\">\n",
       "<p class=\"rank\">Rank: 2</p>\n",
       "<p class=\"name\">Name: Frank Bisignano</p>\n",
       "<p class=\"annual_compensation\">Annual Compensation: $102.2 million</p>\n",
       "<p class=\"company\">Company: First Data (FDC)</p>\n",
       "</div>\n",
       "<div class=\"ceo\">\n",
       "<p class=\"rank\">Rank: 3</p>\n",
       "<p class=\"name\">Name: Michael Rapino</p>\n",
       "<p class=\"annual_compensation\">Annual Compensation: $70.6 million</p>\n",
       "<p class=\"company\">Company: Live Nation Entertainment (LYV)</p>\n",
       "</div>\n",
       "<div class=\"ceo\">\n",
       "<p class=\"rank\">Rank: 4</p>\n",
       "<p class=\"name\">Name: Leslie Moonves</p>\n",
       "<p class=\"annual_compensation\">Annual Compensation: 68.4 million</p>\n",
       "<p class=\"company\">Company: CBS</p>\n",
       "</div>\n",
       "<div class=\"ceo\">\n",
       "<p class=\"rank\">Rank: 5</p>\n",
       "<p class=\"name\">Name: Gregory Maffei</p>\n",
       "<p class=\"annual_compensation\">Annual Compensation: $67.2 million</p>\n",
       "<p class=\"company\">Company: Liberty Media &amp; Qurate Retail Group</p>\n",
       "</div>\n",
       "</section>"
      ]
     },
     "execution_count": 5,
     "metadata": {},
     "output_type": "execute_result"
    }
   ],
   "source": [
    "# fetch only section needed\n",
    "organized = soup.find(id=\"organized\")\n",
    "organized"
   ]
  },
  {
   "cell_type": "code",
   "execution_count": 6,
   "metadata": {},
   "outputs": [
    {
     "data": {
      "text/plain": [
       "[<div class=\"ceo\">\n",
       " <p class=\"rank\">Rank: 1</p>\n",
       " <p class=\"name\">Name: Hock E. Tan</p>\n",
       " <p class=\"annual_compensation\">Annual Compensation: $103.2 million</p>\n",
       " <p class=\"company\">Company: Broadcom</p>\n",
       " </div>,\n",
       " <div class=\"ceo\">\n",
       " <p class=\"rank\">Rank: 2</p>\n",
       " <p class=\"name\">Name: Frank Bisignano</p>\n",
       " <p class=\"annual_compensation\">Annual Compensation: $102.2 million</p>\n",
       " <p class=\"company\">Company: First Data (FDC)</p>\n",
       " </div>,\n",
       " <div class=\"ceo\">\n",
       " <p class=\"rank\">Rank: 3</p>\n",
       " <p class=\"name\">Name: Michael Rapino</p>\n",
       " <p class=\"annual_compensation\">Annual Compensation: $70.6 million</p>\n",
       " <p class=\"company\">Company: Live Nation Entertainment (LYV)</p>\n",
       " </div>,\n",
       " <div class=\"ceo\">\n",
       " <p class=\"rank\">Rank: 4</p>\n",
       " <p class=\"name\">Name: Leslie Moonves</p>\n",
       " <p class=\"annual_compensation\">Annual Compensation: 68.4 million</p>\n",
       " <p class=\"company\">Company: CBS</p>\n",
       " </div>,\n",
       " <div class=\"ceo\">\n",
       " <p class=\"rank\">Rank: 5</p>\n",
       " <p class=\"name\">Name: Gregory Maffei</p>\n",
       " <p class=\"annual_compensation\">Annual Compensation: $67.2 million</p>\n",
       " <p class=\"company\">Company: Liberty Media &amp; Qurate Retail Group</p>\n",
       " </div>]"
      ]
     },
     "execution_count": 6,
     "metadata": {},
     "output_type": "execute_result"
    }
   ],
   "source": [
    "# isolate ceos\n",
    "\n",
    "ceos_list = organized.find_all(\"div\", class_=\"ceo\")\n",
    "ceos_list"
   ]
  },
  {
   "cell_type": "code",
   "execution_count": 7,
   "metadata": {},
   "outputs": [],
   "source": [
    "# for loop\n",
    "\n",
    "ceo_names = []\n",
    "ceo_salaries = []\n",
    "ceo_companies = []\n",
    "\n",
    "for ceo in ceos_list:\n",
    "    names = ceo.find(\"p\", class_=\"name\").get_text().replace(\"Name: \", \"\")\n",
    "    salary = ceo.find(\"p\", class_=\"annual_compensation\").get_text().replace(\"Annual Compensation: \", \"\").replace(\"$\", \"\").replace(\" million\", \"\")\n",
    "    salary = float(salary) * 1_000_000\n",
    "    company = ceo.find(\"p\", class_=\"company\").get_text().replace(\"Company: \", \"\")\n",
    "    ceo_names.append(names)\n",
    "    ceo_salaries.append(salary)\n",
    "    ceo_companies.append(company)"
   ]
  },
  {
   "cell_type": "code",
   "execution_count": 8,
   "metadata": {},
   "outputs": [],
   "source": [
    "# list comprehension\n",
    "\n",
    "names_lc = [ name.find(\"p\", class_=\"name\").get_text().replace(\"Name: \", \"\") for name in ceos_list ]\n",
    "salary_lc = [ float(salary.find(\"p\", class_=\"annual_compensation\").get_text().replace(\"Annual Compensation: \", \"\").replace(\"$\", \"\").replace(\" million\", \"\")) * 1_000_000 for salary in ceos_list ]\n",
    "company_lc = [ company.find(\"p\", class_=\"company\").get_text().replace(\"Company: \", \"\") for company in ceos_list ] "
   ]
  },
  {
   "cell_type": "code",
   "execution_count": 9,
   "metadata": {},
   "outputs": [
    {
     "data": {
      "text/plain": [
       "[('Hock E. Tan', 103200000.0, 'Broadcom'),\n",
       " ('Frank Bisignano', 102200000.0, 'First Data (FDC)'),\n",
       " ('Michael Rapino', 70600000.0, 'Live Nation Entertainment (LYV)'),\n",
       " ('Leslie Moonves', 68400000.0, 'CBS'),\n",
       " ('Gregory Maffei', 67200000.0, 'Liberty Media & Qurate Retail Group')]"
      ]
     },
     "execution_count": 9,
     "metadata": {},
     "output_type": "execute_result"
    }
   ],
   "source": [
    "# merging lists into a main list\n",
    "main_list = []\n",
    "for all_data in zip(ceo_names, ceo_salaries, ceo_companies):\n",
    "    main_list.append(all_data)\n",
    "\n",
    "main_list"
   ]
  },
  {
   "cell_type": "code",
   "execution_count": 10,
   "metadata": {},
   "outputs": [
    {
     "data": {
      "text/plain": [
       "<zip at 0x11ba91a80>"
      ]
     },
     "execution_count": 10,
     "metadata": {},
     "output_type": "execute_result"
    }
   ],
   "source": [
    "# using built-in functions (`list` and `zip` instead of `for loops`)\n",
    "zip(names_lc, salary_lc, company_lc)"
   ]
  },
  {
   "cell_type": "code",
   "execution_count": 11,
   "metadata": {},
   "outputs": [
    {
     "data": {
      "text/plain": [
       "[('Hock E. Tan', 103200000.0, 'Broadcom'),\n",
       " ('Frank Bisignano', 102200000.0, 'First Data (FDC)'),\n",
       " ('Michael Rapino', 70600000.0, 'Live Nation Entertainment (LYV)'),\n",
       " ('Leslie Moonves', 68400000.0, 'CBS'),\n",
       " ('Gregory Maffei', 67200000.0, 'Liberty Media & Qurate Retail Group')]"
      ]
     },
     "execution_count": 11,
     "metadata": {},
     "output_type": "execute_result"
    }
   ],
   "source": [
    "list(zip(names_lc, salary_lc, company_lc))"
   ]
  },
  {
   "cell_type": "code",
   "execution_count": 12,
   "metadata": {},
   "outputs": [
    {
     "data": {
      "text/html": [
       "<div>\n",
       "<style scoped>\n",
       "    .dataframe tbody tr th:only-of-type {\n",
       "        vertical-align: middle;\n",
       "    }\n",
       "\n",
       "    .dataframe tbody tr th {\n",
       "        vertical-align: top;\n",
       "    }\n",
       "\n",
       "    .dataframe thead th {\n",
       "        text-align: right;\n",
       "    }\n",
       "</style>\n",
       "<table border=\"1\" class=\"dataframe\">\n",
       "  <thead>\n",
       "    <tr style=\"text-align: right;\">\n",
       "      <th></th>\n",
       "      <th>Name</th>\n",
       "      <th>Annual Compensation</th>\n",
       "      <th>Company</th>\n",
       "    </tr>\n",
       "  </thead>\n",
       "  <tbody>\n",
       "    <tr>\n",
       "      <th>0</th>\n",
       "      <td>Hock E. Tan</td>\n",
       "      <td>103200000.0</td>\n",
       "      <td>Broadcom</td>\n",
       "    </tr>\n",
       "    <tr>\n",
       "      <th>1</th>\n",
       "      <td>Frank Bisignano</td>\n",
       "      <td>102200000.0</td>\n",
       "      <td>First Data (FDC)</td>\n",
       "    </tr>\n",
       "    <tr>\n",
       "      <th>2</th>\n",
       "      <td>Michael Rapino</td>\n",
       "      <td>70600000.0</td>\n",
       "      <td>Live Nation Entertainment (LYV)</td>\n",
       "    </tr>\n",
       "    <tr>\n",
       "      <th>3</th>\n",
       "      <td>Leslie Moonves</td>\n",
       "      <td>68400000.0</td>\n",
       "      <td>CBS</td>\n",
       "    </tr>\n",
       "    <tr>\n",
       "      <th>4</th>\n",
       "      <td>Gregory Maffei</td>\n",
       "      <td>67200000.0</td>\n",
       "      <td>Liberty Media &amp; Qurate Retail Group</td>\n",
       "    </tr>\n",
       "  </tbody>\n",
       "</table>\n",
       "</div>"
      ],
      "text/plain": [
       "              Name  Annual Compensation                              Company\n",
       "0      Hock E. Tan          103200000.0                             Broadcom\n",
       "1  Frank Bisignano          102200000.0                     First Data (FDC)\n",
       "2   Michael Rapino           70600000.0      Live Nation Entertainment (LYV)\n",
       "3   Leslie Moonves           68400000.0                                  CBS\n",
       "4   Gregory Maffei           67200000.0  Liberty Media & Qurate Retail Group"
      ]
     },
     "execution_count": 12,
     "metadata": {},
     "output_type": "execute_result"
    }
   ],
   "source": [
    "# convert to df\n",
    "df = pd.DataFrame(main_list, columns = [ \"Name\", \"Annual Compensation\", \"Company\" ])\n",
    "df"
   ]
  },
  {
   "cell_type": "code",
   "execution_count": 13,
   "metadata": {},
   "outputs": [
    {
     "data": {
      "text/plain": [
       "['ceo']"
      ]
     },
     "execution_count": 13,
     "metadata": {},
     "output_type": "execute_result"
    }
   ],
   "source": [
    "# trying different BeautifulSoup functions...\n",
    "# so we don't have to type each column name, eventually\n",
    "ceos_list[0][\"class\"]"
   ]
  },
  {
   "cell_type": "code",
   "execution_count": 14,
   "metadata": {},
   "outputs": [
    {
     "data": {
      "text/plain": [
       "['annual_compensation']"
      ]
     },
     "execution_count": 14,
     "metadata": {},
     "output_type": "execute_result"
    }
   ],
   "source": [
    "ptags = ceos_list[0].find_all(\"p\")\n",
    "ptags[2][\"class\"]"
   ]
  },
  {
   "cell_type": "code",
   "execution_count": 15,
   "metadata": {},
   "outputs": [
    {
     "data": {
      "text/plain": [
       "['rank', 'name', 'annual_compensation', 'company']"
      ]
     },
     "execution_count": 15,
     "metadata": {},
     "output_type": "execute_result"
    }
   ],
   "source": [
    "col_names = []\n",
    "for ptag in ptags:\n",
    "    col_names.append(ptag[\"class\"][0])\n",
    "\n",
    "col_names"
   ]
  },
  {
   "cell_type": "code",
   "execution_count": 16,
   "metadata": {},
   "outputs": [
    {
     "data": {
      "text/html": [
       "<div>\n",
       "<style scoped>\n",
       "    .dataframe tbody tr th:only-of-type {\n",
       "        vertical-align: middle;\n",
       "    }\n",
       "\n",
       "    .dataframe tbody tr th {\n",
       "        vertical-align: top;\n",
       "    }\n",
       "\n",
       "    .dataframe thead th {\n",
       "        text-align: right;\n",
       "    }\n",
       "</style>\n",
       "<table border=\"1\" class=\"dataframe\">\n",
       "  <thead>\n",
       "    <tr style=\"text-align: right;\">\n",
       "      <th></th>\n",
       "      <th>rank</th>\n",
       "      <th>name</th>\n",
       "      <th>annual_compensation</th>\n",
       "      <th>company</th>\n",
       "    </tr>\n",
       "  </thead>\n",
       "  <tbody>\n",
       "  </tbody>\n",
       "</table>\n",
       "</div>"
      ],
      "text/plain": [
       "Empty DataFrame\n",
       "Columns: [rank, name, annual_compensation, company]\n",
       "Index: []"
      ]
     },
     "execution_count": 16,
     "metadata": {},
     "output_type": "execute_result"
    }
   ],
   "source": [
    "name_of_list = []\n",
    "\n",
    "# how to use it for df\n",
    "pd.DataFrame(name_of_list, columns = col_names)"
   ]
  },
  {
   "cell_type": "markdown",
   "metadata": {},
   "source": [
    "## Reality - not handed to you so cleanly\n",
    "#### Dealing with disorganized data"
   ]
  },
  {
   "cell_type": "code",
   "execution_count": 17,
   "metadata": {},
   "outputs": [
    {
     "data": {
      "text/plain": [
       "<section id=\"disorganized\">\n",
       "<h2>Disorganized - Top 5 Compensated CEOs in 2018</h2>\n",
       "<div class=\"ceo\">\n",
       "<span>Rank:</span><dt> 1</dt>\n",
       "<span>Name:</span><dt> Hock E. Tan</dt>\n",
       "<span>Annual compensation:</span><dt> $103.2 million</dt>\n",
       "<span>Company:</span><dt> Broadcom</dt>\n",
       "</div>\n",
       "<div class=\"ceo\">\n",
       "<span>Rank: </span><dt> 2</dt>\n",
       "<span>Name:</span><dt> Frank Bisignano</dt>\n",
       "<span>Annual Compensation:</span><dt> $102.2 million</dt>\n",
       "<span>Company:</span><dt> First Data (FDC)</dt>\n",
       "</div>\n",
       "<div class=\"ceo\">\n",
       "<span>Rank: </span><dt> 3</dt>\n",
       "<span>Name:</span><dt> Michael Rapino</dt>\n",
       "<span>Annual Compensation:</span><dt> $70.6 million</dt>\n",
       "<span>Company:</span><dt> Live Nation Entertainment (LYV)</dt>\n",
       "</div>\n",
       "<div class=\"ceo\">\n",
       "<span>Rank: </span><dt> 4</dt>\n",
       "<span>Name:</span><dt> Leslie Moonves</dt>\n",
       "<span>Annual Compensation:</span><dt> 68.4 million</dt>\n",
       "<span>Company:</span><dt> CBS</dt>\n",
       "</div>\n",
       "<div class=\"ceo\">\n",
       "<span>Rank: </span><dt> 5</dt>\n",
       "<span>Name:</span> <dt> Gregory Maffei</dt>\n",
       "<span>Annual Compensation:</span><dt> $67.2 million</dt>\n",
       "<span>Company:</span><dt> Liberty Media &amp; Qurate Retail Group</dt>\n",
       "</div>\n",
       "</section>"
      ]
     },
     "execution_count": 17,
     "metadata": {},
     "output_type": "execute_result"
    }
   ],
   "source": [
    "target = soup.find(id=\"disorganized\")\n",
    "target"
   ]
  },
  {
   "cell_type": "code",
   "execution_count": 18,
   "metadata": {},
   "outputs": [
    {
     "data": {
      "text/plain": [
       "[<div class=\"ceo\">\n",
       " <span>Rank:</span><dt> 1</dt>\n",
       " <span>Name:</span><dt> Hock E. Tan</dt>\n",
       " <span>Annual compensation:</span><dt> $103.2 million</dt>\n",
       " <span>Company:</span><dt> Broadcom</dt>\n",
       " </div>,\n",
       " <div class=\"ceo\">\n",
       " <span>Rank: </span><dt> 2</dt>\n",
       " <span>Name:</span><dt> Frank Bisignano</dt>\n",
       " <span>Annual Compensation:</span><dt> $102.2 million</dt>\n",
       " <span>Company:</span><dt> First Data (FDC)</dt>\n",
       " </div>,\n",
       " <div class=\"ceo\">\n",
       " <span>Rank: </span><dt> 3</dt>\n",
       " <span>Name:</span><dt> Michael Rapino</dt>\n",
       " <span>Annual Compensation:</span><dt> $70.6 million</dt>\n",
       " <span>Company:</span><dt> Live Nation Entertainment (LYV)</dt>\n",
       " </div>,\n",
       " <div class=\"ceo\">\n",
       " <span>Rank: </span><dt> 4</dt>\n",
       " <span>Name:</span><dt> Leslie Moonves</dt>\n",
       " <span>Annual Compensation:</span><dt> 68.4 million</dt>\n",
       " <span>Company:</span><dt> CBS</dt>\n",
       " </div>,\n",
       " <div class=\"ceo\">\n",
       " <span>Rank: </span><dt> 5</dt>\n",
       " <span>Name:</span> <dt> Gregory Maffei</dt>\n",
       " <span>Annual Compensation:</span><dt> $67.2 million</dt>\n",
       " <span>Company:</span><dt> Liberty Media &amp; Qurate Retail Group</dt>\n",
       " </div>]"
      ]
     },
     "execution_count": 18,
     "metadata": {},
     "output_type": "execute_result"
    }
   ],
   "source": [
    "ceos = target.find_all(\"div\", class_=\"ceo\")\n",
    "ceos"
   ]
  },
  {
   "cell_type": "code",
   "execution_count": 19,
   "metadata": {},
   "outputs": [],
   "source": [
    "# personal exercise\n",
    "ranks_dt = [ rank.find_all(\"dt\")[0].get_text().strip() for rank in ceos ]\n",
    "names_dt = [ name.find_all(\"dt\")[1].get_text().strip() for name in ceos ]\n",
    "salaries_dt = [ annual_comp.find_all(\"dt\")[2].get_text().strip() for annual_comp in ceos ] \n",
    "companies_dt = [ company.find_all(\"dt\")[3].get_text().strip() for company in ceos ]"
   ]
  },
  {
   "cell_type": "code",
   "execution_count": 20,
   "metadata": {},
   "outputs": [
    {
     "data": {
      "text/plain": [
       "['Rank:', 'Name:', 'Annual compensation:', 'Company:']"
      ]
     },
     "execution_count": 20,
     "metadata": {},
     "output_type": "execute_result"
    }
   ],
   "source": [
    "# personal exercise\n",
    "columns = ceos[0].find_all(\"span\")\n",
    "columns_list = []\n",
    "for column in columns:\n",
    "    columns_list.append(column.get_text().replace(\": \", \"\"))\n",
    "\n",
    "columns_list"
   ]
  },
  {
   "cell_type": "code",
   "execution_count": 21,
   "metadata": {},
   "outputs": [
    {
     "data": {
      "text/plain": [
       "[{'rank': '1',\n",
       "  'name': 'Hock E. Tan',\n",
       "  'annual compensation': '$103.2 million',\n",
       "  'company': 'Broadcom'},\n",
       " {'rank': '2',\n",
       "  'name': 'Frank Bisignano',\n",
       "  'annual compensation': '$102.2 million',\n",
       "  'company': 'First Data (FDC)'},\n",
       " {'rank': '3',\n",
       "  'name': 'Michael Rapino',\n",
       "  'annual compensation': '$70.6 million',\n",
       "  'company': 'Live Nation Entertainment (LYV)'},\n",
       " {'rank': '4',\n",
       "  'name': 'Leslie Moonves',\n",
       "  'annual compensation': '68.4 million',\n",
       "  'company': 'CBS'},\n",
       " {'rank': '5',\n",
       "  'name': 'Gregory Maffei',\n",
       "  'annual compensation': '$67.2 million',\n",
       "  'company': 'Liberty Media & Qurate Retail Group'}]"
      ]
     },
     "execution_count": 21,
     "metadata": {},
     "output_type": "execute_result"
    }
   ],
   "source": [
    "# in-class `for loop` solution\n",
    "\n",
    "ceo_data_list = []\n",
    "for ceo in ceos:\n",
    "    all_targets = ceo.find_all(\"dt\")\n",
    "    rank = all_targets[0].get_text(strip=True)\n",
    "    name = all_targets[1].get_text(strip=True)\n",
    "    annual_comp = all_targets[2].get_text(strip=True)\n",
    "    company = all_targets[3].get_text(strip=True)\n",
    "    ceo_data_list.append({\"rank\": rank, \"name\": name, \"annual compensation\": annual_comp, \"company\": company})\n",
    "\n",
    "ceo_data_list"
   ]
  },
  {
   "cell_type": "code",
   "execution_count": 22,
   "metadata": {},
   "outputs": [
    {
     "data": {
      "text/plain": [
       "[('1', 'Hock E. Tan', '$103.2 million', 'Broadcom'),\n",
       " ('2', 'Frank Bisignano', '$102.2 million', 'First Data (FDC)'),\n",
       " ('3', 'Michael Rapino', '$70.6 million', 'Live Nation Entertainment (LYV)'),\n",
       " ('4', 'Leslie Moonves', '68.4 million', 'CBS'),\n",
       " ('5',\n",
       "  'Gregory Maffei',\n",
       "  '$67.2 million',\n",
       "  'Liberty Media & Qurate Retail Group')]"
      ]
     },
     "execution_count": 22,
     "metadata": {},
     "output_type": "execute_result"
    }
   ],
   "source": [
    "# in-class challenge: working with tuples\n",
    "\n",
    "ceo_values = []\n",
    "for ceo in ceos:\n",
    "    data_ceo = ceo.find_all(\"dt\")[0:4]\n",
    "    ceo_tuple = tuple(ceo.get_text(strip=True) for ceo in data_ceo)\n",
    "    ceo_values.append(ceo_tuple)\n",
    "\n",
    "ceo_values"
   ]
  },
  {
   "cell_type": "code",
   "execution_count": 23,
   "metadata": {},
   "outputs": [
    {
     "data": {
      "text/plain": [
       "[('1', 'Hock E. Tan', '$103.2 million', 'Broadcom'),\n",
       " ('2', 'Frank Bisignano', '$102.2 million', 'First Data (FDC)'),\n",
       " ('3', 'Michael Rapino', '$70.6 million', 'Live Nation Entertainment (LYV)'),\n",
       " ('4', 'Leslie Moonves', '68.4 million', 'CBS'),\n",
       " ('5',\n",
       "  'Gregory Maffei',\n",
       "  '$67.2 million',\n",
       "  'Liberty Media & Qurate Retail Group')]"
      ]
     },
     "execution_count": 23,
     "metadata": {},
     "output_type": "execute_result"
    }
   ],
   "source": [
    "# in-class challeng: working with tuples\n",
    "# more efficient way\n",
    "\n",
    "ceo_values = [\n",
    "    tuple(ceo.get_text(strip=True) for ceo in ceo.find_all(\"dt\"))\n",
    "    for ceo in ceos\n",
    "]\n",
    "\n",
    "ceo_values"
   ]
  },
  {
   "cell_type": "markdown",
   "metadata": {
    "id": "YfF9k_35kQCS"
   },
   "source": [
    "### The same steps each time:\n",
    "\n",
    "* Is the content on the page (use ```Reveal Source```)?\n",
    "* Where and how is the content held on the page?\n",
    "* Which classes and IDs do we target?\n",
    "* Is there a pattern?\n",
    "* Is there anything that breaks the pattern?"
   ]
  },
  {
   "cell_type": "markdown",
   "metadata": {
    "id": "TTxmq3ZJkQCa"
   },
   "source": [
    "# Excluding classes\n",
    "\n",
    "Most modern sites have tags that include multiple classes.\n",
    "\n",
    "What if you want to target a tag with a single class but that class also appears in tags with others that holds other types of content.\n",
    "\n",
    "For example, capture ```Excluding Some Classes``` section of our page in ```BeautifulSoup``` object.\n",
    "\n"
   ]
  },
  {
   "cell_type": "code",
   "execution_count": 24,
   "metadata": {
    "id": "AnYKKYHFHNTi"
   },
   "outputs": [],
   "source": [
    "## RUN this cell that holds some html\n",
    "some_html = '''<li> Silly List </li>\n",
    "<li class=\"a\"> A alone  - UNWANTED </li>\n",
    "<li class=\"a z\"> A and Z  - UNWANTED </li>\n",
    "<li class=\"z\"> Z first - my target</li>\n",
    "<li class=\"b z\"> B and Z  - UNWANTED</li>\n",
    "<li class=\"x z\"> X and Z - UNWANTED </li>\n",
    "<li class=\"z\"> Z second - my target</li>'''\n",
    "\n"
   ]
  },
  {
   "cell_type": "markdown",
   "metadata": {
    "id": "GVXYAOG_HNTi"
   },
   "source": [
    "### Back to our CEOs"
   ]
  },
  {
   "cell_type": "code",
   "execution_count": null,
   "metadata": {},
   "outputs": [],
   "source": []
  }
 ],
 "metadata": {
  "celltoolbar": "Slideshow",
  "colab": {
   "provenance": []
  },
  "kernelspec": {
   "display_name": "Python 3 (ipykernel)",
   "language": "python",
   "name": "python3"
  },
  "language_info": {
   "codemirror_mode": {
    "name": "ipython",
    "version": 3
   },
   "file_extension": ".py",
   "mimetype": "text/x-python",
   "name": "python",
   "nbconvert_exporter": "python",
   "pygments_lexer": "ipython3",
   "version": "3.11.8"
  }
 },
 "nbformat": 4,
 "nbformat_minor": 4
}
