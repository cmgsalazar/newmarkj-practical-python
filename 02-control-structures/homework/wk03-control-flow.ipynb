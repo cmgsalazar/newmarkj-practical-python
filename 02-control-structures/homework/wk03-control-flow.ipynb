{
 "cells": [
  {
   "cell_type": "markdown",
   "id": "a50b15cc",
   "metadata": {},
   "source": [
    "## Q. 1\n",
    "You have a dataset that contains temperature data recorded daily over a month for a fictitious city. Categorize the temperature into different levels based on the following conditions:\n",
    "\n",
    "- \"Cold\" if the temperature is 50°F and below.\n",
    "- \"Cool\" if the temperature is above 50°F but below 68°F.\n",
    "- \"Warm\" if the temperature is 68°F and above but less than 86°F.\n",
    "- \"Hot\" if the temperature is 86°F and above.\n",
    "\n",
    "Print the result in the format ```Temperature X°F: whatever Category```\n"
   ]
  },
  {
   "cell_type": "code",
   "execution_count": 1,
   "id": "8ac2e955",
   "metadata": {},
   "outputs": [],
   "source": [
    "### dataset of temperatures:\n",
    "\n",
    "temps = [45, 52, 68, 73, 89, 47, 55, 81, 66,\n",
    "         77, 58, 62, 91, 49, 72, 85, 40, 63, 87, 53,\n",
    "         78, 60, 44, 59, 75, 90, 56, 48, 67, 82]\n"
   ]
  },
  {
   "cell_type": "code",
   "execution_count": 2,
   "id": "66c0e600",
   "metadata": {},
   "outputs": [
    {
     "name": "stdout",
     "output_type": "stream",
     "text": [
      "Temperature 45°F: Cold\n",
      "Temperature 52°F: Cool\n",
      "Temperature 68°F: Warm\n",
      "Temperature 73°F: Warm\n",
      "Temperature 89°F: Hot\n",
      "Temperature 47°F: Cold\n",
      "Temperature 55°F: Cool\n",
      "Temperature 81°F: Warm\n",
      "Temperature 66°F: Cool\n",
      "Temperature 77°F: Warm\n",
      "Temperature 58°F: Cool\n",
      "Temperature 62°F: Cool\n",
      "Temperature 91°F: Hot\n",
      "Temperature 49°F: Cold\n",
      "Temperature 72°F: Warm\n",
      "Temperature 85°F: Warm\n",
      "Temperature 40°F: Cold\n",
      "Temperature 63°F: Cool\n",
      "Temperature 87°F: Hot\n",
      "Temperature 53°F: Cool\n",
      "Temperature 78°F: Warm\n",
      "Temperature 60°F: Cool\n",
      "Temperature 44°F: Cold\n",
      "Temperature 59°F: Cool\n",
      "Temperature 75°F: Warm\n",
      "Temperature 90°F: Hot\n",
      "Temperature 56°F: Cool\n",
      "Temperature 48°F: Cold\n",
      "Temperature 67°F: Cool\n",
      "Temperature 82°F: Warm\n"
     ]
    }
   ],
   "source": [
    "## code it here \n",
    "\n",
    "for temp in temps:\n",
    "    if temp <= 50:\n",
    "        category = \"Cold\"\n",
    "    elif 50 < temp < 68:\n",
    "        category = \"Cool\"\n",
    "    elif 68 <= temp < 86:\n",
    "        category = \"Warm\"\n",
    "    else:\n",
    "        category = \"Hot\"\n",
    "    print(f\"Temperature {temp}°F: {category}\")"
   ]
  },
  {
   "cell_type": "markdown",
   "id": "ea7e9b9c",
   "metadata": {},
   "source": [
    "## Q. 2\n",
    "\n",
    "Now instead of printing the results, create a list of dictionaries in which each dictionary holds the key-value pairs of ```{\"temp\": temp_value}```"
   ]
  },
  {
   "cell_type": "code",
   "execution_count": 3,
   "id": "0947a342",
   "metadata": {},
   "outputs": [
    {
     "data": {
      "text/plain": [
       "[{'temp': 45},\n",
       " {'temp': 52},\n",
       " {'temp': 68},\n",
       " {'temp': 73},\n",
       " {'temp': 89},\n",
       " {'temp': 47},\n",
       " {'temp': 55},\n",
       " {'temp': 81},\n",
       " {'temp': 66},\n",
       " {'temp': 77},\n",
       " {'temp': 58},\n",
       " {'temp': 62},\n",
       " {'temp': 91},\n",
       " {'temp': 49},\n",
       " {'temp': 72},\n",
       " {'temp': 85},\n",
       " {'temp': 40},\n",
       " {'temp': 63},\n",
       " {'temp': 87},\n",
       " {'temp': 53},\n",
       " {'temp': 78},\n",
       " {'temp': 60},\n",
       " {'temp': 44},\n",
       " {'temp': 59},\n",
       " {'temp': 75},\n",
       " {'temp': 90},\n",
       " {'temp': 56},\n",
       " {'temp': 48},\n",
       " {'temp': 67},\n",
       " {'temp': 82}]"
      ]
     },
     "execution_count": 3,
     "metadata": {},
     "output_type": "execute_result"
    }
   ],
   "source": [
    "## code it here\n",
    "\n",
    "temp_dict = [ {\"temp\": temp_value} for temp_value in temps ]\n",
    "temp_dict"
   ]
  },
  {
   "cell_type": "markdown",
   "id": "46a15fb0",
   "metadata": {},
   "source": [
    "## Q. 3\n",
    "\n",
    "You have several lists that hold related data points. **Dynamically** create a list of dictionaries that hold each as a set of values. For example, your list of dictionaries should look like:\n",
    "\n",
    "```[{\"first_name\": \"Irene\", \"last_name\": \"Rosenfeld\", \"title\": \"Chair and CEO\", \"company\": \"Kraft Foods\", \"industry\": \"Food and Beverage\"}, ...NEXT dictionary]```\n",
    "\n",
    "**Dynamically** means don't manually create the dictionaries. Use programming to create your dictionaries."
   ]
  },
  {
   "cell_type": "code",
   "execution_count": 4,
   "id": "b88860fe",
   "metadata": {},
   "outputs": [],
   "source": [
    "## ##  RUN THIS CELL \n",
    "## Here we have a list of CEOs and their relevant data points.\n",
    "first_names = [\"Irene\", \"Ursula\", \"Elon\", \"Tim\"]\n",
    "last_names = [\"Rosenfeld\", \"Burns\", \"Musk\", \"Cook\"]\n",
    "titles = [\"Chair and CEO\", \"Chair and CEO\", \"CEO\", \"CEO\"]\n",
    "companies = [\"Kraft Foods\", \"Xerox\", \"Tesla\", \"Apple\"]\n",
    "industries = [\"Food and Beverage\", \"Process and Document Management\",\n",
    "              \"Auto Manufacturing\", \"Consumer Technology\"]"
   ]
  },
  {
   "cell_type": "code",
   "execution_count": 5,
   "id": "d067c3f3-c230-444e-8315-81edba471865",
   "metadata": {},
   "outputs": [
    {
     "data": {
      "text/plain": [
       "4"
      ]
     },
     "execution_count": 5,
     "metadata": {},
     "output_type": "execute_result"
    }
   ],
   "source": [
    "len(first_names)"
   ]
  },
  {
   "cell_type": "code",
   "execution_count": 6,
   "id": "06322e49-891e-4847-8858-a0f71c08dcac",
   "metadata": {},
   "outputs": [
    {
     "data": {
      "text/plain": [
       "4"
      ]
     },
     "execution_count": 6,
     "metadata": {},
     "output_type": "execute_result"
    }
   ],
   "source": [
    "len(last_names)"
   ]
  },
  {
   "cell_type": "code",
   "execution_count": 7,
   "id": "645a60a3-b5b8-4114-9aff-742b20cc7f92",
   "metadata": {},
   "outputs": [
    {
     "data": {
      "text/plain": [
       "4"
      ]
     },
     "execution_count": 7,
     "metadata": {},
     "output_type": "execute_result"
    }
   ],
   "source": [
    "len(titles)"
   ]
  },
  {
   "cell_type": "code",
   "execution_count": 8,
   "id": "6ba528bf-e14e-41f0-be0a-47664b44ef0c",
   "metadata": {},
   "outputs": [
    {
     "data": {
      "text/plain": [
       "4"
      ]
     },
     "execution_count": 8,
     "metadata": {},
     "output_type": "execute_result"
    }
   ],
   "source": [
    "len(companies)"
   ]
  },
  {
   "cell_type": "code",
   "execution_count": 9,
   "id": "c9a9c23a-7d34-43c6-a226-5c3deb2cefeb",
   "metadata": {},
   "outputs": [
    {
     "data": {
      "text/plain": [
       "4"
      ]
     },
     "execution_count": 9,
     "metadata": {},
     "output_type": "execute_result"
    }
   ],
   "source": [
    "len(industries)"
   ]
  },
  {
   "cell_type": "code",
   "execution_count": 10,
   "id": "64f8ff53-400c-4a85-93e0-fd5d3f4eaf7c",
   "metadata": {},
   "outputs": [],
   "source": [
    "## code it here\n",
    "\n",
    "list_of_dicts_lc = [\n",
    "    {\n",
    "        \"first_name\": first, \n",
    "        \"last_name\": last, \n",
    "        \"title\": title, \n",
    "        \"company\": company, \n",
    "        \"industry\": industry\n",
    "    }\n",
    "    for first, last, title, company, industry in zip(first_names, last_names, titles, companies, industries)\n",
    "]"
   ]
  },
  {
   "cell_type": "code",
   "execution_count": 11,
   "id": "e292040c-e47d-4c09-a67c-cd8825166afc",
   "metadata": {},
   "outputs": [
    {
     "data": {
      "text/plain": [
       "[{'first_name': 'Irene',\n",
       "  'last_name': 'Rosenfeld',\n",
       "  'title': 'Chair and CEO',\n",
       "  'company': 'Kraft Foods',\n",
       "  'industry': 'Food and Beverage'},\n",
       " {'first_name': 'Ursula',\n",
       "  'last_name': 'Burns',\n",
       "  'title': 'Chair and CEO',\n",
       "  'company': 'Xerox',\n",
       "  'industry': 'Process and Document Management'},\n",
       " {'first_name': 'Elon',\n",
       "  'last_name': 'Musk',\n",
       "  'title': 'CEO',\n",
       "  'company': 'Tesla',\n",
       "  'industry': 'Auto Manufacturing'},\n",
       " {'first_name': 'Tim',\n",
       "  'last_name': 'Cook',\n",
       "  'title': 'CEO',\n",
       "  'company': 'Apple',\n",
       "  'industry': 'Consumer Technology'}]"
      ]
     },
     "execution_count": 11,
     "metadata": {},
     "output_type": "execute_result"
    }
   ],
   "source": [
    "list_of_dicts_lc"
   ]
  },
  {
   "cell_type": "code",
   "execution_count": 12,
   "id": "f0b3bf38-eb0f-4215-9845-6b64d6ce6de4",
   "metadata": {},
   "outputs": [],
   "source": [
    "# Personal exercise\n",
    "\n",
    "list_of_dicts_fl = []\n",
    "\n",
    "for i in range(len(first_names)): \n",
    "# i refers to indices\n",
    "# this loops / iterates as many times as the number of items on the list \n",
    "    dicts_fl = {\n",
    "        \"first_name\": first_names[i],\n",
    "        \"last_name\": last_names[i],\n",
    "        \"title\": titles[i],\n",
    "        \"company\": companies[i],\n",
    "        \"industry\": industries[i]\n",
    "    }\n",
    "    list_of_dicts_fl.append(dicts_fl)"
   ]
  },
  {
   "cell_type": "code",
   "execution_count": 13,
   "id": "b2ceb4ce-16b7-4dba-a3fe-a7524c1fea54",
   "metadata": {},
   "outputs": [
    {
     "data": {
      "text/plain": [
       "[{'first_name': 'Irene',\n",
       "  'last_name': 'Rosenfeld',\n",
       "  'title': 'Chair and CEO',\n",
       "  'company': 'Kraft Foods',\n",
       "  'industry': 'Food and Beverage'},\n",
       " {'first_name': 'Ursula',\n",
       "  'last_name': 'Burns',\n",
       "  'title': 'Chair and CEO',\n",
       "  'company': 'Xerox',\n",
       "  'industry': 'Process and Document Management'},\n",
       " {'first_name': 'Elon',\n",
       "  'last_name': 'Musk',\n",
       "  'title': 'CEO',\n",
       "  'company': 'Tesla',\n",
       "  'industry': 'Auto Manufacturing'},\n",
       " {'first_name': 'Tim',\n",
       "  'last_name': 'Cook',\n",
       "  'title': 'CEO',\n",
       "  'company': 'Apple',\n",
       "  'industry': 'Consumer Technology'}]"
      ]
     },
     "execution_count": 13,
     "metadata": {},
     "output_type": "execute_result"
    }
   ],
   "source": [
    "list_of_dicts_fl"
   ]
  },
  {
   "cell_type": "code",
   "execution_count": null,
   "id": "e203b652-62d8-40ed-b871-480bc5091075",
   "metadata": {},
   "outputs": [],
   "source": []
  }
 ],
 "metadata": {
  "kernelspec": {
   "display_name": "Python 3 (ipykernel)",
   "language": "python",
   "name": "python3"
  },
  "language_info": {
   "codemirror_mode": {
    "name": "ipython",
    "version": 3
   },
   "file_extension": ".py",
   "mimetype": "text/x-python",
   "name": "python",
   "nbconvert_exporter": "python",
   "pygments_lexer": "ipython3",
   "version": "3.11.8"
  }
 },
 "nbformat": 4,
 "nbformat_minor": 5
}
