{
 "cells": [
  {
   "cell_type": "markdown",
   "metadata": {},
   "source": [
    "<img src=\"https://sandeepmj.github.io/image-host/green-scrapes.png\" >"
   ]
  },
  {
   "cell_type": "markdown",
   "metadata": {
    "id": "_nLIMxqRI2XZ"
   },
   "source": [
    "# Single Page, Single Table\n",
    "\n",
    "\n",
    "### We want to scrape a table that contains favorite morning drinks on this <a href=\"https://sandeepmj.github.io/scrape-example-page/\">demo page</a>.\n",
    "\n",
    "The webpage is ```https://sandeepmj.github.io/scrape-example-page/```\n",
    "\n",
    "**Create cells below as necessary**"
   ]
  },
  {
   "cell_type": "code",
   "execution_count": 1,
   "metadata": {},
   "outputs": [],
   "source": [
    "# importing libraries\n",
    "\n",
    "import pandas as pd"
   ]
  },
  {
   "cell_type": "code",
   "execution_count": 2,
   "metadata": {},
   "outputs": [
    {
     "name": "stdout",
     "output_type": "stream",
     "text": [
      "2.2.2\n"
     ]
    }
   ],
   "source": [
    "# checking pandas version\n",
    "\n",
    "print(pd.__version__)"
   ]
  },
  {
   "cell_type": "code",
   "execution_count": 3,
   "metadata": {},
   "outputs": [],
   "source": [
    "# scrape URL of website\n",
    "\n",
    "url = \"https://sandeepmj.github.io/scrape-example-page/\""
   ]
  },
  {
   "cell_type": "code",
   "execution_count": 4,
   "metadata": {},
   "outputs": [
    {
     "data": {
      "text/plain": [
       "[         Drink  Serving Size (oz)  Caffeine (mg)\n",
       " 0    Coke Zero                 16             45\n",
       " 1   Chai Latte                 16             95\n",
       " 2  Caffe Latte                 16            150,\n",
       "                 Player position Played Team  salary 2019\n",
       " 0         Kirk Cousins              QB  MIN  $27,500,000\n",
       " 1       Jameis Winston              QB  TAM  $20,922,000\n",
       " 2       Marcus Mariota              QB  TEN  $20,922,000\n",
       " 3           Derek Carr              QB  OAK  $19,900,000\n",
       " 4           Joe Flacco              QB  DEN  $18,500,000\n",
       " ...                ...             ...  ...          ...\n",
       " 1909  D'Ernest Johnson              RB  CLE     $495,000\n",
       " 1910  Garrett Bradbury              OL  MIN     $495,000\n",
       " 1911      Alex Redmond               G  CIN     $493,236\n",
       " 1912       Holton Hill              CB  MIN     $435,882\n",
       " 1913    Tyrone Swoopes              TE  SEA     $378,034\n",
       " \n",
       " [1914 rows x 4 columns]]"
      ]
     },
     "execution_count": 4,
     "metadata": {},
     "output_type": "execute_result"
    }
   ],
   "source": [
    "# read the URL\n",
    "\n",
    "pd.read_html(url) # only returns tabular data"
   ]
  },
  {
   "cell_type": "code",
   "execution_count": 5,
   "metadata": {},
   "outputs": [
    {
     "data": {
      "text/plain": [
       "list"
      ]
     },
     "execution_count": 5,
     "metadata": {},
     "output_type": "execute_result"
    }
   ],
   "source": [
    "type(pd.read_html(url))"
   ]
  },
  {
   "cell_type": "code",
   "execution_count": 6,
   "metadata": {},
   "outputs": [
    {
     "data": {
      "text/plain": [
       "[         Drink  Serving Size (oz)  Caffeine (mg)\n",
       " 0    Coke Zero                 16             45\n",
       " 1   Chai Latte                 16             95\n",
       " 2  Caffe Latte                 16            150,\n",
       "                 Player position Played Team  salary 2019\n",
       " 0         Kirk Cousins              QB  MIN  $27,500,000\n",
       " 1       Jameis Winston              QB  TAM  $20,922,000\n",
       " 2       Marcus Mariota              QB  TEN  $20,922,000\n",
       " 3           Derek Carr              QB  OAK  $19,900,000\n",
       " 4           Joe Flacco              QB  DEN  $18,500,000\n",
       " ...                ...             ...  ...          ...\n",
       " 1909  D'Ernest Johnson              RB  CLE     $495,000\n",
       " 1910  Garrett Bradbury              OL  MIN     $495,000\n",
       " 1911      Alex Redmond               G  CIN     $493,236\n",
       " 1912       Holton Hill              CB  MIN     $435,882\n",
       " 1913    Tyrone Swoopes              TE  SEA     $378,034\n",
       " \n",
       " [1914 rows x 4 columns]]"
      ]
     },
     "execution_count": 6,
     "metadata": {},
     "output_type": "execute_result"
    }
   ],
   "source": [
    "# store response\n",
    "\n",
    "response = pd.read_html(url)\n",
    "response"
   ]
  },
  {
   "cell_type": "code",
   "execution_count": 7,
   "metadata": {},
   "outputs": [
    {
     "data": {
      "text/plain": [
       "2"
      ]
     },
     "execution_count": 7,
     "metadata": {},
     "output_type": "execute_result"
    }
   ],
   "source": [
    "# how long is this list?\n",
    "\n",
    "len(response)"
   ]
  },
  {
   "cell_type": "code",
   "execution_count": 8,
   "metadata": {},
   "outputs": [
    {
     "data": {
      "text/html": [
       "<div>\n",
       "<style scoped>\n",
       "    .dataframe tbody tr th:only-of-type {\n",
       "        vertical-align: middle;\n",
       "    }\n",
       "\n",
       "    .dataframe tbody tr th {\n",
       "        vertical-align: top;\n",
       "    }\n",
       "\n",
       "    .dataframe thead th {\n",
       "        text-align: right;\n",
       "    }\n",
       "</style>\n",
       "<table border=\"1\" class=\"dataframe\">\n",
       "  <thead>\n",
       "    <tr style=\"text-align: right;\">\n",
       "      <th></th>\n",
       "      <th>Drink</th>\n",
       "      <th>Serving Size (oz)</th>\n",
       "      <th>Caffeine (mg)</th>\n",
       "    </tr>\n",
       "  </thead>\n",
       "  <tbody>\n",
       "    <tr>\n",
       "      <th>0</th>\n",
       "      <td>Coke Zero</td>\n",
       "      <td>16</td>\n",
       "      <td>45</td>\n",
       "    </tr>\n",
       "    <tr>\n",
       "      <th>1</th>\n",
       "      <td>Chai Latte</td>\n",
       "      <td>16</td>\n",
       "      <td>95</td>\n",
       "    </tr>\n",
       "    <tr>\n",
       "      <th>2</th>\n",
       "      <td>Caffe Latte</td>\n",
       "      <td>16</td>\n",
       "      <td>150</td>\n",
       "    </tr>\n",
       "  </tbody>\n",
       "</table>\n",
       "</div>"
      ],
      "text/plain": [
       "         Drink  Serving Size (oz)  Caffeine (mg)\n",
       "0    Coke Zero                 16             45\n",
       "1   Chai Latte                 16             95\n",
       "2  Caffe Latte                 16            150"
      ]
     },
     "execution_count": 8,
     "metadata": {},
     "output_type": "execute_result"
    }
   ],
   "source": [
    "# retrieve a single table, the first table\n",
    "\n",
    "df = response[0]\n",
    "df"
   ]
  },
  {
   "cell_type": "code",
   "execution_count": 9,
   "metadata": {},
   "outputs": [],
   "source": [
    "# export as csv\n",
    "\n",
    "df.to_csv(\"drinks.csv\", index=False, encoding=\"UTF-8\")"
   ]
  },
  {
   "cell_type": "markdown",
   "metadata": {
    "id": "SmWYyLkaJXhb"
   },
   "source": [
    "## Exercise: Scrape NFL salaries"
   ]
  },
  {
   "cell_type": "code",
   "execution_count": 10,
   "metadata": {},
   "outputs": [
    {
     "data": {
      "text/html": [
       "<div>\n",
       "<style scoped>\n",
       "    .dataframe tbody tr th:only-of-type {\n",
       "        vertical-align: middle;\n",
       "    }\n",
       "\n",
       "    .dataframe tbody tr th {\n",
       "        vertical-align: top;\n",
       "    }\n",
       "\n",
       "    .dataframe thead th {\n",
       "        text-align: right;\n",
       "    }\n",
       "</style>\n",
       "<table border=\"1\" class=\"dataframe\">\n",
       "  <thead>\n",
       "    <tr style=\"text-align: right;\">\n",
       "      <th></th>\n",
       "      <th>Player</th>\n",
       "      <th>position Played</th>\n",
       "      <th>Team</th>\n",
       "      <th>salary 2019</th>\n",
       "    </tr>\n",
       "  </thead>\n",
       "  <tbody>\n",
       "    <tr>\n",
       "      <th>0</th>\n",
       "      <td>Kirk Cousins</td>\n",
       "      <td>QB</td>\n",
       "      <td>MIN</td>\n",
       "      <td>$27,500,000</td>\n",
       "    </tr>\n",
       "    <tr>\n",
       "      <th>1</th>\n",
       "      <td>Jameis Winston</td>\n",
       "      <td>QB</td>\n",
       "      <td>TAM</td>\n",
       "      <td>$20,922,000</td>\n",
       "    </tr>\n",
       "    <tr>\n",
       "      <th>2</th>\n",
       "      <td>Marcus Mariota</td>\n",
       "      <td>QB</td>\n",
       "      <td>TEN</td>\n",
       "      <td>$20,922,000</td>\n",
       "    </tr>\n",
       "    <tr>\n",
       "      <th>3</th>\n",
       "      <td>Derek Carr</td>\n",
       "      <td>QB</td>\n",
       "      <td>OAK</td>\n",
       "      <td>$19,900,000</td>\n",
       "    </tr>\n",
       "    <tr>\n",
       "      <th>4</th>\n",
       "      <td>Joe Flacco</td>\n",
       "      <td>QB</td>\n",
       "      <td>DEN</td>\n",
       "      <td>$18,500,000</td>\n",
       "    </tr>\n",
       "    <tr>\n",
       "      <th>...</th>\n",
       "      <td>...</td>\n",
       "      <td>...</td>\n",
       "      <td>...</td>\n",
       "      <td>...</td>\n",
       "    </tr>\n",
       "    <tr>\n",
       "      <th>1909</th>\n",
       "      <td>D'Ernest Johnson</td>\n",
       "      <td>RB</td>\n",
       "      <td>CLE</td>\n",
       "      <td>$495,000</td>\n",
       "    </tr>\n",
       "    <tr>\n",
       "      <th>1910</th>\n",
       "      <td>Garrett Bradbury</td>\n",
       "      <td>OL</td>\n",
       "      <td>MIN</td>\n",
       "      <td>$495,000</td>\n",
       "    </tr>\n",
       "    <tr>\n",
       "      <th>1911</th>\n",
       "      <td>Alex Redmond</td>\n",
       "      <td>G</td>\n",
       "      <td>CIN</td>\n",
       "      <td>$493,236</td>\n",
       "    </tr>\n",
       "    <tr>\n",
       "      <th>1912</th>\n",
       "      <td>Holton Hill</td>\n",
       "      <td>CB</td>\n",
       "      <td>MIN</td>\n",
       "      <td>$435,882</td>\n",
       "    </tr>\n",
       "    <tr>\n",
       "      <th>1913</th>\n",
       "      <td>Tyrone Swoopes</td>\n",
       "      <td>TE</td>\n",
       "      <td>SEA</td>\n",
       "      <td>$378,034</td>\n",
       "    </tr>\n",
       "  </tbody>\n",
       "</table>\n",
       "<p>1914 rows × 4 columns</p>\n",
       "</div>"
      ],
      "text/plain": [
       "                Player position Played Team  salary 2019\n",
       "0         Kirk Cousins              QB  MIN  $27,500,000\n",
       "1       Jameis Winston              QB  TAM  $20,922,000\n",
       "2       Marcus Mariota              QB  TEN  $20,922,000\n",
       "3           Derek Carr              QB  OAK  $19,900,000\n",
       "4           Joe Flacco              QB  DEN  $18,500,000\n",
       "...                ...             ...  ...          ...\n",
       "1909  D'Ernest Johnson              RB  CLE     $495,000\n",
       "1910  Garrett Bradbury              OL  MIN     $495,000\n",
       "1911      Alex Redmond               G  CIN     $493,236\n",
       "1912       Holton Hill              CB  MIN     $435,882\n",
       "1913    Tyrone Swoopes              TE  SEA     $378,034\n",
       "\n",
       "[1914 rows x 4 columns]"
      ]
     },
     "execution_count": 10,
     "metadata": {},
     "output_type": "execute_result"
    }
   ],
   "source": [
    "## create cells as necessary\n",
    "\n",
    "nfl_df = response[1]\n",
    "nfl_df"
   ]
  },
  {
   "cell_type": "code",
   "execution_count": 11,
   "metadata": {},
   "outputs": [],
   "source": [
    "nfl_df.to_csv(\"nfl_salaries.csv\", index=False, encoding=\"UTF-8\")"
   ]
  },
  {
   "cell_type": "code",
   "execution_count": 12,
   "metadata": {},
   "outputs": [
    {
     "data": {
      "text/html": [
       "<div>\n",
       "<style scoped>\n",
       "    .dataframe tbody tr th:only-of-type {\n",
       "        vertical-align: middle;\n",
       "    }\n",
       "\n",
       "    .dataframe tbody tr th {\n",
       "        vertical-align: top;\n",
       "    }\n",
       "\n",
       "    .dataframe thead th {\n",
       "        text-align: right;\n",
       "    }\n",
       "</style>\n",
       "<table border=\"1\" class=\"dataframe\">\n",
       "  <thead>\n",
       "    <tr style=\"text-align: right;\">\n",
       "      <th></th>\n",
       "      <th>Player</th>\n",
       "      <th>position Played</th>\n",
       "      <th>Team</th>\n",
       "      <th>salary 2019</th>\n",
       "    </tr>\n",
       "  </thead>\n",
       "  <tbody>\n",
       "    <tr>\n",
       "      <th>0</th>\n",
       "      <td>Kirk Cousins</td>\n",
       "      <td>QB</td>\n",
       "      <td>MIN</td>\n",
       "      <td>$27,500,000</td>\n",
       "    </tr>\n",
       "    <tr>\n",
       "      <th>1</th>\n",
       "      <td>Jameis Winston</td>\n",
       "      <td>QB</td>\n",
       "      <td>TAM</td>\n",
       "      <td>$20,922,000</td>\n",
       "    </tr>\n",
       "    <tr>\n",
       "      <th>2</th>\n",
       "      <td>Marcus Mariota</td>\n",
       "      <td>QB</td>\n",
       "      <td>TEN</td>\n",
       "      <td>$20,922,000</td>\n",
       "    </tr>\n",
       "    <tr>\n",
       "      <th>3</th>\n",
       "      <td>Derek Carr</td>\n",
       "      <td>QB</td>\n",
       "      <td>OAK</td>\n",
       "      <td>$19,900,000</td>\n",
       "    </tr>\n",
       "    <tr>\n",
       "      <th>4</th>\n",
       "      <td>Joe Flacco</td>\n",
       "      <td>QB</td>\n",
       "      <td>DEN</td>\n",
       "      <td>$18,500,000</td>\n",
       "    </tr>\n",
       "    <tr>\n",
       "      <th>...</th>\n",
       "      <td>...</td>\n",
       "      <td>...</td>\n",
       "      <td>...</td>\n",
       "      <td>...</td>\n",
       "    </tr>\n",
       "    <tr>\n",
       "      <th>1909</th>\n",
       "      <td>D'Ernest Johnson</td>\n",
       "      <td>RB</td>\n",
       "      <td>CLE</td>\n",
       "      <td>$495,000</td>\n",
       "    </tr>\n",
       "    <tr>\n",
       "      <th>1910</th>\n",
       "      <td>Garrett Bradbury</td>\n",
       "      <td>OL</td>\n",
       "      <td>MIN</td>\n",
       "      <td>$495,000</td>\n",
       "    </tr>\n",
       "    <tr>\n",
       "      <th>1911</th>\n",
       "      <td>Alex Redmond</td>\n",
       "      <td>G</td>\n",
       "      <td>CIN</td>\n",
       "      <td>$493,236</td>\n",
       "    </tr>\n",
       "    <tr>\n",
       "      <th>1912</th>\n",
       "      <td>Holton Hill</td>\n",
       "      <td>CB</td>\n",
       "      <td>MIN</td>\n",
       "      <td>$435,882</td>\n",
       "    </tr>\n",
       "    <tr>\n",
       "      <th>1913</th>\n",
       "      <td>Tyrone Swoopes</td>\n",
       "      <td>TE</td>\n",
       "      <td>SEA</td>\n",
       "      <td>$378,034</td>\n",
       "    </tr>\n",
       "  </tbody>\n",
       "</table>\n",
       "<p>1914 rows × 4 columns</p>\n",
       "</div>"
      ],
      "text/plain": [
       "                Player position Played Team  salary 2019\n",
       "0         Kirk Cousins              QB  MIN  $27,500,000\n",
       "1       Jameis Winston              QB  TAM  $20,922,000\n",
       "2       Marcus Mariota              QB  TEN  $20,922,000\n",
       "3           Derek Carr              QB  OAK  $19,900,000\n",
       "4           Joe Flacco              QB  DEN  $18,500,000\n",
       "...                ...             ...  ...          ...\n",
       "1909  D'Ernest Johnson              RB  CLE     $495,000\n",
       "1910  Garrett Bradbury              OL  MIN     $495,000\n",
       "1911      Alex Redmond               G  CIN     $493,236\n",
       "1912       Holton Hill              CB  MIN     $435,882\n",
       "1913    Tyrone Swoopes              TE  SEA     $378,034\n",
       "\n",
       "[1914 rows x 4 columns]"
      ]
     },
     "execution_count": 12,
     "metadata": {},
     "output_type": "execute_result"
    }
   ],
   "source": [
    "pd.read_csv(\"nfl_salaries.csv\")"
   ]
  },
  {
   "cell_type": "markdown",
   "metadata": {
    "id": "1rg5ypHYQ2vB"
   },
   "source": [
    "# Multi-page Tables Scrape Demo\n",
    "\n",
    "You're often going to encounter data and tables spread across hundreds if not thousands of pages."
   ]
  },
  {
   "cell_type": "markdown",
   "metadata": {
    "id": "JLy-Ml41_-Zd"
   },
   "source": [
    "We might want to, for example, compile details about all the doctors  <a href=\"https://apps.health.ny.gov/pubdoh/professionals/doctors/conduct/factions/AllRecordsAction.action\">on this site</a> and export to a ```dataframe``` and a ```.csv``` file."
   ]
  },
  {
   "cell_type": "markdown",
   "metadata": {
    "id": "2FAa4EkaQ2vH"
   },
   "source": [
    "#### Today in class\n",
    "\n",
    "We're going to scrape as a demo a table that runs across several pages on [this mock website](https://sandeepmj.github.io/scrape-example-page/heaviest-animals-page1.html).\n",
    "\n",
    "```https://sandeepmj.github.io/scrape-example-page/heaviest-animals-page1.html```"
   ]
  },
  {
   "cell_type": "code",
   "execution_count": 13,
   "metadata": {},
   "outputs": [
    {
     "data": {
      "text/html": [
       "<div>\n",
       "<style scoped>\n",
       "    .dataframe tbody tr th:only-of-type {\n",
       "        vertical-align: middle;\n",
       "    }\n",
       "\n",
       "    .dataframe tbody tr th {\n",
       "        vertical-align: top;\n",
       "    }\n",
       "\n",
       "    .dataframe thead th {\n",
       "        text-align: right;\n",
       "    }\n",
       "</style>\n",
       "<table border=\"1\" class=\"dataframe\">\n",
       "  <thead>\n",
       "    <tr style=\"text-align: right;\">\n",
       "      <th></th>\n",
       "      <th>Animal</th>\n",
       "      <th>Weight(kg)</th>\n",
       "      <th>Type</th>\n",
       "    </tr>\n",
       "  </thead>\n",
       "  <tbody>\n",
       "    <tr>\n",
       "      <th>0</th>\n",
       "      <td>Blue whale</td>\n",
       "      <td>136000</td>\n",
       "      <td>Marine</td>\n",
       "    </tr>\n",
       "    <tr>\n",
       "      <th>1</th>\n",
       "      <td>Bowhead whale</td>\n",
       "      <td>100000</td>\n",
       "      <td>Marine</td>\n",
       "    </tr>\n",
       "    <tr>\n",
       "      <th>2</th>\n",
       "      <td>Fin whale</td>\n",
       "      <td>70000</td>\n",
       "      <td>Marine</td>\n",
       "    </tr>\n",
       "    <tr>\n",
       "      <th>3</th>\n",
       "      <td>Southern right whale</td>\n",
       "      <td>45000</td>\n",
       "      <td>Marine</td>\n",
       "    </tr>\n",
       "    <tr>\n",
       "      <th>4</th>\n",
       "      <td>Humpback whale</td>\n",
       "      <td>30000</td>\n",
       "      <td>Marine</td>\n",
       "    </tr>\n",
       "  </tbody>\n",
       "</table>\n",
       "</div>"
      ],
      "text/plain": [
       "                 Animal  Weight(kg)    Type\n",
       "0            Blue whale      136000  Marine\n",
       "1         Bowhead whale      100000  Marine\n",
       "2             Fin whale       70000  Marine\n",
       "3  Southern right whale       45000  Marine\n",
       "4        Humpback whale       30000  Marine"
      ]
     },
     "execution_count": 13,
     "metadata": {},
     "output_type": "execute_result"
    }
   ],
   "source": [
    "# single-page scrape\n",
    "\n",
    "url = \"https://sandeepmj.github.io/scrape-example-page/heaviest-animals-page1.html\"\n",
    "response = pd.read_html(url)\n",
    "response[0]"
   ]
  },
  {
   "cell_type": "code",
   "execution_count": 14,
   "metadata": {},
   "outputs": [
    {
     "data": {
      "text/plain": [
       "'https://sandeepmj.github.io/scrape-example-page/heaviest-animals-page'"
      ]
     },
     "execution_count": 14,
     "metadata": {},
     "output_type": "execute_result"
    }
   ],
   "source": [
    "base_url = \"https://sandeepmj.github.io/scrape-example-page/heaviest-animals-page\"\n",
    "base_url"
   ]
  },
  {
   "cell_type": "code",
   "execution_count": 15,
   "metadata": {},
   "outputs": [
    {
     "data": {
      "text/plain": [
       "['https://sandeepmj.github.io/scrape-example-page/heaviest-animals-page1.html',\n",
       " 'https://sandeepmj.github.io/scrape-example-page/heaviest-animals-page2.html',\n",
       " 'https://sandeepmj.github.io/scrape-example-page/heaviest-animals-page3.html',\n",
       " 'https://sandeepmj.github.io/scrape-example-page/heaviest-animals-page4.html',\n",
       " 'https://sandeepmj.github.io/scrape-example-page/heaviest-animals-page5.html',\n",
       " 'https://sandeepmj.github.io/scrape-example-page/heaviest-animals-page6.html']"
      ]
     },
     "execution_count": 15,
     "metadata": {},
     "output_type": "execute_result"
    }
   ],
   "source": [
    "urls_fl = []\n",
    "\n",
    "for url_number in range(1,7): # range(inclusive/start, exclusive/end)\n",
    "    urls_fl.append(f\"{base_url}{url_number}.html\")\n",
    "\n",
    "urls_fl"
   ]
  },
  {
   "cell_type": "code",
   "execution_count": 16,
   "metadata": {},
   "outputs": [
    {
     "data": {
      "text/plain": [
       "['https://sandeepmj.github.io/scrape-example-page/heaviest-animals-page1.html',\n",
       " 'https://sandeepmj.github.io/scrape-example-page/heaviest-animals-page2.html',\n",
       " 'https://sandeepmj.github.io/scrape-example-page/heaviest-animals-page3.html',\n",
       " 'https://sandeepmj.github.io/scrape-example-page/heaviest-animals-page4.html',\n",
       " 'https://sandeepmj.github.io/scrape-example-page/heaviest-animals-page5.html',\n",
       " 'https://sandeepmj.github.io/scrape-example-page/heaviest-animals-page6.html']"
      ]
     },
     "execution_count": 16,
     "metadata": {},
     "output_type": "execute_result"
    }
   ],
   "source": [
    "# list comprehension version\n",
    "\n",
    "urls_lc = [ f\"{base_url}{url_number}.html\" for url_number in range(1,7) ]\n",
    "urls_lc"
   ]
  },
  {
   "cell_type": "code",
   "execution_count": 17,
   "metadata": {},
   "outputs": [],
   "source": [
    "# importing libraries\n",
    "\n",
    "from random import randrange\n",
    "import time"
   ]
  },
  {
   "cell_type": "code",
   "execution_count": 18,
   "metadata": {},
   "outputs": [
    {
     "name": "stdout",
     "output_type": "stream",
     "text": [
      "[                 Animal  Weight(kg)    Type\n",
      "0            Blue whale      136000  Marine\n",
      "1         Bowhead whale      100000  Marine\n",
      "2             Fin whale       70000  Marine\n",
      "3  Southern right whale       45000  Marine\n",
      "4        Humpback whale       30000  Marine]\n",
      "Snoozing for 6 seconds before next scrape\n",
      "[                 Animal  Weight(kg)    Type\n",
      "0            Gray whale       28500  Marine\n",
      "1  Northern right whale       23000  Marine\n",
      "2             Sei whale       20000  Marine\n",
      "3         Bryde's whale       16000  Marine\n",
      "4  Baird's beaked whale       11380  Marine]\n",
      "Snoozing for 11 seconds before next scrape\n",
      "[                      Animal  Weight(kg)         Type\n",
      "0                Minke whale        7500       Marine\n",
      "1  Northern bottlenose whale        6500       Marine\n",
      "2     Gervais's beaked whale        5600       Marine\n",
      "3           African elephant        4800  Terrestrial\n",
      "4               Killer whale        3988       Marine]\n",
      "Snoozing for 11 seconds before next scrape\n"
     ]
    },
    {
     "ename": "ValueError",
     "evalue": "No tables found",
     "output_type": "error",
     "traceback": [
      "\u001b[0;31m---------------------------------------------------------------------------\u001b[0m",
      "\u001b[0;31mValueError\u001b[0m                                Traceback (most recent call last)",
      "Cell \u001b[0;32mIn[18], line 4\u001b[0m\n\u001b[1;32m      1\u001b[0m \u001b[38;5;66;03m# using snoozer \u001b[39;00m\n\u001b[1;32m      3\u001b[0m \u001b[38;5;28;01mfor\u001b[39;00m url \u001b[38;5;129;01min\u001b[39;00m urls_lc:\n\u001b[0;32m----> 4\u001b[0m     df \u001b[38;5;241m=\u001b[39m \u001b[43mpd\u001b[49m\u001b[38;5;241;43m.\u001b[39;49m\u001b[43mread_html\u001b[49m\u001b[43m(\u001b[49m\u001b[43murl\u001b[49m\u001b[43m)\u001b[49m\n\u001b[1;32m      5\u001b[0m     \u001b[38;5;28mprint\u001b[39m(df)\n\u001b[1;32m      6\u001b[0m     snoozer \u001b[38;5;241m=\u001b[39m randrange(\u001b[38;5;241m5\u001b[39m,\u001b[38;5;241m12\u001b[39m)\n",
      "File \u001b[0;32m~/.pyenv/versions/3.11.8/lib/python3.11/site-packages/pandas/io/html.py:1240\u001b[0m, in \u001b[0;36mread_html\u001b[0;34m(io, match, flavor, header, index_col, skiprows, attrs, parse_dates, thousands, encoding, decimal, converters, na_values, keep_default_na, displayed_only, extract_links, dtype_backend, storage_options)\u001b[0m\n\u001b[1;32m   1224\u001b[0m \u001b[38;5;28;01mif\u001b[39;00m \u001b[38;5;28misinstance\u001b[39m(io, \u001b[38;5;28mstr\u001b[39m) \u001b[38;5;129;01mand\u001b[39;00m \u001b[38;5;129;01mnot\u001b[39;00m \u001b[38;5;28many\u001b[39m(\n\u001b[1;32m   1225\u001b[0m     [\n\u001b[1;32m   1226\u001b[0m         is_file_like(io),\n\u001b[0;32m   (...)\u001b[0m\n\u001b[1;32m   1230\u001b[0m     ]\n\u001b[1;32m   1231\u001b[0m ):\n\u001b[1;32m   1232\u001b[0m     warnings\u001b[38;5;241m.\u001b[39mwarn(\n\u001b[1;32m   1233\u001b[0m         \u001b[38;5;124m\"\u001b[39m\u001b[38;5;124mPassing literal html to \u001b[39m\u001b[38;5;124m'\u001b[39m\u001b[38;5;124mread_html\u001b[39m\u001b[38;5;124m'\u001b[39m\u001b[38;5;124m is deprecated and \u001b[39m\u001b[38;5;124m\"\u001b[39m\n\u001b[1;32m   1234\u001b[0m         \u001b[38;5;124m\"\u001b[39m\u001b[38;5;124mwill be removed in a future version. To read from a \u001b[39m\u001b[38;5;124m\"\u001b[39m\n\u001b[0;32m   (...)\u001b[0m\n\u001b[1;32m   1237\u001b[0m         stacklevel\u001b[38;5;241m=\u001b[39mfind_stack_level(),\n\u001b[1;32m   1238\u001b[0m     )\n\u001b[0;32m-> 1240\u001b[0m \u001b[38;5;28;01mreturn\u001b[39;00m \u001b[43m_parse\u001b[49m\u001b[43m(\u001b[49m\n\u001b[1;32m   1241\u001b[0m \u001b[43m    \u001b[49m\u001b[43mflavor\u001b[49m\u001b[38;5;241;43m=\u001b[39;49m\u001b[43mflavor\u001b[49m\u001b[43m,\u001b[49m\n\u001b[1;32m   1242\u001b[0m \u001b[43m    \u001b[49m\u001b[43mio\u001b[49m\u001b[38;5;241;43m=\u001b[39;49m\u001b[43mio\u001b[49m\u001b[43m,\u001b[49m\n\u001b[1;32m   1243\u001b[0m \u001b[43m    \u001b[49m\u001b[43mmatch\u001b[49m\u001b[38;5;241;43m=\u001b[39;49m\u001b[43mmatch\u001b[49m\u001b[43m,\u001b[49m\n\u001b[1;32m   1244\u001b[0m \u001b[43m    \u001b[49m\u001b[43mheader\u001b[49m\u001b[38;5;241;43m=\u001b[39;49m\u001b[43mheader\u001b[49m\u001b[43m,\u001b[49m\n\u001b[1;32m   1245\u001b[0m \u001b[43m    \u001b[49m\u001b[43mindex_col\u001b[49m\u001b[38;5;241;43m=\u001b[39;49m\u001b[43mindex_col\u001b[49m\u001b[43m,\u001b[49m\n\u001b[1;32m   1246\u001b[0m \u001b[43m    \u001b[49m\u001b[43mskiprows\u001b[49m\u001b[38;5;241;43m=\u001b[39;49m\u001b[43mskiprows\u001b[49m\u001b[43m,\u001b[49m\n\u001b[1;32m   1247\u001b[0m \u001b[43m    \u001b[49m\u001b[43mparse_dates\u001b[49m\u001b[38;5;241;43m=\u001b[39;49m\u001b[43mparse_dates\u001b[49m\u001b[43m,\u001b[49m\n\u001b[1;32m   1248\u001b[0m \u001b[43m    \u001b[49m\u001b[43mthousands\u001b[49m\u001b[38;5;241;43m=\u001b[39;49m\u001b[43mthousands\u001b[49m\u001b[43m,\u001b[49m\n\u001b[1;32m   1249\u001b[0m \u001b[43m    \u001b[49m\u001b[43mattrs\u001b[49m\u001b[38;5;241;43m=\u001b[39;49m\u001b[43mattrs\u001b[49m\u001b[43m,\u001b[49m\n\u001b[1;32m   1250\u001b[0m \u001b[43m    \u001b[49m\u001b[43mencoding\u001b[49m\u001b[38;5;241;43m=\u001b[39;49m\u001b[43mencoding\u001b[49m\u001b[43m,\u001b[49m\n\u001b[1;32m   1251\u001b[0m \u001b[43m    \u001b[49m\u001b[43mdecimal\u001b[49m\u001b[38;5;241;43m=\u001b[39;49m\u001b[43mdecimal\u001b[49m\u001b[43m,\u001b[49m\n\u001b[1;32m   1252\u001b[0m \u001b[43m    \u001b[49m\u001b[43mconverters\u001b[49m\u001b[38;5;241;43m=\u001b[39;49m\u001b[43mconverters\u001b[49m\u001b[43m,\u001b[49m\n\u001b[1;32m   1253\u001b[0m \u001b[43m    \u001b[49m\u001b[43mna_values\u001b[49m\u001b[38;5;241;43m=\u001b[39;49m\u001b[43mna_values\u001b[49m\u001b[43m,\u001b[49m\n\u001b[1;32m   1254\u001b[0m \u001b[43m    \u001b[49m\u001b[43mkeep_default_na\u001b[49m\u001b[38;5;241;43m=\u001b[39;49m\u001b[43mkeep_default_na\u001b[49m\u001b[43m,\u001b[49m\n\u001b[1;32m   1255\u001b[0m \u001b[43m    \u001b[49m\u001b[43mdisplayed_only\u001b[49m\u001b[38;5;241;43m=\u001b[39;49m\u001b[43mdisplayed_only\u001b[49m\u001b[43m,\u001b[49m\n\u001b[1;32m   1256\u001b[0m \u001b[43m    \u001b[49m\u001b[43mextract_links\u001b[49m\u001b[38;5;241;43m=\u001b[39;49m\u001b[43mextract_links\u001b[49m\u001b[43m,\u001b[49m\n\u001b[1;32m   1257\u001b[0m \u001b[43m    \u001b[49m\u001b[43mdtype_backend\u001b[49m\u001b[38;5;241;43m=\u001b[39;49m\u001b[43mdtype_backend\u001b[49m\u001b[43m,\u001b[49m\n\u001b[1;32m   1258\u001b[0m \u001b[43m    \u001b[49m\u001b[43mstorage_options\u001b[49m\u001b[38;5;241;43m=\u001b[39;49m\u001b[43mstorage_options\u001b[49m\u001b[43m,\u001b[49m\n\u001b[1;32m   1259\u001b[0m \u001b[43m\u001b[49m\u001b[43m)\u001b[49m\n",
      "File \u001b[0;32m~/.pyenv/versions/3.11.8/lib/python3.11/site-packages/pandas/io/html.py:1003\u001b[0m, in \u001b[0;36m_parse\u001b[0;34m(flavor, io, match, attrs, encoding, displayed_only, extract_links, storage_options, **kwargs)\u001b[0m\n\u001b[1;32m   1001\u001b[0m \u001b[38;5;28;01melse\u001b[39;00m:\n\u001b[1;32m   1002\u001b[0m     \u001b[38;5;28;01massert\u001b[39;00m retained \u001b[38;5;129;01mis\u001b[39;00m \u001b[38;5;129;01mnot\u001b[39;00m \u001b[38;5;28;01mNone\u001b[39;00m  \u001b[38;5;66;03m# for mypy\u001b[39;00m\n\u001b[0;32m-> 1003\u001b[0m     \u001b[38;5;28;01mraise\u001b[39;00m retained\n\u001b[1;32m   1005\u001b[0m ret \u001b[38;5;241m=\u001b[39m []\n\u001b[1;32m   1006\u001b[0m \u001b[38;5;28;01mfor\u001b[39;00m table \u001b[38;5;129;01min\u001b[39;00m tables:\n",
      "File \u001b[0;32m~/.pyenv/versions/3.11.8/lib/python3.11/site-packages/pandas/io/html.py:983\u001b[0m, in \u001b[0;36m_parse\u001b[0;34m(flavor, io, match, attrs, encoding, displayed_only, extract_links, storage_options, **kwargs)\u001b[0m\n\u001b[1;32m    972\u001b[0m p \u001b[38;5;241m=\u001b[39m parser(\n\u001b[1;32m    973\u001b[0m     io,\n\u001b[1;32m    974\u001b[0m     compiled_match,\n\u001b[0;32m   (...)\u001b[0m\n\u001b[1;32m    979\u001b[0m     storage_options,\n\u001b[1;32m    980\u001b[0m )\n\u001b[1;32m    982\u001b[0m \u001b[38;5;28;01mtry\u001b[39;00m:\n\u001b[0;32m--> 983\u001b[0m     tables \u001b[38;5;241m=\u001b[39m \u001b[43mp\u001b[49m\u001b[38;5;241;43m.\u001b[39;49m\u001b[43mparse_tables\u001b[49m\u001b[43m(\u001b[49m\u001b[43m)\u001b[49m\n\u001b[1;32m    984\u001b[0m \u001b[38;5;28;01mexcept\u001b[39;00m \u001b[38;5;167;01mValueError\u001b[39;00m \u001b[38;5;28;01mas\u001b[39;00m caught:\n\u001b[1;32m    985\u001b[0m     \u001b[38;5;66;03m# if `io` is an io-like object, check if it's seekable\u001b[39;00m\n\u001b[1;32m    986\u001b[0m     \u001b[38;5;66;03m# and try to rewind it before trying the next parser\u001b[39;00m\n\u001b[1;32m    987\u001b[0m     \u001b[38;5;28;01mif\u001b[39;00m \u001b[38;5;28mhasattr\u001b[39m(io, \u001b[38;5;124m\"\u001b[39m\u001b[38;5;124mseekable\u001b[39m\u001b[38;5;124m\"\u001b[39m) \u001b[38;5;129;01mand\u001b[39;00m io\u001b[38;5;241m.\u001b[39mseekable():\n",
      "File \u001b[0;32m~/.pyenv/versions/3.11.8/lib/python3.11/site-packages/pandas/io/html.py:249\u001b[0m, in \u001b[0;36m_HtmlFrameParser.parse_tables\u001b[0;34m(self)\u001b[0m\n\u001b[1;32m    241\u001b[0m \u001b[38;5;28;01mdef\u001b[39;00m \u001b[38;5;21mparse_tables\u001b[39m(\u001b[38;5;28mself\u001b[39m):\n\u001b[1;32m    242\u001b[0m \u001b[38;5;250m    \u001b[39m\u001b[38;5;124;03m\"\"\"\u001b[39;00m\n\u001b[1;32m    243\u001b[0m \u001b[38;5;124;03m    Parse and return all tables from the DOM.\u001b[39;00m\n\u001b[1;32m    244\u001b[0m \n\u001b[0;32m   (...)\u001b[0m\n\u001b[1;32m    247\u001b[0m \u001b[38;5;124;03m    list of parsed (header, body, footer) tuples from tables.\u001b[39;00m\n\u001b[1;32m    248\u001b[0m \u001b[38;5;124;03m    \"\"\"\u001b[39;00m\n\u001b[0;32m--> 249\u001b[0m     tables \u001b[38;5;241m=\u001b[39m \u001b[38;5;28;43mself\u001b[39;49m\u001b[38;5;241;43m.\u001b[39;49m\u001b[43m_parse_tables\u001b[49m\u001b[43m(\u001b[49m\u001b[38;5;28;43mself\u001b[39;49m\u001b[38;5;241;43m.\u001b[39;49m\u001b[43m_build_doc\u001b[49m\u001b[43m(\u001b[49m\u001b[43m)\u001b[49m\u001b[43m,\u001b[49m\u001b[43m \u001b[49m\u001b[38;5;28;43mself\u001b[39;49m\u001b[38;5;241;43m.\u001b[39;49m\u001b[43mmatch\u001b[49m\u001b[43m,\u001b[49m\u001b[43m \u001b[49m\u001b[38;5;28;43mself\u001b[39;49m\u001b[38;5;241;43m.\u001b[39;49m\u001b[43mattrs\u001b[49m\u001b[43m)\u001b[49m\n\u001b[1;32m    250\u001b[0m     \u001b[38;5;28;01mreturn\u001b[39;00m (\u001b[38;5;28mself\u001b[39m\u001b[38;5;241m.\u001b[39m_parse_thead_tbody_tfoot(table) \u001b[38;5;28;01mfor\u001b[39;00m table \u001b[38;5;129;01min\u001b[39;00m tables)\n",
      "File \u001b[0;32m~/.pyenv/versions/3.11.8/lib/python3.11/site-packages/pandas/io/html.py:598\u001b[0m, in \u001b[0;36m_BeautifulSoupHtml5LibFrameParser._parse_tables\u001b[0;34m(self, document, match, attrs)\u001b[0m\n\u001b[1;32m    596\u001b[0m tables \u001b[38;5;241m=\u001b[39m document\u001b[38;5;241m.\u001b[39mfind_all(element_name, attrs\u001b[38;5;241m=\u001b[39mattrs)\n\u001b[1;32m    597\u001b[0m \u001b[38;5;28;01mif\u001b[39;00m \u001b[38;5;129;01mnot\u001b[39;00m tables:\n\u001b[0;32m--> 598\u001b[0m     \u001b[38;5;28;01mraise\u001b[39;00m \u001b[38;5;167;01mValueError\u001b[39;00m(\u001b[38;5;124m\"\u001b[39m\u001b[38;5;124mNo tables found\u001b[39m\u001b[38;5;124m\"\u001b[39m)\n\u001b[1;32m    600\u001b[0m result \u001b[38;5;241m=\u001b[39m []\n\u001b[1;32m    601\u001b[0m unique_tables \u001b[38;5;241m=\u001b[39m \u001b[38;5;28mset\u001b[39m()\n",
      "\u001b[0;31mValueError\u001b[0m: No tables found"
     ]
    }
   ],
   "source": [
    "# using snoozer \n",
    "\n",
    "for url in urls_lc:\n",
    "    df = pd.read_html(url)\n",
    "    print(df)\n",
    "    snoozer = randrange(5,12)\n",
    "    print(f\"Snoozing for {snoozer} seconds before next scrape\")\n",
    "    time.sleep(snoozer)"
   ]
  },
  {
   "cell_type": "code",
   "execution_count": 22,
   "metadata": {},
   "outputs": [
    {
     "name": "stdout",
     "output_type": "stream",
     "text": [
      "[                 Animal  Weight(kg)    Type\n",
      "0            Blue whale      136000  Marine\n",
      "1         Bowhead whale      100000  Marine\n",
      "2             Fin whale       70000  Marine\n",
      "3  Southern right whale       45000  Marine\n",
      "4        Humpback whale       30000  Marine]\n",
      "Snoozing for 7 seconds before next scrape\n",
      "[                 Animal  Weight(kg)    Type\n",
      "0            Gray whale       28500  Marine\n",
      "1  Northern right whale       23000  Marine\n",
      "2             Sei whale       20000  Marine\n",
      "3         Bryde's whale       16000  Marine\n",
      "4  Baird's beaked whale       11380  Marine]\n",
      "Snoozing for 7 seconds before next scrape\n",
      "[                      Animal  Weight(kg)         Type\n",
      "0                Minke whale        7500       Marine\n",
      "1  Northern bottlenose whale        6500       Marine\n",
      "2     Gervais's beaked whale        5600       Marine\n",
      "3           African elephant        4800  Terrestrial\n",
      "4               Killer whale        3988       Marine]\n",
      "Snoozing for 9 seconds before next scrape\n",
      "Uh-oh... Problem with https://sandeepmj.github.io/scrape-example-page/heaviest-animals-page4.html\n",
      "Snoozing for 9 seconds before next scrape\n",
      "[                     Animal  Weight(kg)         Type\n",
      "0              Hippopotamus        3750  Terrestrial\n",
      "1            Asian elephant        3178  Terrestrial\n",
      "2     Cuvier's beaked whale        2701       Marine\n",
      "3  Short-finned pilot whale        2200       Marine\n",
      "4          White rhinoceros        2175  Terrestrial]\n",
      "Snoozing for 7 seconds before next scrape\n",
      "Uh-oh... Problem with https://sandeepmj.github.io/scrape-example-page/heaviest-animals-page6.html\n",
      "Snoozing for 8 seconds before next scrape\n"
     ]
    }
   ],
   "source": [
    "# try-except-finally in action\n",
    "\n",
    "for url in urls_lc:\n",
    "    try:\n",
    "        df = pd.read_html(url)\n",
    "        print(df)\n",
    "    except:\n",
    "        print(f\"Uh-oh... Problem with {url}\")\n",
    "    finally: \n",
    "        snoozer = randrange(5,12)\n",
    "        print(f\"Snoozing for {snoozer} seconds before next scrape\")\n",
    "        time.sleep(snoozer)"
   ]
  },
  {
   "cell_type": "markdown",
   "metadata": {},
   "source": [
    "## How do we refine the above code?\n",
    "\n",
    "1. Flagging when the scraping is done\n",
    "2. List appending a main df, compiling to a single df\n",
    "3. List for URLs with an error\n",
    "4. Counter to show the progress at a given time"
   ]
  },
  {
   "cell_type": "code",
   "execution_count": 23,
   "metadata": {},
   "outputs": [
    {
     "data": {
      "text/plain": [
       "6"
      ]
     },
     "execution_count": 23,
     "metadata": {},
     "output_type": "execute_result"
    }
   ],
   "source": [
    "total_links = len(urls_lc)\n",
    "total_links"
   ]
  },
  {
   "cell_type": "code",
   "execution_count": 24,
   "metadata": {},
   "outputs": [
    {
     "name": "stdout",
     "output_type": "stream",
     "text": [
      "Scraping link 1 of 6...\n",
      "                 Animal  Weight(kg)    Type\n",
      "0            Blue whale      136000  Marine\n",
      "1         Bowhead whale      100000  Marine\n",
      "2             Fin whale       70000  Marine\n",
      "3  Southern right whale       45000  Marine\n",
      "4        Humpback whale       30000  Marine\n",
      "Snoozing for 11 seconds before next scrape\n",
      "Scraping link 2 of 6...\n",
      "                 Animal  Weight(kg)    Type\n",
      "0            Gray whale       28500  Marine\n",
      "1  Northern right whale       23000  Marine\n",
      "2             Sei whale       20000  Marine\n",
      "3         Bryde's whale       16000  Marine\n",
      "4  Baird's beaked whale       11380  Marine\n",
      "Snoozing for 6 seconds before next scrape\n",
      "Scraping link 3 of 6...\n",
      "                      Animal  Weight(kg)         Type\n",
      "0                Minke whale        7500       Marine\n",
      "1  Northern bottlenose whale        6500       Marine\n",
      "2     Gervais's beaked whale        5600       Marine\n",
      "3           African elephant        4800  Terrestrial\n",
      "4               Killer whale        3988       Marine\n",
      "Snoozing for 11 seconds before next scrape\n",
      "Scraping link 4 of 6...\n",
      "Uh-oh... Problem with https://sandeepmj.github.io/scrape-example-page/heaviest-animals-page4.html\n",
      "Snoozing for 11 seconds before next scrape\n",
      "Scraping link 5 of 6...\n",
      "                     Animal  Weight(kg)         Type\n",
      "0              Hippopotamus        3750  Terrestrial\n",
      "1            Asian elephant        3178  Terrestrial\n",
      "2     Cuvier's beaked whale        2701       Marine\n",
      "3  Short-finned pilot whale        2200       Marine\n",
      "4          White rhinoceros        2175  Terrestrial\n",
      "Snoozing for 11 seconds before next scrape\n",
      "Scraping link 6 of 6...\n",
      "Uh-oh... Problem with https://sandeepmj.github.io/scrape-example-page/heaviest-animals-page6.html\n",
      "Snoozing for 10 seconds before next scrape\n",
      "Done scraping!\n"
     ]
    }
   ],
   "source": [
    "df_all = [] # holds all dataframes\n",
    "problem_urls = [] # holds problematic URLs\n",
    "counter = 0\n",
    "\n",
    "for url in urls_lc:\n",
    "    counter = counter + 1\n",
    "    print(f\"Scraping link {counter} of {total_links}...\")\n",
    "    try:\n",
    "        df = pd.read_html(url)\n",
    "        print(df[0])\n",
    "        df_all.append(df[0])\n",
    "    except:\n",
    "        print(f\"Uh-oh... Problem with {url}\")\n",
    "        problem_urls.append(url)\n",
    "    finally: \n",
    "        snoozer = randrange(5,12)\n",
    "        print(f\"Snoozing for {snoozer} seconds before next scrape\")\n",
    "        time.sleep(snoozer)\n",
    "\n",
    "print(\"Done scraping!\")"
   ]
  },
  {
   "cell_type": "code",
   "execution_count": 25,
   "metadata": {},
   "outputs": [
    {
     "data": {
      "text/plain": [
       "['https://sandeepmj.github.io/scrape-example-page/heaviest-animals-page4.html',\n",
       " 'https://sandeepmj.github.io/scrape-example-page/heaviest-animals-page6.html']"
      ]
     },
     "execution_count": 25,
     "metadata": {},
     "output_type": "execute_result"
    }
   ],
   "source": [
    "# calling list with problematic URLs\n",
    "# physically go to these pages to see where the problem is\n",
    "\n",
    "problem_urls"
   ]
  },
  {
   "cell_type": "code",
   "execution_count": 26,
   "metadata": {},
   "outputs": [
    {
     "data": {
      "text/plain": [
       "[                 Animal  Weight(kg)    Type\n",
       " 0            Blue whale      136000  Marine\n",
       " 1         Bowhead whale      100000  Marine\n",
       " 2             Fin whale       70000  Marine\n",
       " 3  Southern right whale       45000  Marine\n",
       " 4        Humpback whale       30000  Marine,\n",
       "                  Animal  Weight(kg)    Type\n",
       " 0            Gray whale       28500  Marine\n",
       " 1  Northern right whale       23000  Marine\n",
       " 2             Sei whale       20000  Marine\n",
       " 3         Bryde's whale       16000  Marine\n",
       " 4  Baird's beaked whale       11380  Marine,\n",
       "                       Animal  Weight(kg)         Type\n",
       " 0                Minke whale        7500       Marine\n",
       " 1  Northern bottlenose whale        6500       Marine\n",
       " 2     Gervais's beaked whale        5600       Marine\n",
       " 3           African elephant        4800  Terrestrial\n",
       " 4               Killer whale        3988       Marine,\n",
       "                      Animal  Weight(kg)         Type\n",
       " 0              Hippopotamus        3750  Terrestrial\n",
       " 1            Asian elephant        3178  Terrestrial\n",
       " 2     Cuvier's beaked whale        2701       Marine\n",
       " 3  Short-finned pilot whale        2200       Marine\n",
       " 4          White rhinoceros        2175  Terrestrial]"
      ]
     },
     "execution_count": 26,
     "metadata": {},
     "output_type": "execute_result"
    }
   ],
   "source": [
    "df_all"
   ]
  },
  {
   "cell_type": "code",
   "execution_count": 27,
   "metadata": {},
   "outputs": [
    {
     "data": {
      "text/html": [
       "<div>\n",
       "<style scoped>\n",
       "    .dataframe tbody tr th:only-of-type {\n",
       "        vertical-align: middle;\n",
       "    }\n",
       "\n",
       "    .dataframe tbody tr th {\n",
       "        vertical-align: top;\n",
       "    }\n",
       "\n",
       "    .dataframe thead th {\n",
       "        text-align: right;\n",
       "    }\n",
       "</style>\n",
       "<table border=\"1\" class=\"dataframe\">\n",
       "  <thead>\n",
       "    <tr style=\"text-align: right;\">\n",
       "      <th></th>\n",
       "      <th>Animal</th>\n",
       "      <th>Weight(kg)</th>\n",
       "      <th>Type</th>\n",
       "    </tr>\n",
       "  </thead>\n",
       "  <tbody>\n",
       "    <tr>\n",
       "      <th>0</th>\n",
       "      <td>Hippopotamus</td>\n",
       "      <td>3750</td>\n",
       "      <td>Terrestrial</td>\n",
       "    </tr>\n",
       "    <tr>\n",
       "      <th>1</th>\n",
       "      <td>Asian elephant</td>\n",
       "      <td>3178</td>\n",
       "      <td>Terrestrial</td>\n",
       "    </tr>\n",
       "    <tr>\n",
       "      <th>2</th>\n",
       "      <td>Cuvier's beaked whale</td>\n",
       "      <td>2701</td>\n",
       "      <td>Marine</td>\n",
       "    </tr>\n",
       "    <tr>\n",
       "      <th>3</th>\n",
       "      <td>Short-finned pilot whale</td>\n",
       "      <td>2200</td>\n",
       "      <td>Marine</td>\n",
       "    </tr>\n",
       "    <tr>\n",
       "      <th>4</th>\n",
       "      <td>White rhinoceros</td>\n",
       "      <td>2175</td>\n",
       "      <td>Terrestrial</td>\n",
       "    </tr>\n",
       "  </tbody>\n",
       "</table>\n",
       "</div>"
      ],
      "text/plain": [
       "                     Animal  Weight(kg)         Type\n",
       "0              Hippopotamus        3750  Terrestrial\n",
       "1            Asian elephant        3178  Terrestrial\n",
       "2     Cuvier's beaked whale        2701       Marine\n",
       "3  Short-finned pilot whale        2200       Marine\n",
       "4          White rhinoceros        2175  Terrestrial"
      ]
     },
     "execution_count": 27,
     "metadata": {},
     "output_type": "execute_result"
    }
   ],
   "source": [
    "df_all[3]"
   ]
  },
  {
   "cell_type": "code",
   "execution_count": 28,
   "metadata": {},
   "outputs": [
    {
     "data": {
      "text/html": [
       "<div>\n",
       "<style scoped>\n",
       "    .dataframe tbody tr th:only-of-type {\n",
       "        vertical-align: middle;\n",
       "    }\n",
       "\n",
       "    .dataframe tbody tr th {\n",
       "        vertical-align: top;\n",
       "    }\n",
       "\n",
       "    .dataframe thead th {\n",
       "        text-align: right;\n",
       "    }\n",
       "</style>\n",
       "<table border=\"1\" class=\"dataframe\">\n",
       "  <thead>\n",
       "    <tr style=\"text-align: right;\">\n",
       "      <th></th>\n",
       "      <th>Animal</th>\n",
       "      <th>Weight(kg)</th>\n",
       "      <th>Type</th>\n",
       "    </tr>\n",
       "  </thead>\n",
       "  <tbody>\n",
       "    <tr>\n",
       "      <th>0</th>\n",
       "      <td>Blue whale</td>\n",
       "      <td>136000</td>\n",
       "      <td>Marine</td>\n",
       "    </tr>\n",
       "    <tr>\n",
       "      <th>1</th>\n",
       "      <td>Bowhead whale</td>\n",
       "      <td>100000</td>\n",
       "      <td>Marine</td>\n",
       "    </tr>\n",
       "    <tr>\n",
       "      <th>2</th>\n",
       "      <td>Fin whale</td>\n",
       "      <td>70000</td>\n",
       "      <td>Marine</td>\n",
       "    </tr>\n",
       "    <tr>\n",
       "      <th>3</th>\n",
       "      <td>Southern right whale</td>\n",
       "      <td>45000</td>\n",
       "      <td>Marine</td>\n",
       "    </tr>\n",
       "    <tr>\n",
       "      <th>4</th>\n",
       "      <td>Humpback whale</td>\n",
       "      <td>30000</td>\n",
       "      <td>Marine</td>\n",
       "    </tr>\n",
       "    <tr>\n",
       "      <th>5</th>\n",
       "      <td>Gray whale</td>\n",
       "      <td>28500</td>\n",
       "      <td>Marine</td>\n",
       "    </tr>\n",
       "    <tr>\n",
       "      <th>6</th>\n",
       "      <td>Northern right whale</td>\n",
       "      <td>23000</td>\n",
       "      <td>Marine</td>\n",
       "    </tr>\n",
       "    <tr>\n",
       "      <th>7</th>\n",
       "      <td>Sei whale</td>\n",
       "      <td>20000</td>\n",
       "      <td>Marine</td>\n",
       "    </tr>\n",
       "    <tr>\n",
       "      <th>8</th>\n",
       "      <td>Bryde's whale</td>\n",
       "      <td>16000</td>\n",
       "      <td>Marine</td>\n",
       "    </tr>\n",
       "    <tr>\n",
       "      <th>9</th>\n",
       "      <td>Baird's beaked whale</td>\n",
       "      <td>11380</td>\n",
       "      <td>Marine</td>\n",
       "    </tr>\n",
       "    <tr>\n",
       "      <th>10</th>\n",
       "      <td>Minke whale</td>\n",
       "      <td>7500</td>\n",
       "      <td>Marine</td>\n",
       "    </tr>\n",
       "    <tr>\n",
       "      <th>11</th>\n",
       "      <td>Northern bottlenose whale</td>\n",
       "      <td>6500</td>\n",
       "      <td>Marine</td>\n",
       "    </tr>\n",
       "    <tr>\n",
       "      <th>12</th>\n",
       "      <td>Gervais's beaked whale</td>\n",
       "      <td>5600</td>\n",
       "      <td>Marine</td>\n",
       "    </tr>\n",
       "    <tr>\n",
       "      <th>13</th>\n",
       "      <td>African elephant</td>\n",
       "      <td>4800</td>\n",
       "      <td>Terrestrial</td>\n",
       "    </tr>\n",
       "    <tr>\n",
       "      <th>14</th>\n",
       "      <td>Killer whale</td>\n",
       "      <td>3988</td>\n",
       "      <td>Marine</td>\n",
       "    </tr>\n",
       "    <tr>\n",
       "      <th>15</th>\n",
       "      <td>Hippopotamus</td>\n",
       "      <td>3750</td>\n",
       "      <td>Terrestrial</td>\n",
       "    </tr>\n",
       "    <tr>\n",
       "      <th>16</th>\n",
       "      <td>Asian elephant</td>\n",
       "      <td>3178</td>\n",
       "      <td>Terrestrial</td>\n",
       "    </tr>\n",
       "    <tr>\n",
       "      <th>17</th>\n",
       "      <td>Cuvier's beaked whale</td>\n",
       "      <td>2701</td>\n",
       "      <td>Marine</td>\n",
       "    </tr>\n",
       "    <tr>\n",
       "      <th>18</th>\n",
       "      <td>Short-finned pilot whale</td>\n",
       "      <td>2200</td>\n",
       "      <td>Marine</td>\n",
       "    </tr>\n",
       "    <tr>\n",
       "      <th>19</th>\n",
       "      <td>White rhinoceros</td>\n",
       "      <td>2175</td>\n",
       "      <td>Terrestrial</td>\n",
       "    </tr>\n",
       "  </tbody>\n",
       "</table>\n",
       "</div>"
      ],
      "text/plain": [
       "                       Animal  Weight(kg)         Type\n",
       "0                  Blue whale      136000       Marine\n",
       "1               Bowhead whale      100000       Marine\n",
       "2                   Fin whale       70000       Marine\n",
       "3        Southern right whale       45000       Marine\n",
       "4              Humpback whale       30000       Marine\n",
       "5                  Gray whale       28500       Marine\n",
       "6        Northern right whale       23000       Marine\n",
       "7                   Sei whale       20000       Marine\n",
       "8               Bryde's whale       16000       Marine\n",
       "9        Baird's beaked whale       11380       Marine\n",
       "10                Minke whale        7500       Marine\n",
       "11  Northern bottlenose whale        6500       Marine\n",
       "12     Gervais's beaked whale        5600       Marine\n",
       "13           African elephant        4800  Terrestrial\n",
       "14               Killer whale        3988       Marine\n",
       "15               Hippopotamus        3750  Terrestrial\n",
       "16             Asian elephant        3178  Terrestrial\n",
       "17      Cuvier's beaked whale        2701       Marine\n",
       "18   Short-finned pilot whale        2200       Marine\n",
       "19           White rhinoceros        2175  Terrestrial"
      ]
     },
     "execution_count": 28,
     "metadata": {},
     "output_type": "execute_result"
    }
   ],
   "source": [
    "pd.concat(df_all, ignore_index=True)"
   ]
  },
  {
   "cell_type": "code",
   "execution_count": null,
   "metadata": {},
   "outputs": [],
   "source": []
  }
 ],
 "metadata": {
  "celltoolbar": "Slideshow",
  "colab": {
   "provenance": [
    {
     "file_id": "1Sr7TYNaGt6e5Tv8Om7UzZI9maF4BsJID",
     "timestamp": 1686694612402
    },
    {
     "file_id": "19IrKyzkGCq8R2X_RCH5RG4Rhe8xr3668",
     "timestamp": 1600346225593
    },
    {
     "file_id": "1D75QB2XYRMsyUpcKm63ee0GDycfX-g-i",
     "timestamp": 1599872538239
    }
   ]
  },
  "kernelspec": {
   "display_name": "Python 3 (ipykernel)",
   "language": "python",
   "name": "python3"
  },
  "language_info": {
   "codemirror_mode": {
    "name": "ipython",
    "version": 3
   },
   "file_extension": ".py",
   "mimetype": "text/x-python",
   "name": "python",
   "nbconvert_exporter": "python",
   "pygments_lexer": "ipython3",
   "version": "3.11.8"
  }
 },
 "nbformat": 4,
 "nbformat_minor": 4
}
