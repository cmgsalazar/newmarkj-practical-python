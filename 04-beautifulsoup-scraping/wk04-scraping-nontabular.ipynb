{
 "cells": [
  {
   "cell_type": "markdown",
   "id": "58aed9e3",
   "metadata": {},
   "source": [
    "<img src=\"https://sandeepmj.github.io/image-host/green-scrapes.png\" >"
   ]
  },
  {
   "cell_type": "markdown",
   "id": "ce45f07b",
   "metadata": {},
   "source": [
    "# Scraping non-tabular content with ```BeautifulSoup```\n",
    "### We'll learn to some basic scraping techniques using this mock site <a href=\"https://sandeepmj.github.io/scrape-example-page/demo-text.html\">demo page</a>.\n"
   ]
  },
  {
   "cell_type": "markdown",
   "id": "ce0b7692-dabd-4fc4-9f0e-7194a8a652f9",
   "metadata": {},
   "source": [
    "## All web scraping requires a little sleuthing:\n",
    "* Is the content on the page (use `Reveal Source`)?\n",
    "* Where and how is the content held on the page?\n",
    "* How can we access it?\n",
    "* Is there a pattern?\n",
    "* Is there anything that breaks the pattern?  "
   ]
  },
  {
   "cell_type": "code",
   "execution_count": 1,
   "id": "02291c65",
   "metadata": {},
   "outputs": [],
   "source": [
    "## create cells as necessary\n",
    "# importing libraries\n",
    "import requests"
   ]
  },
  {
   "cell_type": "code",
   "execution_count": 2,
   "id": "5c01e31f",
   "metadata": {},
   "outputs": [],
   "source": [
    "# requesting web content\n",
    "url = \"https://sandeepmj.github.io/scrape-example-page/demo-text.html\"\n",
    "\n",
    "# scrape url website\n",
    "response = requests.get(url)"
   ]
  },
  {
   "cell_type": "code",
   "execution_count": 3,
   "id": "38a866df-f787-4f94-b1e1-7158e3ebabdf",
   "metadata": {},
   "outputs": [
    {
     "data": {
      "text/plain": [
       "200"
      ]
     },
     "execution_count": 3,
     "metadata": {},
     "output_type": "execute_result"
    }
   ],
   "source": [
    "# did it work?\n",
    "response.status_code"
   ]
  },
  {
   "cell_type": "code",
   "execution_count": 4,
   "id": "2b6a74cf-57ad-408a-b476-f8ce87a2ed2e",
   "metadata": {},
   "outputs": [
    {
     "data": {
      "text/plain": [
       "<Response [200]>"
      ]
     },
     "execution_count": 4,
     "metadata": {},
     "output_type": "execute_result"
    }
   ],
   "source": [
    "response"
   ]
  },
  {
   "cell_type": "code",
   "execution_count": 5,
   "id": "fb1075de-82a5-41c2-baa0-da58bd3007c4",
   "metadata": {},
   "outputs": [
    {
     "data": {
      "text/plain": [
       "requests.models.Response"
      ]
     },
     "execution_count": 5,
     "metadata": {},
     "output_type": "execute_result"
    }
   ],
   "source": [
    "type(response)"
   ]
  },
  {
   "cell_type": "markdown",
   "id": "77bdffef-671f-41c3-8ae4-12b0f2264cd7",
   "metadata": {},
   "source": [
    "### Response codes\n",
    "\n",
    "When you scrape hundreds of pages, there's a chance  that one of the URLs might be a dud. \n",
    "\n",
    "We can set up an error control to see what kind of responses we get.\n",
    "\n",
    "`<Response [200]>` means website is accessible. \n",
    "\n",
    "`<Response [300]>` your request is being re-directed.\n",
    "\n",
    "`<Response [403]>` your request was received but declined.\n",
    "\n",
    "`<Response [404]>` means broken link or no page on content.\n",
    "\n",
    "`<Response [500]>` means your request encountered some generic server error."
   ]
  },
  {
   "cell_type": "code",
   "execution_count": 6,
   "id": "f5100356-5e6e-4e6e-9f8f-afd6efc5b280",
   "metadata": {},
   "outputs": [
    {
     "data": {
      "text/plain": [
       "'<!doctype html>\\n<html lang=\"en\">\\n<head>\\n\\t<title>title tag</title>\\n\\t<style>\\nbody {padding: 20px; max-width: 700px; margin: 0 auto;}\\n</style>\\n</head>\\n\\n<body>\\n\\t<h1 class=\"title\"><b>The title headline is Demo for BeautifulSoup</b></p></h1>\\n\\t<p>Learning to scrape using BeautifulSoup.</p>\\n\\t<div class=\"content article\">\\n\\t\\t<section>\\n\\t\\t<p>Here\\'s some pretty useless info:</p>\\n\\t</section>\\n\\t\\t<section class=\"main\" id=\"all_plants\">\\n\\t\\t\\t<h2 class=\"subhead\" id=\"vegitation\">Plants</h2>\\n\\t\\t\\t<p class=\"article\">Three plants that thrive in deep shade:</p>\\n\\t\\t\\t<ol>\\n\\t\\t\\t\\t<li><a href=\"http://example.com/plant1\" class=\"plants life\" id=\"plant1\">Plant 1</a>: <span class=\"cost\">$10</span></li>\\n\\t\\t\\t\\t<li><a href=\"http://example.com/plant2\" class=\"plants life\" id=\"plant2\">Plant 2</a>: <span class=\"cost\">$20</span></li>\\n\\t\\t\\t\\t<li><a href=\"http://example.com/plant3\" class=\"plants life\" id=\"plant3\">Plant 3</a> <span class=\"cost\">$30</span></li>\\n\\t\\t\\t</ol>\\n\\t\\t</section>\\n\\n\\t\\t<section class=\"main\" id=\"all_animals\">\\n\\t\\t\\t<h2 class=\"subhead\" id=\"creatures\">Animals</h2>\\n\\n\\t\\t\\t<p class=\"article\"> Three animals in the barn:</p>\\n\\t\\t\\t<ol>\\n\\t\\t\\t\\t<li><a href=\"http://example.com/animal1\" class=\"animals life\" id=\"animal1\">Animal 1</a>: <span class=\"cost\">$500</span></li>\\n\\t\\t\\t\\t<li><a href=\"http://example.com/animal2\" class=\"animals life\" id=\"animal2\">Animal 2</a>: <span class=\"cost\">$600</span> </li>\\n\\t\\t\\t\\t<li><a href=\"http://example.com/animal3\" class=\"animals life\" id=\"animal3\">Animal 3</a>: <span class=\"cost\">$700</span></li>\\n\\t\\t\\t</ol>\\n\\t\\t</section>\\n\\t\\t<section>\\n\\t\\t\\t<h2 class=\"subhead\" id=\"objects\">Objects</h2>\\n\\t\\t\\t<p class=\"article\"> Three shiny rocks:</p>\\n\\t\\t\\t<ol>\\n\\t\\t\\t\\t<li><a href=\"http://example.com/rock1\" class=\"rock inanimate\" id=\"rock1\"><span>Rock 1</span></a></li>\\n\\t\\t\\t\\t<li><a href=\"http://example.com/rock2\" class=\"rock inanimate\" id=\"rock2\"><span>Rock 2</span></a></li>\\n\\t\\t\\t\\t<li><a href=\"http://example.com/rock2\" class=\"rock inanimate\" id=\"rock3\"><span>Rock 3</span></a></li>\\n\\t\\t\\t</ol>\\n\\t\\t</section>\\n\\t\\t<section>\\n\\t\\t\\t<h2>The seven classifications of animals</h2>\\n\\t\\t\\t<ul>\\n\\t\\t\\t\\t<li><a class=\"animals\" href=\"http://example.com/kingdom\" >Kingdom</a></li>\\n\\t\\t\\t\\t<li><a class=\"animals\" href=\"http://example.com/phylum\" >Phylum</a></li>\\n\\t\\t\\t\\t<li><a class=\"animals\" href=\"http://example.com/class\" >Class</a></li>\\n\\t\\t\\t\\t<li><a class=\"animals\" href=\"http://example.com/order\" >Order</a></li>\\n\\t\\t\\t\\t<li><a class=\"animals\" href=\"http://example.com/family\" >Family</a></li>\\n\\t\\t\\t\\t<li><a class=\"animals\" href=\"http://example.com/genus\" >Genus</a></li>\\n\\t\\t\\t\\t<li><a class=\"animals\" href=\"http://example.com/species\" >Species</a></li>\\n\\t\\t\\t</ul>\\n\\t\\t</section>\\n\\t</div>\\n</body>\\n</html>\\n'"
      ]
     },
     "execution_count": 6,
     "metadata": {},
     "output_type": "execute_result"
    }
   ],
   "source": [
    "# see response.text object\n",
    "response.text"
   ]
  },
  {
   "cell_type": "code",
   "execution_count": 7,
   "id": "7f13ec60-bf34-465a-a339-369b48f8c5ef",
   "metadata": {},
   "outputs": [
    {
     "data": {
      "text/plain": [
       "str"
      ]
     },
     "execution_count": 7,
     "metadata": {},
     "output_type": "execute_result"
    }
   ],
   "source": [
    "# what object does response.text return?\n",
    "type(response.text)"
   ]
  },
  {
   "cell_type": "code",
   "execution_count": 8,
   "id": "80032963-e61f-46ba-86f6-afd5f1bfaf26",
   "metadata": {},
   "outputs": [
    {
     "data": {
      "text/plain": [
       "b'<!doctype html>\\n<html lang=\"en\">\\n<head>\\n\\t<title>title tag</title>\\n\\t<style>\\nbody {padding: 20px; max-width: 700px; margin: 0 auto;}\\n</style>\\n</head>\\n\\n<body>\\n\\t<h1 class=\"title\"><b>The title headline is Demo for BeautifulSoup</b></p></h1>\\n\\t<p>Learning to scrape using BeautifulSoup.</p>\\n\\t<div class=\"content article\">\\n\\t\\t<section>\\n\\t\\t<p>Here\\'s some pretty useless info:</p>\\n\\t</section>\\n\\t\\t<section class=\"main\" id=\"all_plants\">\\n\\t\\t\\t<h2 class=\"subhead\" id=\"vegitation\">Plants</h2>\\n\\t\\t\\t<p class=\"article\">Three plants that thrive in deep shade:</p>\\n\\t\\t\\t<ol>\\n\\t\\t\\t\\t<li><a href=\"http://example.com/plant1\" class=\"plants life\" id=\"plant1\">Plant 1</a>: <span class=\"cost\">$10</span></li>\\n\\t\\t\\t\\t<li><a href=\"http://example.com/plant2\" class=\"plants life\" id=\"plant2\">Plant 2</a>: <span class=\"cost\">$20</span></li>\\n\\t\\t\\t\\t<li><a href=\"http://example.com/plant3\" class=\"plants life\" id=\"plant3\">Plant 3</a> <span class=\"cost\">$30</span></li>\\n\\t\\t\\t</ol>\\n\\t\\t</section>\\n\\n\\t\\t<section class=\"main\" id=\"all_animals\">\\n\\t\\t\\t<h2 class=\"subhead\" id=\"creatures\">Animals</h2>\\n\\n\\t\\t\\t<p class=\"article\"> Three animals in the barn:</p>\\n\\t\\t\\t<ol>\\n\\t\\t\\t\\t<li><a href=\"http://example.com/animal1\" class=\"animals life\" id=\"animal1\">Animal 1</a>: <span class=\"cost\">$500</span></li>\\n\\t\\t\\t\\t<li><a href=\"http://example.com/animal2\" class=\"animals life\" id=\"animal2\">Animal 2</a>: <span class=\"cost\">$600</span> </li>\\n\\t\\t\\t\\t<li><a href=\"http://example.com/animal3\" class=\"animals life\" id=\"animal3\">Animal 3</a>: <span class=\"cost\">$700</span></li>\\n\\t\\t\\t</ol>\\n\\t\\t</section>\\n\\t\\t<section>\\n\\t\\t\\t<h2 class=\"subhead\" id=\"objects\">Objects</h2>\\n\\t\\t\\t<p class=\"article\"> Three shiny rocks:</p>\\n\\t\\t\\t<ol>\\n\\t\\t\\t\\t<li><a href=\"http://example.com/rock1\" class=\"rock inanimate\" id=\"rock1\"><span>Rock 1</span></a></li>\\n\\t\\t\\t\\t<li><a href=\"http://example.com/rock2\" class=\"rock inanimate\" id=\"rock2\"><span>Rock 2</span></a></li>\\n\\t\\t\\t\\t<li><a href=\"http://example.com/rock2\" class=\"rock inanimate\" id=\"rock3\"><span>Rock 3</span></a></li>\\n\\t\\t\\t</ol>\\n\\t\\t</section>\\n\\t\\t<section>\\n\\t\\t\\t<h2>The seven classifications of animals</h2>\\n\\t\\t\\t<ul>\\n\\t\\t\\t\\t<li><a class=\"animals\" href=\"http://example.com/kingdom\" >Kingdom</a></li>\\n\\t\\t\\t\\t<li><a class=\"animals\" href=\"http://example.com/phylum\" >Phylum</a></li>\\n\\t\\t\\t\\t<li><a class=\"animals\" href=\"http://example.com/class\" >Class</a></li>\\n\\t\\t\\t\\t<li><a class=\"animals\" href=\"http://example.com/order\" >Order</a></li>\\n\\t\\t\\t\\t<li><a class=\"animals\" href=\"http://example.com/family\" >Family</a></li>\\n\\t\\t\\t\\t<li><a class=\"animals\" href=\"http://example.com/genus\" >Genus</a></li>\\n\\t\\t\\t\\t<li><a class=\"animals\" href=\"http://example.com/species\" >Species</a></li>\\n\\t\\t\\t</ul>\\n\\t\\t</section>\\n\\t</div>\\n</body>\\n</html>\\n'"
      ]
     },
     "execution_count": 8,
     "metadata": {},
     "output_type": "execute_result"
    }
   ],
   "source": [
    "# see response.content object\n",
    "response.content"
   ]
  },
  {
   "cell_type": "code",
   "execution_count": 9,
   "id": "81368cc9-b8d5-46f6-a0ff-348095001d78",
   "metadata": {},
   "outputs": [
    {
     "data": {
      "text/plain": [
       "bytes"
      ]
     },
     "execution_count": 9,
     "metadata": {},
     "output_type": "execute_result"
    }
   ],
   "source": [
    "# what object does response.content return?\n",
    "type(response.content)"
   ]
  },
  {
   "cell_type": "markdown",
   "id": "ee42e9c1-698c-4f2c-8d18-b7e3ada614a6",
   "metadata": {},
   "source": [
    "## Introducing `BeautifulSoup`"
   ]
  },
  {
   "cell_type": "code",
   "execution_count": 10,
   "id": "dccd8e4c-bd57-4b2e-9632-c7b3ccd9e8a8",
   "metadata": {},
   "outputs": [],
   "source": [
    "# importing library\n",
    "from bs4 import BeautifulSoup"
   ]
  },
  {
   "cell_type": "code",
   "execution_count": 11,
   "id": "c036be4d-f219-4cf6-bddc-76414e023928",
   "metadata": {},
   "outputs": [],
   "source": [
    "# turn it into soup\n",
    "soup = BeautifulSoup(response.text, \"html.parser\")"
   ]
  },
  {
   "cell_type": "code",
   "execution_count": 12,
   "id": "f26a3116-786f-4d07-b094-8245415f3778",
   "metadata": {
    "scrolled": true
   },
   "outputs": [
    {
     "name": "stdout",
     "output_type": "stream",
     "text": [
      "<!DOCTYPE html>\n",
      "<html lang=\"en\">\n",
      " <head>\n",
      "  <title>\n",
      "   title tag\n",
      "  </title>\n",
      "  <style>\n",
      "   body {padding: 20px; max-width: 700px; margin: 0 auto;}\n",
      "  </style>\n",
      " </head>\n",
      " <body>\n",
      "  <h1 class=\"title\">\n",
      "   <b>\n",
      "    The title headline is Demo for BeautifulSoup\n",
      "   </b>\n",
      "  </h1>\n",
      "  <p>\n",
      "   Learning to scrape using BeautifulSoup.\n",
      "  </p>\n",
      "  <div class=\"content article\">\n",
      "   <section>\n",
      "    <p>\n",
      "     Here's some pretty useless info:\n",
      "    </p>\n",
      "   </section>\n",
      "   <section class=\"main\" id=\"all_plants\">\n",
      "    <h2 class=\"subhead\" id=\"vegitation\">\n",
      "     Plants\n",
      "    </h2>\n",
      "    <p class=\"article\">\n",
      "     Three plants that thrive in deep shade:\n",
      "    </p>\n",
      "    <ol>\n",
      "     <li>\n",
      "      <a class=\"plants life\" href=\"http://example.com/plant1\" id=\"plant1\">\n",
      "       Plant 1\n",
      "      </a>\n",
      "      :\n",
      "      <span class=\"cost\">\n",
      "       $10\n",
      "      </span>\n",
      "     </li>\n",
      "     <li>\n",
      "      <a class=\"plants life\" href=\"http://example.com/plant2\" id=\"plant2\">\n",
      "       Plant 2\n",
      "      </a>\n",
      "      :\n",
      "      <span class=\"cost\">\n",
      "       $20\n",
      "      </span>\n",
      "     </li>\n",
      "     <li>\n",
      "      <a class=\"plants life\" href=\"http://example.com/plant3\" id=\"plant3\">\n",
      "       Plant 3\n",
      "      </a>\n",
      "      <span class=\"cost\">\n",
      "       $30\n",
      "      </span>\n",
      "     </li>\n",
      "    </ol>\n",
      "   </section>\n",
      "   <section class=\"main\" id=\"all_animals\">\n",
      "    <h2 class=\"subhead\" id=\"creatures\">\n",
      "     Animals\n",
      "    </h2>\n",
      "    <p class=\"article\">\n",
      "     Three animals in the barn:\n",
      "    </p>\n",
      "    <ol>\n",
      "     <li>\n",
      "      <a class=\"animals life\" href=\"http://example.com/animal1\" id=\"animal1\">\n",
      "       Animal 1\n",
      "      </a>\n",
      "      :\n",
      "      <span class=\"cost\">\n",
      "       $500\n",
      "      </span>\n",
      "     </li>\n",
      "     <li>\n",
      "      <a class=\"animals life\" href=\"http://example.com/animal2\" id=\"animal2\">\n",
      "       Animal 2\n",
      "      </a>\n",
      "      :\n",
      "      <span class=\"cost\">\n",
      "       $600\n",
      "      </span>\n",
      "     </li>\n",
      "     <li>\n",
      "      <a class=\"animals life\" href=\"http://example.com/animal3\" id=\"animal3\">\n",
      "       Animal 3\n",
      "      </a>\n",
      "      :\n",
      "      <span class=\"cost\">\n",
      "       $700\n",
      "      </span>\n",
      "     </li>\n",
      "    </ol>\n",
      "   </section>\n",
      "   <section>\n",
      "    <h2 class=\"subhead\" id=\"objects\">\n",
      "     Objects\n",
      "    </h2>\n",
      "    <p class=\"article\">\n",
      "     Three shiny rocks:\n",
      "    </p>\n",
      "    <ol>\n",
      "     <li>\n",
      "      <a class=\"rock inanimate\" href=\"http://example.com/rock1\" id=\"rock1\">\n",
      "       <span>\n",
      "        Rock 1\n",
      "       </span>\n",
      "      </a>\n",
      "     </li>\n",
      "     <li>\n",
      "      <a class=\"rock inanimate\" href=\"http://example.com/rock2\" id=\"rock2\">\n",
      "       <span>\n",
      "        Rock 2\n",
      "       </span>\n",
      "      </a>\n",
      "     </li>\n",
      "     <li>\n",
      "      <a class=\"rock inanimate\" href=\"http://example.com/rock2\" id=\"rock3\">\n",
      "       <span>\n",
      "        Rock 3\n",
      "       </span>\n",
      "      </a>\n",
      "     </li>\n",
      "    </ol>\n",
      "   </section>\n",
      "   <section>\n",
      "    <h2>\n",
      "     The seven classifications of animals\n",
      "    </h2>\n",
      "    <ul>\n",
      "     <li>\n",
      "      <a class=\"animals\" href=\"http://example.com/kingdom\">\n",
      "       Kingdom\n",
      "      </a>\n",
      "     </li>\n",
      "     <li>\n",
      "      <a class=\"animals\" href=\"http://example.com/phylum\">\n",
      "       Phylum\n",
      "      </a>\n",
      "     </li>\n",
      "     <li>\n",
      "      <a class=\"animals\" href=\"http://example.com/class\">\n",
      "       Class\n",
      "      </a>\n",
      "     </li>\n",
      "     <li>\n",
      "      <a class=\"animals\" href=\"http://example.com/order\">\n",
      "       Order\n",
      "      </a>\n",
      "     </li>\n",
      "     <li>\n",
      "      <a class=\"animals\" href=\"http://example.com/family\">\n",
      "       Family\n",
      "      </a>\n",
      "     </li>\n",
      "     <li>\n",
      "      <a class=\"animals\" href=\"http://example.com/genus\">\n",
      "       Genus\n",
      "      </a>\n",
      "     </li>\n",
      "     <li>\n",
      "      <a class=\"animals\" href=\"http://example.com/species\">\n",
      "       Species\n",
      "      </a>\n",
      "     </li>\n",
      "    </ul>\n",
      "   </section>\n",
      "  </div>\n",
      " </body>\n",
      "</html>\n",
      "\n"
     ]
    }
   ],
   "source": [
    "# prettify the printout\n",
    "print(soup.prettify())"
   ]
  },
  {
   "cell_type": "code",
   "execution_count": 13,
   "id": "b1154f22-3bea-485e-8a41-0fd26836c95d",
   "metadata": {},
   "outputs": [
    {
     "data": {
      "text/plain": [
       "bs4.BeautifulSoup"
      ]
     },
     "execution_count": 13,
     "metadata": {},
     "output_type": "execute_result"
    }
   ],
   "source": [
    "# what type of file is it?\n",
    "type(soup)"
   ]
  },
  {
   "cell_type": "markdown",
   "id": "f2916aa7-3624-4499-9755-beb06c03d5d6",
   "metadata": {},
   "source": [
    "### Targeting content"
   ]
  },
  {
   "cell_type": "code",
   "execution_count": 14,
   "id": "c2e826b0-298a-4aed-a0b9-fdd4990897c6",
   "metadata": {},
   "outputs": [
    {
     "data": {
      "text/plain": [
       "<title>title tag</title>"
      ]
     },
     "execution_count": 14,
     "metadata": {},
     "output_type": "execute_result"
    }
   ],
   "source": [
    "# HTML tags\n",
    "# get title of page\n",
    "\n",
    "soup.title"
   ]
  },
  {
   "cell_type": "code",
   "execution_count": 15,
   "id": "caa9d18c-a0f2-47cc-b146-f5450c09966e",
   "metadata": {},
   "outputs": [
    {
     "data": {
      "text/plain": [
       "<h2 class=\"subhead\" id=\"vegitation\">Plants</h2>"
      ]
     },
     "execution_count": 15,
     "metadata": {},
     "output_type": "execute_result"
    }
   ],
   "source": [
    "soup.h2 ## it only returns the first one"
   ]
  },
  {
   "cell_type": "code",
   "execution_count": 16,
   "id": "7dee3f86-4092-4df4-8cbc-55668d7aecfc",
   "metadata": {},
   "outputs": [
    {
     "data": {
      "text/plain": [
       "[<a class=\"animals life\" href=\"http://example.com/animal1\" id=\"animal1\">Animal 1</a>]"
      ]
     },
     "execution_count": 16,
     "metadata": {},
     "output_type": "execute_result"
    }
   ],
   "source": [
    "# Search by ID\n",
    "soup(id=\"animal1\") # returns a list"
   ]
  },
  {
   "cell_type": "markdown",
   "id": "8ab0be55-6066-4ad0-870b-fd392d6c81a4",
   "metadata": {},
   "source": [
    "### Selecting `class`"
   ]
  },
  {
   "cell_type": "code",
   "execution_count": 17,
   "id": "9ef5f1cb-0ee8-47e3-9477-ef027e39ed98",
   "metadata": {},
   "outputs": [
    {
     "data": {
      "text/plain": [
       "<p>Learning to scrape using BeautifulSoup.</p>"
      ]
     },
     "execution_count": 17,
     "metadata": {},
     "output_type": "execute_result"
    }
   ],
   "source": [
    "# a wide net is not best\n",
    "soup.p"
   ]
  },
  {
   "cell_type": "markdown",
   "id": "f338c542-28f2-4214-88e9-41266df4bfaa",
   "metadata": {},
   "source": [
    "### Method 1. Target the tag only.\n",
    "`soup.find(\"tag_name\")`"
   ]
  },
  {
   "cell_type": "code",
   "execution_count": 18,
   "id": "ce3553c0-f686-4fb7-b3af-6391e3a27295",
   "metadata": {},
   "outputs": [
    {
     "data": {
      "text/plain": [
       "<p>Learning to scrape using BeautifulSoup.</p>"
      ]
     },
     "execution_count": 18,
     "metadata": {},
     "output_type": "execute_result"
    }
   ],
   "source": [
    "# simple but without precision\n",
    "# still too wide a net\n",
    "soup.find(\"p\")"
   ]
  },
  {
   "cell_type": "markdown",
   "id": "d2209746-001c-4a75-a50f-a1ff821cf2e1",
   "metadata": {},
   "source": [
    "### Method 2. Target the class only\n",
    "`soup.find(class_=\"class_name\")`"
   ]
  },
  {
   "cell_type": "code",
   "execution_count": 19,
   "id": "43e60fb1-8dba-49b6-846b-c9783636503d",
   "metadata": {},
   "outputs": [
    {
     "data": {
      "text/plain": [
       "<div class=\"content article\">\n",
       "<section>\n",
       "<p>Here's some pretty useless info:</p>\n",
       "</section>\n",
       "<section class=\"main\" id=\"all_plants\">\n",
       "<h2 class=\"subhead\" id=\"vegitation\">Plants</h2>\n",
       "<p class=\"article\">Three plants that thrive in deep shade:</p>\n",
       "<ol>\n",
       "<li><a class=\"plants life\" href=\"http://example.com/plant1\" id=\"plant1\">Plant 1</a>: <span class=\"cost\">$10</span></li>\n",
       "<li><a class=\"plants life\" href=\"http://example.com/plant2\" id=\"plant2\">Plant 2</a>: <span class=\"cost\">$20</span></li>\n",
       "<li><a class=\"plants life\" href=\"http://example.com/plant3\" id=\"plant3\">Plant 3</a> <span class=\"cost\">$30</span></li>\n",
       "</ol>\n",
       "</section>\n",
       "<section class=\"main\" id=\"all_animals\">\n",
       "<h2 class=\"subhead\" id=\"creatures\">Animals</h2>\n",
       "<p class=\"article\"> Three animals in the barn:</p>\n",
       "<ol>\n",
       "<li><a class=\"animals life\" href=\"http://example.com/animal1\" id=\"animal1\">Animal 1</a>: <span class=\"cost\">$500</span></li>\n",
       "<li><a class=\"animals life\" href=\"http://example.com/animal2\" id=\"animal2\">Animal 2</a>: <span class=\"cost\">$600</span> </li>\n",
       "<li><a class=\"animals life\" href=\"http://example.com/animal3\" id=\"animal3\">Animal 3</a>: <span class=\"cost\">$700</span></li>\n",
       "</ol>\n",
       "</section>\n",
       "<section>\n",
       "<h2 class=\"subhead\" id=\"objects\">Objects</h2>\n",
       "<p class=\"article\"> Three shiny rocks:</p>\n",
       "<ol>\n",
       "<li><a class=\"rock inanimate\" href=\"http://example.com/rock1\" id=\"rock1\"><span>Rock 1</span></a></li>\n",
       "<li><a class=\"rock inanimate\" href=\"http://example.com/rock2\" id=\"rock2\"><span>Rock 2</span></a></li>\n",
       "<li><a class=\"rock inanimate\" href=\"http://example.com/rock2\" id=\"rock3\"><span>Rock 3</span></a></li>\n",
       "</ol>\n",
       "</section>\n",
       "<section>\n",
       "<h2>The seven classifications of animals</h2>\n",
       "<ul>\n",
       "<li><a class=\"animals\" href=\"http://example.com/kingdom\">Kingdom</a></li>\n",
       "<li><a class=\"animals\" href=\"http://example.com/phylum\">Phylum</a></li>\n",
       "<li><a class=\"animals\" href=\"http://example.com/class\">Class</a></li>\n",
       "<li><a class=\"animals\" href=\"http://example.com/order\">Order</a></li>\n",
       "<li><a class=\"animals\" href=\"http://example.com/family\">Family</a></li>\n",
       "<li><a class=\"animals\" href=\"http://example.com/genus\">Genus</a></li>\n",
       "<li><a class=\"animals\" href=\"http://example.com/species\">Species</a></li>\n",
       "</ul>\n",
       "</section>\n",
       "</div>"
      ]
     },
     "execution_count": 19,
     "metadata": {},
     "output_type": "execute_result"
    }
   ],
   "source": [
    "soup.find(class_=\"article\")"
   ]
  },
  {
   "cell_type": "markdown",
   "id": "8cfb41a2-bbbf-498a-b434-b8d9db3b2f12",
   "metadata": {},
   "source": [
    "### Method 3. Precision, clarity and simplicity\n",
    "`soup.find(\"tag_name\", class_=\"class_name\")`"
   ]
  },
  {
   "cell_type": "code",
   "execution_count": 20,
   "id": "e9a79357-ac7f-457c-91ed-a98beacc86b6",
   "metadata": {},
   "outputs": [
    {
     "data": {
      "text/plain": [
       "<p class=\"article\">Three plants that thrive in deep shade:</p>"
      ]
     },
     "execution_count": 20,
     "metadata": {},
     "output_type": "execute_result"
    }
   ],
   "source": [
    "soup.find(\"p\", class_=\"article\")"
   ]
  },
  {
   "cell_type": "markdown",
   "id": "7769d25b-661d-402e-8e45-de83aa70fc86",
   "metadata": {},
   "source": [
    "### `find_all` tags, classes\n",
    "`soup.find_all(\"tag_name\", class_=\"class_name\")`"
   ]
  },
  {
   "cell_type": "markdown",
   "id": "c390c9e0-ab45-4df0-902b-257e237b97a1",
   "metadata": {},
   "source": [
    "## `find` only returns the first element; it does not return a list\n",
    "## `find_all` returns a list"
   ]
  },
  {
   "cell_type": "code",
   "execution_count": 21,
   "id": "ea6701dc-bcb2-4bca-a13d-8f03cbede22a",
   "metadata": {},
   "outputs": [
    {
     "data": {
      "text/plain": [
       "[<p class=\"article\">Three plants that thrive in deep shade:</p>,\n",
       " <p class=\"article\"> Three animals in the barn:</p>,\n",
       " <p class=\"article\"> Three shiny rocks:</p>]"
      ]
     },
     "execution_count": 21,
     "metadata": {},
     "output_type": "execute_result"
    }
   ],
   "source": [
    "# return all p tag with the class `article`\n",
    "soup.find_all(\"p\", class_=\"article\")"
   ]
  },
  {
   "cell_type": "code",
   "execution_count": 22,
   "id": "371b99d4-fa7f-4903-8baf-472fe5837aa9",
   "metadata": {},
   "outputs": [
    {
     "data": {
      "text/plain": [
       "bs4.element.ResultSet"
      ]
     },
     "execution_count": 22,
     "metadata": {},
     "output_type": "execute_result"
    }
   ],
   "source": [
    "type(soup.find_all(\"p\", class_=\"article\"))"
   ]
  },
  {
   "cell_type": "code",
   "execution_count": 23,
   "id": "fc1c6d7c-b04c-4631-b3a3-98fcbe1ef29d",
   "metadata": {},
   "outputs": [
    {
     "data": {
      "text/plain": [
       "3"
      ]
     },
     "execution_count": 23,
     "metadata": {},
     "output_type": "execute_result"
    }
   ],
   "source": [
    "len(soup.find_all(\"p\", class_=\"article\"))"
   ]
  },
  {
   "cell_type": "code",
   "execution_count": 24,
   "id": "d50921fb-0222-4065-b3ef-c05b82a11432",
   "metadata": {},
   "outputs": [
    {
     "data": {
      "text/plain": [
       "[<p class=\"article\">Three plants that thrive in deep shade:</p>,\n",
       " <p class=\"article\"> Three animals in the barn:</p>,\n",
       " <p class=\"article\"> Three shiny rocks:</p>]"
      ]
     },
     "execution_count": 24,
     "metadata": {},
     "output_type": "execute_result"
    }
   ],
   "source": [
    "# capture class article\n",
    "the_articles = soup.find_all(\"p\", class_=\"article\")\n",
    "the_articles"
   ]
  },
  {
   "cell_type": "code",
   "execution_count": 25,
   "id": "98b6a349-172b-452c-b3a1-7c2a961e3fa5",
   "metadata": {},
   "outputs": [
    {
     "data": {
      "text/plain": [
       "[<a class=\"plants life\" href=\"http://example.com/plant1\" id=\"plant1\">Plant 1</a>,\n",
       " <a class=\"plants life\" href=\"http://example.com/plant2\" id=\"plant2\">Plant 2</a>,\n",
       " <a class=\"plants life\" href=\"http://example.com/plant3\" id=\"plant3\">Plant 3</a>,\n",
       " <a class=\"animals life\" href=\"http://example.com/animal1\" id=\"animal1\">Animal 1</a>,\n",
       " <a class=\"animals life\" href=\"http://example.com/animal2\" id=\"animal2\">Animal 2</a>,\n",
       " <a class=\"animals life\" href=\"http://example.com/animal3\" id=\"animal3\">Animal 3</a>]"
      ]
     },
     "execution_count": 25,
     "metadata": {},
     "output_type": "execute_result"
    }
   ],
   "source": [
    "# find all life forms on the page\n",
    "life_forms = soup.find_all(\"a\", class_=\"life\")\n",
    "life_forms"
   ]
  },
  {
   "cell_type": "code",
   "execution_count": 26,
   "id": "f5cc519c-430b-4569-8b56-f9b8d476d80c",
   "metadata": {},
   "outputs": [
    {
     "data": {
      "text/plain": [
       "[<a class=\"plants life\" href=\"http://example.com/plant1\" id=\"plant1\">Plant 1</a>,\n",
       " <a class=\"plants life\" href=\"http://example.com/plant2\" id=\"plant2\">Plant 2</a>,\n",
       " <a class=\"plants life\" href=\"http://example.com/plant3\" id=\"plant3\">Plant 3</a>]"
      ]
     },
     "execution_count": 26,
     "metadata": {},
     "output_type": "execute_result"
    }
   ],
   "source": [
    "# target all plant life only\n",
    "soup.find_all(\"a\", class_=\"plants\")"
   ]
  },
  {
   "cell_type": "markdown",
   "id": "3cc984ea-8526-47b3-92d8-48e89d75cdcf",
   "metadata": {},
   "source": [
    "### `get_text` converts html to just strings; it can't convert lists, we have to iterate"
   ]
  },
  {
   "cell_type": "code",
   "execution_count": 27,
   "id": "07aed108-28bc-437a-9794-51612e8f9503",
   "metadata": {},
   "outputs": [
    {
     "data": {
      "text/plain": [
       "'The title headline is Demo for BeautifulSoup'"
      ]
     },
     "execution_count": 27,
     "metadata": {},
     "output_type": "execute_result"
    }
   ],
   "source": [
    "soup.h1.get_text()"
   ]
  },
  {
   "cell_type": "code",
   "execution_count": 28,
   "id": "2d31d339-117c-4e80-815f-36add7217ed7",
   "metadata": {},
   "outputs": [
    {
     "name": "stdout",
     "output_type": "stream",
     "text": [
      "Plant 1\n",
      "***\n",
      "Plant 2\n",
      "***\n",
      "Plant 3\n",
      "***\n",
      "Animal 1\n",
      "***\n",
      "Animal 2\n",
      "***\n",
      "Animal 3\n",
      "***\n"
     ]
    }
   ],
   "source": [
    "for life in life_forms:\n",
    "    print(life.get_text())\n",
    "    print(\"***\")"
   ]
  },
  {
   "cell_type": "markdown",
   "id": "5b30fe72-9bae-49c6-9e93-c5921f4d5d52",
   "metadata": {},
   "source": [
    "### Storing values"
   ]
  },
  {
   "cell_type": "code",
   "execution_count": 29,
   "id": "dc60d1a2-3c53-4dba-a212-4f1e4b5bbd4b",
   "metadata": {},
   "outputs": [
    {
     "data": {
      "text/plain": [
       "['Plant 1', 'Plant 2', 'Plant 3', 'Animal 1', 'Animal 2', 'Animal 3']"
      ]
     },
     "execution_count": 29,
     "metadata": {},
     "output_type": "execute_result"
    }
   ],
   "source": [
    "lifeforms_fl = []\n",
    "\n",
    "for life in life_forms:\n",
    "    lifeforms_fl.append(life.get_text())\n",
    "\n",
    "lifeforms_fl"
   ]
  },
  {
   "cell_type": "code",
   "execution_count": 30,
   "id": "f1e29003-94e4-47b1-915a-35c894d01970",
   "metadata": {},
   "outputs": [
    {
     "data": {
      "text/plain": [
       "['Plant 1', 'Plant 2', 'Plant 3', 'Animal 1', 'Animal 2', 'Animal 3']"
      ]
     },
     "execution_count": 30,
     "metadata": {},
     "output_type": "execute_result"
    }
   ],
   "source": [
    "lifeforms_lc = [ life.get_text() for life in life_forms ]\n",
    "lifeforms_lc"
   ]
  },
  {
   "cell_type": "markdown",
   "id": "250fc5dc-8291-456d-9432-b18a2db02bc5",
   "metadata": {},
   "source": [
    "## Capturing URLs\n",
    "`.get(\"href\")`"
   ]
  },
  {
   "cell_type": "code",
   "execution_count": 31,
   "id": "37566163-0ecc-4369-a9d2-28c15eafca6f",
   "metadata": {},
   "outputs": [
    {
     "name": "stdout",
     "output_type": "stream",
     "text": [
      "http://example.com/plant1\n",
      "http://example.com/plant2\n",
      "http://example.com/plant3\n",
      "http://example.com/animal1\n",
      "http://example.com/animal2\n",
      "http://example.com/animal3\n"
     ]
    }
   ],
   "source": [
    "for link in life_forms:\n",
    "    print(link.get(\"href\"))"
   ]
  },
  {
   "cell_type": "code",
   "execution_count": 32,
   "id": "9f8681fc-9cdb-4bad-b189-a976aff363ec",
   "metadata": {},
   "outputs": [
    {
     "data": {
      "text/plain": [
       "['http://example.com/plant1',\n",
       " 'http://example.com/plant2',\n",
       " 'http://example.com/plant3',\n",
       " 'http://example.com/animal1',\n",
       " 'http://example.com/animal2',\n",
       " 'http://example.com/animal3']"
      ]
     },
     "execution_count": 32,
     "metadata": {},
     "output_type": "execute_result"
    }
   ],
   "source": [
    "# use for loop and save into links_fl\n",
    "\n",
    "links_fl = []\n",
    "\n",
    "for link in life_forms:\n",
    "    links_fl.append(link.get(\"href\"))\n",
    "\n",
    "links_fl"
   ]
  },
  {
   "cell_type": "code",
   "execution_count": 33,
   "id": "4a0d7e67-641f-4300-8ab7-38688477092f",
   "metadata": {},
   "outputs": [
    {
     "data": {
      "text/plain": [
       "['http://example.com/plant1',\n",
       " 'http://example.com/plant2',\n",
       " 'http://example.com/plant3',\n",
       " 'http://example.com/animal1',\n",
       " 'http://example.com/animal2',\n",
       " 'http://example.com/animal3']"
      ]
     },
     "execution_count": 33,
     "metadata": {},
     "output_type": "execute_result"
    }
   ],
   "source": [
    "links_lc = [ link.get(\"href\") for link in life_forms ]\n",
    "links_lc"
   ]
  },
  {
   "cell_type": "markdown",
   "id": "a6e2bfd6-3ecd-487e-916c-2a241134f80e",
   "metadata": {},
   "source": [
    "### Costs"
   ]
  },
  {
   "cell_type": "code",
   "execution_count": 34,
   "id": "5c5ed3d2-200d-4816-9bff-7a360e7fb26f",
   "metadata": {},
   "outputs": [
    {
     "data": {
      "text/plain": [
       "[<span class=\"cost\">$10</span>,\n",
       " <span class=\"cost\">$20</span>,\n",
       " <span class=\"cost\">$30</span>,\n",
       " <span class=\"cost\">$500</span>,\n",
       " <span class=\"cost\">$600</span>,\n",
       " <span class=\"cost\">$700</span>]"
      ]
     },
     "execution_count": 34,
     "metadata": {},
     "output_type": "execute_result"
    }
   ],
   "source": [
    "costs = soup.find_all(\"span\", class_=\"cost\")\n",
    "costs"
   ]
  },
  {
   "cell_type": "code",
   "execution_count": 35,
   "id": "5e3ae2f8-cbba-4c95-ab00-37a947a987a4",
   "metadata": {},
   "outputs": [
    {
     "data": {
      "text/plain": [
       "[10, 20, 30, 500, 600, 700]"
      ]
     },
     "execution_count": 35,
     "metadata": {},
     "output_type": "execute_result"
    }
   ],
   "source": [
    "costs_fl = []\n",
    "\n",
    "for cost in costs:\n",
    "    costs_fl.append(int(cost.get_text().replace(\"$\", \"\")))\n",
    "\n",
    "costs_fl"
   ]
  },
  {
   "cell_type": "code",
   "execution_count": 36,
   "id": "64a5b002-9414-41ec-9a45-39edf8e42e8e",
   "metadata": {},
   "outputs": [
    {
     "data": {
      "text/plain": [
       "[10, 20, 30, 500, 600, 700]"
      ]
     },
     "execution_count": 36,
     "metadata": {},
     "output_type": "execute_result"
    }
   ],
   "source": [
    "costs_lc = [ int(cost.get_text().replace(\"$\", \"\")) for cost in costs ]\n",
    "costs_lc\n"
   ]
  },
  {
   "cell_type": "markdown",
   "id": "90d346d1-02d7-4bb4-8d77-9710fecc5420",
   "metadata": {},
   "source": [
    "### Method 1: Create dictionary"
   ]
  },
  {
   "cell_type": "code",
   "execution_count": 37,
   "id": "23817a99-ed6f-4947-8d08-3eb1dc72d637",
   "metadata": {},
   "outputs": [
    {
     "data": {
      "text/plain": [
       "[{'product': 'Plant 1', 'cost': 10, 'link': 'http://example.com/plant1'},\n",
       " {'product': 'Plant 2', 'cost': 20, 'link': 'http://example.com/plant2'},\n",
       " {'product': 'Plant 3', 'cost': 30, 'link': 'http://example.com/plant3'},\n",
       " {'product': 'Animal 1', 'cost': 500, 'link': 'http://example.com/animal1'},\n",
       " {'product': 'Animal 2', 'cost': 600, 'link': 'http://example.com/animal2'},\n",
       " {'product': 'Animal 3', 'cost': 700, 'link': 'http://example.com/animal3'}]"
      ]
     },
     "execution_count": 37,
     "metadata": {},
     "output_type": "execute_result"
    }
   ],
   "source": [
    "life_list_dict = []\n",
    "\n",
    "for (life_forms, costs, links) in zip(lifeforms_lc, costs_lc, links_lc):\n",
    "    life_list_dict.append({\n",
    "        \"product\": life_forms,\n",
    "        \"cost\": costs,\n",
    "        \"link\": links\n",
    "    })\n",
    "\n",
    "life_list_dict"
   ]
  },
  {
   "cell_type": "code",
   "execution_count": 38,
   "id": "3b790e19-9cdf-4dc8-bed0-187bf444802c",
   "metadata": {},
   "outputs": [],
   "source": [
    "import pandas as pd"
   ]
  },
  {
   "cell_type": "code",
   "execution_count": 39,
   "id": "87bc354e-0f64-4750-83fe-23b2daeb80ae",
   "metadata": {},
   "outputs": [
    {
     "data": {
      "text/html": [
       "<div>\n",
       "<style scoped>\n",
       "    .dataframe tbody tr th:only-of-type {\n",
       "        vertical-align: middle;\n",
       "    }\n",
       "\n",
       "    .dataframe tbody tr th {\n",
       "        vertical-align: top;\n",
       "    }\n",
       "\n",
       "    .dataframe thead th {\n",
       "        text-align: right;\n",
       "    }\n",
       "</style>\n",
       "<table border=\"1\" class=\"dataframe\">\n",
       "  <thead>\n",
       "    <tr style=\"text-align: right;\">\n",
       "      <th></th>\n",
       "      <th>product</th>\n",
       "      <th>cost</th>\n",
       "      <th>link</th>\n",
       "    </tr>\n",
       "  </thead>\n",
       "  <tbody>\n",
       "    <tr>\n",
       "      <th>0</th>\n",
       "      <td>Plant 1</td>\n",
       "      <td>10</td>\n",
       "      <td>http://example.com/plant1</td>\n",
       "    </tr>\n",
       "    <tr>\n",
       "      <th>1</th>\n",
       "      <td>Plant 2</td>\n",
       "      <td>20</td>\n",
       "      <td>http://example.com/plant2</td>\n",
       "    </tr>\n",
       "    <tr>\n",
       "      <th>2</th>\n",
       "      <td>Plant 3</td>\n",
       "      <td>30</td>\n",
       "      <td>http://example.com/plant3</td>\n",
       "    </tr>\n",
       "    <tr>\n",
       "      <th>3</th>\n",
       "      <td>Animal 1</td>\n",
       "      <td>500</td>\n",
       "      <td>http://example.com/animal1</td>\n",
       "    </tr>\n",
       "    <tr>\n",
       "      <th>4</th>\n",
       "      <td>Animal 2</td>\n",
       "      <td>600</td>\n",
       "      <td>http://example.com/animal2</td>\n",
       "    </tr>\n",
       "    <tr>\n",
       "      <th>5</th>\n",
       "      <td>Animal 3</td>\n",
       "      <td>700</td>\n",
       "      <td>http://example.com/animal3</td>\n",
       "    </tr>\n",
       "  </tbody>\n",
       "</table>\n",
       "</div>"
      ],
      "text/plain": [
       "    product  cost                        link\n",
       "0   Plant 1    10   http://example.com/plant1\n",
       "1   Plant 2    20   http://example.com/plant2\n",
       "2   Plant 3    30   http://example.com/plant3\n",
       "3  Animal 1   500  http://example.com/animal1\n",
       "4  Animal 2   600  http://example.com/animal2\n",
       "5  Animal 3   700  http://example.com/animal3"
      ]
     },
     "execution_count": 39,
     "metadata": {},
     "output_type": "execute_result"
    }
   ],
   "source": [
    "pd.DataFrame(life_list_dict)"
   ]
  },
  {
   "cell_type": "markdown",
   "id": "2825ee8b-daa3-4439-9846-afaead42e592",
   "metadata": {},
   "source": [
    "### Method 2: tuple"
   ]
  },
  {
   "cell_type": "code",
   "execution_count": 40,
   "id": "2e14bf1a-690c-4731-89e1-2d4922b43f7c",
   "metadata": {},
   "outputs": [
    {
     "data": {
      "text/plain": [
       "[('Plant 1', 10, 'http://example.com/plant1'),\n",
       " ('Plant 2', 20, 'http://example.com/plant2'),\n",
       " ('Plant 3', 30, 'http://example.com/plant3'),\n",
       " ('Animal 1', 500, 'http://example.com/animal1'),\n",
       " ('Animal 2', 600, 'http://example.com/animal2'),\n",
       " ('Animal 3', 700, 'http://example.com/animal3')]"
      ]
     },
     "execution_count": 40,
     "metadata": {},
     "output_type": "execute_result"
    }
   ],
   "source": [
    "life_list = []\n",
    "\n",
    "for my_items in zip(lifeforms_lc, costs_lc, links_lc):\n",
    "    life_list.append(my_items)\n",
    "\n",
    "life_list"
   ]
  },
  {
   "cell_type": "code",
   "execution_count": 41,
   "id": "7b96e793-5c2d-47e9-b116-10f69b3b51b8",
   "metadata": {},
   "outputs": [
    {
     "data": {
      "text/html": [
       "<div>\n",
       "<style scoped>\n",
       "    .dataframe tbody tr th:only-of-type {\n",
       "        vertical-align: middle;\n",
       "    }\n",
       "\n",
       "    .dataframe tbody tr th {\n",
       "        vertical-align: top;\n",
       "    }\n",
       "\n",
       "    .dataframe thead th {\n",
       "        text-align: right;\n",
       "    }\n",
       "</style>\n",
       "<table border=\"1\" class=\"dataframe\">\n",
       "  <thead>\n",
       "    <tr style=\"text-align: right;\">\n",
       "      <th></th>\n",
       "      <th>Product</th>\n",
       "      <th>Cost</th>\n",
       "      <th>More Info</th>\n",
       "    </tr>\n",
       "  </thead>\n",
       "  <tbody>\n",
       "    <tr>\n",
       "      <th>0</th>\n",
       "      <td>Plant 1</td>\n",
       "      <td>10</td>\n",
       "      <td>http://example.com/plant1</td>\n",
       "    </tr>\n",
       "    <tr>\n",
       "      <th>1</th>\n",
       "      <td>Plant 2</td>\n",
       "      <td>20</td>\n",
       "      <td>http://example.com/plant2</td>\n",
       "    </tr>\n",
       "    <tr>\n",
       "      <th>2</th>\n",
       "      <td>Plant 3</td>\n",
       "      <td>30</td>\n",
       "      <td>http://example.com/plant3</td>\n",
       "    </tr>\n",
       "    <tr>\n",
       "      <th>3</th>\n",
       "      <td>Animal 1</td>\n",
       "      <td>500</td>\n",
       "      <td>http://example.com/animal1</td>\n",
       "    </tr>\n",
       "    <tr>\n",
       "      <th>4</th>\n",
       "      <td>Animal 2</td>\n",
       "      <td>600</td>\n",
       "      <td>http://example.com/animal2</td>\n",
       "    </tr>\n",
       "    <tr>\n",
       "      <th>5</th>\n",
       "      <td>Animal 3</td>\n",
       "      <td>700</td>\n",
       "      <td>http://example.com/animal3</td>\n",
       "    </tr>\n",
       "  </tbody>\n",
       "</table>\n",
       "</div>"
      ],
      "text/plain": [
       "    Product  Cost                   More Info\n",
       "0   Plant 1    10   http://example.com/plant1\n",
       "1   Plant 2    20   http://example.com/plant2\n",
       "2   Plant 3    30   http://example.com/plant3\n",
       "3  Animal 1   500  http://example.com/animal1\n",
       "4  Animal 2   600  http://example.com/animal2\n",
       "5  Animal 3   700  http://example.com/animal3"
      ]
     },
     "execution_count": 41,
     "metadata": {},
     "output_type": "execute_result"
    }
   ],
   "source": [
    "df = pd.DataFrame(life_list)\n",
    "df.columns = [\"Product\", \"Cost\", \"More Info\"]\n",
    "df"
   ]
  },
  {
   "cell_type": "code",
   "execution_count": null,
   "id": "a113cc7c-955e-45dd-9417-bf378bb148bd",
   "metadata": {},
   "outputs": [],
   "source": []
  }
 ],
 "metadata": {
  "kernelspec": {
   "display_name": "Python 3 (ipykernel)",
   "language": "python",
   "name": "python3"
  },
  "language_info": {
   "codemirror_mode": {
    "name": "ipython",
    "version": 3
   },
   "file_extension": ".py",
   "mimetype": "text/x-python",
   "name": "python",
   "nbconvert_exporter": "python",
   "pygments_lexer": "ipython3",
   "version": "3.11.8"
  }
 },
 "nbformat": 4,
 "nbformat_minor": 5
}
