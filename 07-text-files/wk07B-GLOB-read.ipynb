{
 "cells": [
  {
   "cell_type": "markdown",
   "metadata": {
    "id": "GZacCx2Yzims"
   },
   "source": [
    "# Grabbing files\n",
    "\n",
    "When we scrape and download documents (or if we receive a cache of documents), we'll need to read and analyze them.\n",
    "\n",
    "We might want quantify elements in the unstructured data and transfer to a spreadsheet. There are different ways to do that, but first a document has to be **read**.\n",
    "\n",
    "\n",
    "- [Download the sample files](https://drive.google.com/file/d/1wPknfzabti49EKxv9zAFkso_g2HrniQp/view?usp=share_link) we will need and place in the same folder as your ```.ipynb``` file."
   ]
  },
  {
   "cell_type": "code",
   "execution_count": 1,
   "metadata": {},
   "outputs": [],
   "source": [
    "## importing libraries\n",
    "import glob"
   ]
  },
  {
   "cell_type": "code",
   "execution_count": 2,
   "metadata": {},
   "outputs": [
    {
     "data": {
      "text/plain": [
       "['demo-docs/fla_count_as_of_2020-08-19_time_12_31_00.csv']"
      ]
     },
     "execution_count": 2,
     "metadata": {},
     "output_type": "execute_result"
    }
   ],
   "source": [
    "## grab a single csv file\n",
    "glob.glob(\"demo-docs/fla_count_as_of_2020-08-19_time_12_31_00.csv\")"
   ]
  },
  {
   "cell_type": "code",
   "execution_count": 3,
   "metadata": {},
   "outputs": [
    {
     "data": {
      "text/plain": [
       "['demo-docs/fla_count_as_of_2020-08-19_time_11_46_00.csv',\n",
       " 'demo-docs/fla_count_as_of_2020-08-19_time_12_16_00.csv',\n",
       " 'demo-docs/fla_count_as_of_2020-08-19_time_12_31_00.csv',\n",
       " 'demo-docs/fla_count_as_of_2020-08-19_time_12_01_00.csv']"
      ]
     },
     "execution_count": 3,
     "metadata": {},
     "output_type": "execute_result"
    }
   ],
   "source": [
    "## grab only csv files where the filenames start with fl\n",
    "glob.glob(\"demo-docs/fl*.csv\")\n",
    "# glob.glob(\"demo-docs/fl*\") also works to get all files regardless of filetype"
   ]
  },
  {
   "cell_type": "code",
   "execution_count": 4,
   "metadata": {},
   "outputs": [
    {
     "data": {
      "text/plain": [
       "['demo-docs/adolph-coors-2015.pdf',\n",
       " 'demo-docs/adolph-coors-2014.pdf',\n",
       " 'demo-docs/adolph-coors-2013.pdf']"
      ]
     },
     "execution_count": 4,
     "metadata": {},
     "output_type": "execute_result"
    }
   ],
   "source": [
    "## grab all pdf files\n",
    "glob.glob(\"demo-docs/*.pdf\")"
   ]
  },
  {
   "cell_type": "code",
   "execution_count": 5,
   "metadata": {},
   "outputs": [
    {
     "data": {
      "text/plain": [
       "['demo-docs/fla_count_as_of_2020-08-19_time_11_46_00.csv',\n",
       " 'demo-docs/fla_count_as_of_2020-08-19_time_12_16_00.csv',\n",
       " 'demo-docs/adolph-coors-2015.pdf',\n",
       " 'demo-docs/adolph-coors-2014.pdf',\n",
       " 'demo-docs/adolph-coors-2013.pdf',\n",
       " 'demo-docs/fla_count_as_of_2020-08-19_time_12_31_00.csv',\n",
       " 'demo-docs/read_sample2.txt',\n",
       " 'demo-docs/read_sample1.txt',\n",
       " 'demo-docs/pa_count_as_of_2020-08-19_time_11_31_00.csv',\n",
       " 'demo-docs/fla_count_as_of_2020-08-19_time_12_01_00.csv']"
      ]
     },
     "execution_count": 5,
     "metadata": {},
     "output_type": "execute_result"
    }
   ],
   "source": [
    "## grab all the files!\n",
    "glob.glob(\"demo-docs/*\")"
   ]
  },
  {
   "cell_type": "code",
   "execution_count": 6,
   "metadata": {},
   "outputs": [
    {
     "data": {
      "text/plain": [
       "['demo-docs/read_sample2.txt', 'demo-docs/read_sample1.txt']"
      ]
     },
     "execution_count": 6,
     "metadata": {},
     "output_type": "execute_result"
    }
   ],
   "source": [
    "# grab text files only\n",
    "my_text_files = glob.glob(\"demo-docs/*txt\")\n",
    "my_text_files"
   ]
  },
  {
   "cell_type": "code",
   "execution_count": 7,
   "metadata": {},
   "outputs": [
    {
     "data": {
      "text/plain": [
       "'demo-docs/read_sample2.txt'"
      ]
     },
     "execution_count": 7,
     "metadata": {},
     "output_type": "execute_result"
    }
   ],
   "source": [
    "my_text_files[0]"
   ]
  },
  {
   "cell_type": "markdown",
   "metadata": {},
   "source": [
    "# Reading files"
   ]
  },
  {
   "cell_type": "markdown",
   "metadata": {},
   "source": [
    "We can interpret `<class '_io.TextIOWrapper'>` to read actual contents using the followng:\n",
    "\n",
    "`.read()` reads some entire document\n",
    "\n",
    "`.read(some_integer)` gives you a certain number of characters\n",
    "\n",
    "`.readline()` gives the first line, shows each line as part of a list\n",
    "\n",
    "`.readline(some_integer)` returns the next line up to the total number of returned bytes"
   ]
  },
  {
   "cell_type": "code",
   "execution_count": 8,
   "metadata": {},
   "outputs": [
    {
     "name": "stdout",
     "output_type": "stream",
     "text": [
      "<class '_io.TextIOWrapper'>\n"
     ]
    }
   ],
   "source": [
    "with open(\"demo-docs/read_sample2.txt\", \"r\") as my_text:\n",
    "    print(type(my_text))"
   ]
  },
  {
   "cell_type": "code",
   "execution_count": 9,
   "metadata": {},
   "outputs": [
    {
     "name": "stdout",
     "output_type": "stream",
     "text": [
      "New Zealand to Reduce Covid Self-Isolation Period to Seven Days\n",
      "ByTracy Withers\n",
      "\n",
      "New Zealand will reduce the isolation period for Covid-19 cases and their household contacts to seven days in order to get more people back to work.\n",
      "\n",
      "The period will reduce from 10 days effective at 11:59 p.m. on Friday March 11 in Wellington, Minister for Covid Response Chris Hipkins said in a statement.\n",
      "\n"
     ]
    }
   ],
   "source": [
    "## read and print entire file\n",
    "with open(my_text_files[0], \"r\") as my_text:\n",
    "    print(my_text.read())"
   ]
  },
  {
   "cell_type": "code",
   "execution_count": 10,
   "metadata": {},
   "outputs": [
    {
     "name": "stdout",
     "output_type": "stream",
     "text": [
      "New Zealand to Reduce Covid Self-Isolation Period \n"
     ]
    }
   ],
   "source": [
    "## read and print entire file\n",
    "with open(my_text_files[0], \"r\") as my_text:\n",
    "    print(my_text.read(50)) # gives you the first 50 characters"
   ]
  },
  {
   "cell_type": "markdown",
   "metadata": {},
   "source": [
    "# Saving myfile object inside a variable"
   ]
  },
  {
   "cell_type": "code",
   "execution_count": 11,
   "metadata": {},
   "outputs": [],
   "source": [
    "## read and hold the firsr 50 characters in a variable\n",
    "with open(my_text_files[1], \"r\") as my_text:\n",
    "    text50 = my_text.read(50)"
   ]
  },
  {
   "cell_type": "code",
   "execution_count": 12,
   "metadata": {},
   "outputs": [
    {
     "data": {
      "text/plain": [
       "'McDonald’s, Coca-Cola Hit Pause on Russia Amid Ris'"
      ]
     },
     "execution_count": 12,
     "metadata": {},
     "output_type": "execute_result"
    }
   ],
   "source": [
    "text50"
   ]
  },
  {
   "cell_type": "code",
   "execution_count": 13,
   "metadata": {},
   "outputs": [],
   "source": [
    "## read the first line into a variable\n",
    "with open(my_text_files[1], \"r\") as my_text:\n",
    "    first_line = my_text.readline()"
   ]
  },
  {
   "cell_type": "code",
   "execution_count": 14,
   "metadata": {},
   "outputs": [
    {
     "data": {
      "text/plain": [
       "'McDonald’s, Coca-Cola Hit Pause on Russia Amid Rising Backlash\\n'"
      ]
     },
     "execution_count": 14,
     "metadata": {},
     "output_type": "execute_result"
    }
   ],
   "source": [
    "first_line"
   ]
  },
  {
   "cell_type": "code",
   "execution_count": 15,
   "metadata": {},
   "outputs": [],
   "source": [
    "## read the whole thing into a variable\n",
    "with open(my_text_files[1], \"r\") as my_text:\n",
    "    all_text = my_text.read()"
   ]
  },
  {
   "cell_type": "code",
   "execution_count": 16,
   "metadata": {},
   "outputs": [
    {
     "data": {
      "text/plain": [
       "'McDonald’s, Coca-Cola Hit Pause on Russia Amid Rising Backlash\\nBy Leslie Patton and Brendan Case\\n\\nMcDonald’s Corp., Coca-Cola Co. and Starbucks Corp. are temporarily halting business operations in Russia amid an intensifying backlash since the invasion of Ukraine started nearly two weeks ago. \\n\\nThe iconic U.S. brands, seen around the world as the face of U.S. capitalism, announced their decisions in a flurry of announcements on Tuesday afternoon, joining hundreds of other global companies that have halted work in Russia since the war began. PepsiCo Inc. said it would suspend soft drink sales in Russia but would continue to sell daily essentials such as milk and baby formula.\\n'"
      ]
     },
     "execution_count": 16,
     "metadata": {},
     "output_type": "execute_result"
    }
   ],
   "source": [
    "all_text"
   ]
  },
  {
   "cell_type": "markdown",
   "metadata": {},
   "source": [
    "# It's more useful to save the text object inside a list"
   ]
  },
  {
   "cell_type": "code",
   "execution_count": 17,
   "metadata": {},
   "outputs": [],
   "source": [
    "## store text file into a list\n",
    "with open(my_text_files[1], \"r\") as my_text:\n",
    "    all_text_list = my_text.readlines()"
   ]
  },
  {
   "cell_type": "code",
   "execution_count": 18,
   "metadata": {},
   "outputs": [
    {
     "data": {
      "text/plain": [
       "['McDonald’s, Coca-Cola Hit Pause on Russia Amid Rising Backlash\\n',\n",
       " 'By Leslie Patton and Brendan Case\\n',\n",
       " '\\n',\n",
       " 'McDonald’s Corp., Coca-Cola Co. and Starbucks Corp. are temporarily halting business operations in Russia amid an intensifying backlash since the invasion of Ukraine started nearly two weeks ago. \\n',\n",
       " '\\n',\n",
       " 'The iconic U.S. brands, seen around the world as the face of U.S. capitalism, announced their decisions in a flurry of announcements on Tuesday afternoon, joining hundreds of other global companies that have halted work in Russia since the war began. PepsiCo Inc. said it would suspend soft drink sales in Russia but would continue to sell daily essentials such as milk and baby formula.\\n']"
      ]
     },
     "execution_count": 18,
     "metadata": {},
     "output_type": "execute_result"
    }
   ],
   "source": [
    "all_text_list"
   ]
  },
  {
   "cell_type": "markdown",
   "metadata": {},
   "source": [
    "# We can then slice the list"
   ]
  },
  {
   "cell_type": "code",
   "execution_count": 19,
   "metadata": {},
   "outputs": [
    {
     "data": {
      "text/plain": [
       "'McDonald’s, Coca-Cola Hit Pause on Russia Amid Rising Backlash\\n'"
      ]
     },
     "execution_count": 19,
     "metadata": {},
     "output_type": "execute_result"
    }
   ],
   "source": [
    "headline = all_text_list[0]\n",
    "headline"
   ]
  },
  {
   "cell_type": "code",
   "execution_count": 20,
   "metadata": {},
   "outputs": [
    {
     "data": {
      "text/plain": [
       "'By Leslie Patton and Brendan Case'"
      ]
     },
     "execution_count": 20,
     "metadata": {},
     "output_type": "execute_result"
    }
   ],
   "source": [
    "byline = all_text_list[1]\n",
    "byline.rstrip()"
   ]
  },
  {
   "cell_type": "code",
   "execution_count": null,
   "metadata": {},
   "outputs": [],
   "source": []
  }
 ],
 "metadata": {
  "colab": {
   "collapsed_sections": [],
   "name": "week-8B-file_folder_GLOB_READ_BLANK.ipynb",
   "provenance": [
    {
     "file_id": "1gCGeYOc9hI-v5dNhehTH_FE0g5UNiLW6",
     "timestamp": 1646785019864
    },
    {
     "file_id": "1kqd4HicmAldE-DZBOgLQjchxim-GVwYN",
     "timestamp": 1628626905369
    },
    {
     "file_id": "1C3xH08V3tJClZ_nWy3bNSUqRKcdYSC-f",
     "timestamp": 1620827792051
    }
   ]
  },
  "kernelspec": {
   "display_name": "Python 3 (ipykernel)",
   "language": "python",
   "name": "python3"
  },
  "language_info": {
   "codemirror_mode": {
    "name": "ipython",
    "version": 3
   },
   "file_extension": ".py",
   "mimetype": "text/x-python",
   "name": "python",
   "nbconvert_exporter": "python",
   "pygments_lexer": "ipython3",
   "version": "3.11.8"
  }
 },
 "nbformat": 4,
 "nbformat_minor": 4
}
